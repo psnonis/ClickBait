{
 "cells": [
  {
   "cell_type": "markdown",
   "metadata": {},
   "source": [
    "# w261 Final Project - Click-through Rate Prediction\n"
   ]
  },
  {
   "cell_type": "markdown",
   "metadata": {},
   "source": [
    "Team 14   \n",
    "Brian Musisi, Pri Nonis, Vinicio Del Sola, Laura Chutny   \n",
    "Fall 2019, Section 3"
   ]
  },
  {
   "cell_type": "markdown",
   "metadata": {},
   "source": [
    "## Table of Contents\n",
    "\n",
    "* __Section 1__ - Question Formulation\n",
    "* __Section 2__ - Algorithm Explanation\n",
    "* __Section 3__ - EDA & Challenges\n",
    "* __Section 4__ - Algorithm Implementation\n",
    "* __Section 5__ - Course Concepts"
   ]
  },
  {
   "cell_type": "markdown",
   "metadata": {},
   "source": [
    "# __Section 1__ - Question Formulation"
   ]
  },
  {
   "cell_type": "markdown",
   "metadata": {},
   "source": [
    "## 1.1 Question\n",
    "\n",
    "Advertisers on websites make money when people click on an ad, visit the advertiser's site and then purchase something. This means that understanding the rate (or probability) at which people click on an ad is important - higher 'click-through' rates have the potential for more revenue. This study will not address the next step, which is how an advertiser converts a person who has 'clicked-through' to their site into a paying customer. Instead, our question is how to predict the click through rate for a given (unseen) ad based on the training data supplied to the model. In other words, for a given ad, what is the probability that a person will click on the ad? Ads cost money, so advertisers need to know which ads will generate more clicks and thus which ads are more valuable to the advertiser."
   ]
  },
  {
   "cell_type": "markdown",
   "metadata": {},
   "source": [
    "## 1.2 Data\n",
    "\n",
    "In 2014, Criteo introduced a Click Through Rate challenge on Kaggle [**2**], using a set of ads served by Criteo[**1**]. Each line is the serving of one ad and the training set comes from a period of 7 days. They are labeled as 1 if the ad was clicked on and 0 if the ad was not. The data was subsampled before being placed into the competition, so the dataset is smaller, and the percentage of '1's are higher than in the original data. This is the dataset we will use for the analysis in this report. Note that we will not submit to the Kaggle competition and we are not using their testing data, only the training set. Click Through Rate is defined as the number of ads that are clicked on as a fraction of the total impressions of ads that are viewed. In this case, each example in the dataset is an impression of the ad.\n"
   ]
  },
  {
   "cell_type": "markdown",
   "metadata": {},
   "source": [
    "This is a classification problem - a 'positive' result (1) if the ad is clicked on and a 'negative' result (0) if the ad is not clicked on. There is a large imbalance between classes - far more impressions (views of the ad) with no click (0) than impressions which result in a click (1). In this instance we need to decide between false positives (type 1 error - where we predict a click that did not actually happen) and false negatives (type 2 errors - where we do not predict a click when there actually was one). Because advertisers pay more for ads that are clicked, we want to be conservative in our predictions, and avoid false positives.\n",
    "\n",
    "The data itself is a combination of numerical and categorical features. Each row contains the label ($y$) which is either 1, or 0. Next are 13 numerical variables, i01-i13, which contain positive, negative and zero valued integers. Finally, there are 26 columns of categorical features - c1-c26. The values of these features have been hashed onto 32 bits for anonymization purposes. We have no descriptors of the data columns or features, and no indication if it was originally ranked data or not, and thus we have chosen to approach it as if unranked. All decisions in feature engineering are made purely from the frequency and relative importance of the feature values, as there is no subject matter expertise to inform feature selection. There are 45,842,555 total examples in the dataset."
   ]
  },
  {
   "cell_type": "markdown",
   "metadata": {},
   "source": [
    "## 1.3 Evaluation Metric   \n",
    "\n",
    "Finally, we must consider how we will evaluate the performance of our model(s). For evaulation of binary classification, especially with the (potentially) highly skewed values in a click-through rate problem, accuracy is not a good measure. For example, we could have excellent accuracy by predicting 100% of the test examples as 0, while the true number might be 96% - so we would have a great accuracy of 96%, but in actual fact, we would have missed out predicting the actual positive values in the remaining 4%. \n",
    "\n",
    "Note that below, TP = True Positive, FP = False Positive, TN = True Negative and FN = False Negative.  \n",
    "\n",
    "Instead, if we set a goal of limiting the false positive predictions, precision, defined as $P = \\dfrac{TP}{(TP + FP)}$ will work well. We would trade gains in precision with minimizing the number of false negatives, otherwise known as sensitivity or recall: $R = \\dfrac{TP}{(TP + FN)}$. Luckily for us, there is a nice metric that is defined as the 'F-score' which combines the optimized precision and sensitivity, and we get: $F = 2\\cdot \\dfrac{P\\cdot R}{P+R}$. F-score would be a perfectly acceptable metric to use, except it is a single number.\n",
    "\n",
    "When we are optimizing over hyperparameters, we would like to understand a little better what the optimum is for different ratios of true and false positives. If we plot the way the true and false positive rates change for a given model, we get what is known as a 'receiver operating characteristic curve' (or ROC curve) as shown in Figure 1. The ROC plots the true-positive rate against the false-positive rate. As the ROC becomes more concave, the achievable true positive rate for a given false positive rate increases, as does the area under the curve (AUC). In the following diagram, curve 'A' has a larger AUC and as can be seen, a higher true positive rate for a given false positive rate.\n",
    "\n",
    "\n",
    "<figure>\n",
    "  <img src=\"assets/ROC.png\" width=\"350\">\n",
    "    <figcaption> <b>Figure 1. Receiver Operating Characteristic Curve [3]</b> </figcaption>\n",
    "</figure>\n",
    "\n",
    "\n",
    "\n",
    "\n",
    "Another way to say this, as summarized on Wikipedia [__4__], is that the AUC is \"equal to the probability that a classifier will rank a randomly chosen positive instance higher than a randomly chosen negative one\".  The 2nd place winner of the Criteo Kaggle competition had an AUC of 0.8097 [__5__], also another attempt at prediction on the Criteo dataset reported an AUC of 0.79 [__6__].  Given this data, we believe that obtaining an AUC of 0.75 or better would be a really useful result for advertisers.\n",
    "See [**7**] for more details."
   ]
  },
  {
   "cell_type": "markdown",
   "metadata": {},
   "source": [
    "__References - Section 1__  \n",
    "\n",
    "[1] “Kaggle Display Advertising Challenge Dataset,” Criteo Labs, 10-Feb-2014. [Online]. Available: https://labs.criteo.com/2014/02/kaggle-display-advertising-challenge-dataset/. [Accessed: 11-Dec-2019].  \n",
    "[2] “Display Advertising Challenge.” [Online]. Available: https://kaggle.com/c/criteo-display-ad-challenge. [Accessed: 11-Dec-2019].  \n",
    "[3] M. E. Cross and E. V. E. Plunkett, “Receiver operating characteristic curve,” in Physics, Pharmacology and Physiology for Anaesthetists: Key Concepts for the FRCA, 2nd ed., Cambridge: Cambridge University Press, 2014, pp. 369–369.  \n",
    "[4] “Receiver Operating Characteristic,” wikipedia.org, Nov-2019. [Online]. Available: https://en.wikipedia.org/wiki/Receiver_operating_characteristic.<br/>\n",
    "[5] M. Jahrer, “Can anyone tell me the AUC of benchmark model ?,” kaggle.com, 2014. [Online]. Available: https://www.kaggle.com/c/criteo-display-ad-challenge/discussion/9821.<br/>\n",
    "[6] wormhole developers, “Binary Classification on the Criteo CTR Dataset,” wormhole.readthedocs.io, 2015. [Online]. Available: https://wormhole.readthedocs.io/en/latest/tutorial/criteo_kaggle.html.<br/>\n",
    "[7] S. Narkhede, “Understanding AUC - ROC Curve,” Medium, 26-May-2019. [Online]. Available: https://towardsdatascience.com/understanding-auc-roc-curve-68b2303cc9c5. [Accessed: 11-Dec-2019].\n"
   ]
  },
  {
   "cell_type": "markdown",
   "metadata": {},
   "source": [
    "# __Section 2__ - Algorithm Explanation"
   ]
  },
  {
   "cell_type": "markdown",
   "metadata": {},
   "source": [
    "## 2.1 Algorithm - Support Vector Machine  \n",
    "There are many possible choices of algorithm for binary classification problems. Logistic Regression, Decision Tree / Decision Tree Forest, Support Vector Machine (SVM), and Factorization Machine have each proven to be worthy choices. In this project, for our toy model and main algorithm, we decided to focus on the SVM, as this algorithm had not been focused on in the original Kaggle Criteo competition. We will also investigate the performance on many algorithms.\n",
    "\n",
    "The Support Vector Machine is an algorithm that divides a set of data into two classes. In 2 dimensions, we can think of this as a line separating the classes. What the SVM allows us to do is extend this concept to different dimensions (i.e. feature space) and create a 'best-fit' hyperplane to separate the classes. The transformation to a different dimensional space is called a kernel.\n",
    "\n",
    "The prediction of the class (where class is redefined from $y_i \\in \\{0, 1\\}$ to $y_i \\in \\{-1, 1\\}$) in this case will be done with a linear kernel - i.e. a linear hyperplane where the hyperplane equation is $\\left(w^\\top x_i+b\\right)$:  \n",
    "\n",
    "$$ class =  y_i\\left(w^\\top x_i +b\\right)_+ $$  \n",
    "\n",
    "where:  \n",
    "\n",
    "$$\n",
    "class  = \\left\\{\n",
    "        \\begin{array}{ll}\n",
    "            1, & \\quad \\text{if} \\quad \\left(w^\\top x_i+b\\right) \\geq 1 \\\\\n",
    "            -1, & \\quad \\text{if} \\quad \\left(w^\\top x_i+b\\right) \\leq -1\n",
    "        \\end{array}\n",
    "    \\right.\n",
    "$$\n",
    "\n",
    "\n",
    "The goal in Support Vector Machines is to maximize the distance between the hyperplane and any of the examples, in otherwords, maximize the 'margin' [**1**]. The margin can be thought of in two dimensions as shown in the Figure 2:\n",
    "\n",
    "<figure>\n",
    "  <img src=\"assets/SVM_Margin.png\" width=\"350\">\n",
    "    <figcaption> <b>Figure 2. Support Vector Machine Margin [2]</b> </figcaption>\n",
    "</figure>\n",
    "\n",
    "From trigonometry and vector algebra, we can compute the distance between the two margins by adding the perpendicular distances from the positive and negative margins to the hyperplane that solves $\\left(w^\\top x_i+b\\right)=0$. This distance, the margin, we will denote as $\\frac{2}{\\parallel w\\parallel }$. This allows us to say that in order to maximize the margin, we must minimize $\\parallel w\\parallel$. In order to maintain differentiability, we will actually minimize $\\parallel w\\parallel^2$, because the same value of $w$ satisifies both minimizations. Note that the edges of the margins are defined by what we call the 'support' vectors, hence the name for the algorithm. Points away from the edges do not contribute to the solution.\n",
    "\n",
    "This allows us to write what is called the 'hard-margin' Support Vector Machine. The objective function is:\n",
    "\n",
    "$$\\underset{w}{min}(J\\text{'}(w))=\\underset{}{\\underset{w}{min}(\\frac{\\lambda }{2})\\parallel w{\\parallel }^{2}}$$   \n",
    "such that   $$y_i\\left(w^\\top x_i +b\\right)\\ge 1$$  \n",
    "\n",
    "This is called a 'hard-margin' SVM, because the data have to be on one or the other side of our hyperplane margins. Unfortunately, the world is not usually that kind - we may be able to separate a large amount of our data with the hyperplane, but there will still be some samples that just aren't classified correctly, no matter where we place the hyperplane. For this reason, we need to allow some 'slack', or 'softness' in the margin. In order to achieve this we introduce the Hinge Loss function for the Soft Margin SVM:\n",
    "\n",
    "$${\\mathscr{L}}^{Hinge}=max\\left[0,\\left(1-{y}_{i}\\left({w}^{T}{x}_{i}+b\\right)\\right)\\right]={\\left(1 - y_i\\left(w^\\top x_i +b\\right)\\right)_+}$$\n",
    "\n",
    "This allows us to assign a loss of zero for correctly classified points far away from the boundary of the margin, but to assign larger errors to points within the margin or that are incorrectly classified [**3**]. This is best understood with Figure 3:\n",
    "\n",
    "<figure>\n",
    "  <img src=\"assets/loss-hinge.png\" width=\"350\">\n",
    "    <figcaption> <b>Figure 3. Hinge Loss [4]</b> </figcaption>\n",
    "</figure>\n",
    "\n",
    "Finally, we combine the loss function with our objective function to get our final objective for minimzation in the soft margin SVM (and we take the average of the losses over all the examples in the dataset):\n",
    "\n",
    "$$\\underset{w,b}{min}(J(w,b))=\\underset{w, b}{\\text{min }} \\frac{\\lambda}{2}\\left\\|w\\right\\|_2^2 + \\frac{1}{n}\\sum_{i=1}^{N}{\\left(1 - y_i\\left(w^\\top x_i +b\\right)\\right)_+}$$\n",
    "\n",
    "Interestingly, we can look at the above equation in the same way as we see a cost function with regularizer, and think of $\\lambda$ as the regularization paramter here.\n",
    "\n",
    "## 2.2 Gradient Descent  \n",
    "\n",
    "In order to solve for our weights and bias ($w$,$b$) that minimize our objective function, we will use gradient descent. In order to determine the update rule, we must take the derivative of the function. This is written in two parts (the derivative of a sum is the sum of derivatives):\n",
    "\n",
    "First the regularizer, or margin part:\n",
    "$$\n",
    "\\frac{\\partial}{\\partial \\omega} \\frac{\\lambda}{2}\\left\\|w\\right\\|_2^2 = \\lambda w\n",
    "$$  \n",
    "\n",
    "Then, the hyperplane location:\n",
    "\n",
    "$$\n",
    "\\frac{\\partial}{\\partial \\omega} {\\left(1 - y_i\\left(w^\\top x_i+b\\right)\\right)_+}  = \\left\\{\n",
    "        \\begin{array}{ll}\n",
    "            0 & \\quad \\text{if} \\quad y_i\\left(w^\\top x_i+b\\right) \\geq 1 \\\\\n",
    "            -y_ix_i , & \\quad otherwise\n",
    "        \\end{array}\n",
    "    \\right.\n",
    "$$\n",
    "\n",
    "Thus, when a point is correctly classified, it only contributes to the regularization term, it does not contribute to the gradient of the hyperplane, i.e. it does not contribute to the 'support vector'. When a point is incorrectly classified, we update the weights with terms from both the regularizer and the hyperplane gradient."
   ]
  },
  {
   "cell_type": "markdown",
   "metadata": {},
   "source": [
    "## 2.3 Toy Example\n",
    "\n",
    "Our toy example is presented with our homegrown SVM algorithm in Section 4 below. It can also be found in the [Homegrown Notebook - Kombucha](./book/KombuchaModel.ipynb). For our Toy data we took a random sample of 8000 rows from the given training data set and checked that the 1/0 label distribution was similar to the original set."
   ]
  },
  {
   "cell_type": "markdown",
   "metadata": {},
   "source": [
    "__References - Section 2__  \n",
    "\n",
    "[1] H. Daumé, A Course in Machine Learning. 2017.  \n",
    "[2] K. K. Mahto, “Demystifying Maths of SVM,” Medium, 18-Apr-2019. [Online]. Available: https://towardsdatascience.com/demystifying-maths-of-svm-13ccfe00091e. [Accessed: 11-Dec-2019].  \n",
    "[3] A. Hertzmann, D. J. Fleet, and M. Brubaker, “SupportVectorMachines from CSC411 Notes,” University of Toronto, 2015. Available: http://www.cs.toronto.edu/~mbrubake/teaching/C11/Handouts/SupportVectorMachines.pdf. [Accessed: 11-Dec-2019].  \n",
    "[4] “CS 221 - Reflex-based Models Cheatsheet.” [Online]. Available: https://stanford.edu/~shervine/teaching/cs-221/cheatsheet-reflex-models. [Accessed: 11-Dec-2019].  \n",
    "\n",
    "\n",
    "\n"
   ]
  },
  {
   "cell_type": "markdown",
   "metadata": {},
   "source": [
    "# __Section 3__ - EDA & Challenges"
   ]
  },
  {
   "cell_type": "markdown",
   "metadata": {},
   "source": [
    "## 3.1 Load Data"
   ]
  },
  {
   "cell_type": "markdown",
   "metadata": {},
   "source": [
    "The data from the Criteo 'train' set was split before any Exploratory Data Analysis (EDA) into Training/Validation/Test files, at an 80/10/10 ratio. Thus we have 36,673,203 examples in our 'Training' set, and 4,584,676 examples in each of our Validation(Dev) and Test sets. We held out the test set to use for the final model comparisons."
   ]
  },
  {
   "cell_type": "code",
   "execution_count": 2,
   "metadata": {},
   "outputs": [],
   "source": [
    "from code.engineering import *"
   ]
  },
  {
   "cell_type": "code",
   "execution_count": 5,
   "metadata": {},
   "outputs": [
    {
     "name": "stdout",
     "output_type": "stream",
     "text": [
      "[18:16:35] : Starting Spark Initialization\n",
      "[18:16:40] : Stopping Spark Initialization\n",
      "\n"
     ]
    }
   ],
   "source": [
    "Engineering.setupSpark(application = 'eda')"
   ]
  },
  {
   "cell_type": "code",
   "execution_count": 6,
   "metadata": {},
   "outputs": [
    {
     "name": "stdout",
     "output_type": "stream",
     "text": [
      "[18:16:42] : Starting Data Import\n",
      "[18:16:42] : Stopping Data Import\n",
      "\n"
     ]
    }
   ],
   "source": [
    "Engineering.importData(location = 'data')"
   ]
  },
  {
   "cell_type": "code",
   "execution_count": 7,
   "metadata": {},
   "outputs": [
    {
     "name": "stdout",
     "output_type": "stream",
     "text": [
      "[18:16:44] : Starting Data Splits\n",
      "[18:16:47] : Stopping Data Splits\n",
      "\n"
     ]
    }
   ],
   "source": [
    "Engineering.splitsData(ratios = [0.8, 0.1, 0.1])"
   ]
  },
  {
   "cell_type": "markdown",
   "metadata": {},
   "source": [
    "## 3.2 Basic EDA"
   ]
  },
  {
   "cell_type": "markdown",
   "metadata": {},
   "source": [
    "### 3.2.1 Numerical Variables"
   ]
  },
  {
   "cell_type": "markdown",
   "metadata": {},
   "source": [
    "The basic statistics for all the numerical variables were first run and reported, as shown in Table 1. Median and skewness were added. i01-i13 are the numerical variables. ctr is the 'y' value - the click through rate, or label.\n",
    "\n",
    "The work was done in the [Numerical Scaling](./book/NumericalScaling.ipynb) workbook. \n",
    "\n",
    "<figure>\n",
    "  <img src=\"assets/NumericalStats.png\" width=\"550\">\n",
    "    <figcaption> <b>Table 1 Numerical Feature Statistics Training Set</b> </figcaption>\n",
    "</figure>\n"
   ]
  },
  {
   "cell_type": "markdown",
   "metadata": {},
   "source": [
    "Once the basic statistics were complete, the following steps were taken to analyse the structure of the numerical variables:  \n",
    "\n",
    "1) Plot histograms and scatter plots of each variable, along with a box plot and violin plot of a 10% sample of each variable.  \n",
    "2) Determine the distribution of each variable  \n",
    "3) Apply a scaling for each variable. \n",
    "\n",
    "An example of the plots is shown in Figure 4 below.\n",
    " \n",
    "Variables are scaled not to create 'normal' variables, but to bring the range of values into a region of approximately (-1,3) so that machine learning techniques could be applied without forcing any weights to be too large or too small. Depending on the algorithm, sometimes this makes a difference. Table 2 shows the variable, the distribution as observed, and the scaling applied."
   ]
  },
  {
   "attachments": {
    "num_plots.png": {
     "image/png": "[encoded data removed]"
    }
   },
   "cell_type": "markdown",
   "metadata": {},
   "source": [
    "![num_plots.png](attachment:num_plots.png)\n",
    "**Figure 4 - Example of plots for Numerical Variable Scaling**"
   ]
  },
  {
   "cell_type": "markdown",
   "metadata": {},
   "source": [
    "| Numerical Variable | Distribution Type          | Scaling                  |\n",
    "|--------------------|----------------------------|--------------------------|\n",
    "| i01                | Exponentially Decreasing   | i01' = i01/(2*SD)        |\n",
    "| i02                | Truncated Skewed Normal    | i02' = (i02 - median)/SD |\n",
    "| i03                | Exponentially Decreasing   | i03' = i03/SD            |\n",
    "| i04                | Truncated Skewed Normal    | i04' = (i04-median)/SD   |\n",
    "| i05                | Truncated Skewed Normal    | i05' = (i05-median)/SD   |\n",
    "| i06                | Exponentially Decreasing   | i06' = i06/2*SD          |\n",
    "| i07                | Exponentially Decreasing   | i07' = i07/2*SD          |\n",
    "| i08                | Exponentially Decreasing   | i08' = i08/2*SD          |\n",
    "| i09                | Truncated Skewed Normal    | i09' = (i09-median)/SD   |\n",
    "| i10                | Sigmoid                    | i10' = i10/Max(i10)      |\n",
    "| i11                | Truncated Skewed Normal    | i11' = (i11-median)/SD   |\n",
    "| i12                | Exponentially Decreasing   | i12' = i12/2*SD          |\n",
    "| i13                | Truncated Skewed Normal    | i13' = (i13-median)/SD   |  \n",
    "**Table 2 - Scaling Applied to Numeric Features**"
   ]
  },
  {
   "cell_type": "markdown",
   "metadata": {},
   "source": [
    "## 3.2.2 Categor Features"
   ]
  },
  {
   "cell_type": "markdown",
   "metadata": {},
   "source": [
    "The dataset contains 26 categorical features, which we labelled from c01 to c26 based on their oder in the dataset and they had all been hashed. We analyzed these features and found that they had very high cardinality. The number of unique categories for each feature is shown below:"
   ]
  },
  {
   "cell_type": "code",
   "execution_count": 37,
   "metadata": {},
   "outputs": [
    {
     "data": {
      "text/html": [
       "<div>\n",
       "<style scoped>\n",
       "    .dataframe tbody tr th:only-of-type {\n",
       "        vertical-align: middle;\n",
       "    }\n",
       "\n",
       "    .dataframe tbody tr th {\n",
       "        vertical-align: top;\n",
       "    }\n",
       "\n",
       "    .dataframe thead th {\n",
       "        text-align: right;\n",
       "    }\n",
       "</style>\n",
       "<table border=\"1\" class=\"dataframe\">\n",
       "  <thead>\n",
       "    <tr style=\"text-align: right;\">\n",
       "      <th></th>\n",
       "      <th>distinct</th>\n",
       "      <th>frequent</th>\n",
       "      <th>uncommon</th>\n",
       "      <th>top five</th>\n",
       "    </tr>\n",
       "  </thead>\n",
       "  <tbody>\n",
       "    <tr>\n",
       "      <th>c01</th>\n",
       "      <td>1460</td>\n",
       "      <td>23</td>\n",
       "      <td>1437</td>\n",
       "      <td>05db9164, 68fd1e64, 5a9ed9b0, 8cf07265, be589b51</td>\n",
       "    </tr>\n",
       "    <tr>\n",
       "      <th>c02</th>\n",
       "      <td>581</td>\n",
       "      <td>100</td>\n",
       "      <td>481</td>\n",
       "      <td>38a947a1, 207b2d81, 38d50e09, 1cfdf714, 287130e0</td>\n",
       "    </tr>\n",
       "    <tr>\n",
       "      <th>c03</th>\n",
       "      <td>8381767</td>\n",
       "      <td>45</td>\n",
       "      <td>8381722</td>\n",
       "      <td>deadbeef, d032c263, 02cf9876, aa8c1539, 9143c832</td>\n",
       "    </tr>\n",
       "    <tr>\n",
       "      <th>c04</th>\n",
       "      <td>1883842</td>\n",
       "      <td>60</td>\n",
       "      <td>1883782</td>\n",
       "      <td>c18be181, deadbeef, 29998ed1, d16679b9, 85dd697c</td>\n",
       "    </tr>\n",
       "    <tr>\n",
       "      <th>c05</th>\n",
       "      <td>305</td>\n",
       "      <td>13</td>\n",
       "      <td>292</td>\n",
       "      <td>25c83c98, 4cf72387, 43b19349, 384874ce, 30903e74</td>\n",
       "    </tr>\n",
       "    <tr>\n",
       "      <th>c06</th>\n",
       "      <td>24</td>\n",
       "      <td>7</td>\n",
       "      <td>17</td>\n",
       "      <td>7e0ccccf, fbad5c96, fe6b92e5, deadbeef, 13718bbd</td>\n",
       "    </tr>\n",
       "    <tr>\n",
       "      <th>c07</th>\n",
       "      <td>12488</td>\n",
       "      <td>62</td>\n",
       "      <td>12426</td>\n",
       "      <td>1c86e0eb, dc7659bd, 7195046d, 5e64ce5f, 468a0854</td>\n",
       "    </tr>\n",
       "    <tr>\n",
       "      <th>c08</th>\n",
       "      <td>633</td>\n",
       "      <td>17</td>\n",
       "      <td>616</td>\n",
       "      <td>0b153874, 5b392875, 1f89b562, 37e4aa92, 062b5529</td>\n",
       "    </tr>\n",
       "    <tr>\n",
       "      <th>c09</th>\n",
       "      <td>3</td>\n",
       "      <td>2</td>\n",
       "      <td>1</td>\n",
       "      <td>a73ee510, 7cc72ec2</td>\n",
       "    </tr>\n",
       "    <tr>\n",
       "      <th>c10</th>\n",
       "      <td>88956</td>\n",
       "      <td>42</td>\n",
       "      <td>88914</td>\n",
       "      <td>3b08e48b, efea433b, fbbf2c95, fa7d0797, 03e48276</td>\n",
       "    </tr>\n",
       "    <tr>\n",
       "      <th>c11</th>\n",
       "      <td>5656</td>\n",
       "      <td>93</td>\n",
       "      <td>5563</td>\n",
       "      <td>755e4a50, e51ddf94, 7f8ffe57, 4d8549da, 8b94178b</td>\n",
       "    </tr>\n",
       "    <tr>\n",
       "      <th>c12</th>\n",
       "      <td>6952733</td>\n",
       "      <td>52</td>\n",
       "      <td>6952681</td>\n",
       "      <td>deadbeef, dfbb09fb, 6aaba33c, 8fe001f4, d8c29807</td>\n",
       "    </tr>\n",
       "    <tr>\n",
       "      <th>c13</th>\n",
       "      <td>3194</td>\n",
       "      <td>105</td>\n",
       "      <td>3089</td>\n",
       "      <td>5978055e, 3516f6e6, 46f42a63, 025225f2, 1aa94af3</td>\n",
       "    </tr>\n",
       "    <tr>\n",
       "      <th>c14</th>\n",
       "      <td>27</td>\n",
       "      <td>13</td>\n",
       "      <td>14</td>\n",
       "      <td>b28479f6, 07d13a8f, 1adce6ef, 64c94865, cfef1c29</td>\n",
       "    </tr>\n",
       "    <tr>\n",
       "      <th>c15</th>\n",
       "      <td>14754</td>\n",
       "      <td>112</td>\n",
       "      <td>14642</td>\n",
       "      <td>2d0bb053, d345b1a0, 3628a186, 10040656, 10935a85</td>\n",
       "    </tr>\n",
       "    <tr>\n",
       "      <th>c16</th>\n",
       "      <td>4590520</td>\n",
       "      <td>58</td>\n",
       "      <td>4590462</td>\n",
       "      <td>deadbeef, 84898b2a, b041b04a, 36103458, c64d548f</td>\n",
       "    </tr>\n",
       "    <tr>\n",
       "      <th>c17</th>\n",
       "      <td>10</td>\n",
       "      <td>9</td>\n",
       "      <td>1</td>\n",
       "      <td>e5ba7672, 07c540c4, d4bb7bd8, 3486227d, 776ce399</td>\n",
       "    </tr>\n",
       "    <tr>\n",
       "      <th>c18</th>\n",
       "      <td>5582</td>\n",
       "      <td>126</td>\n",
       "      <td>5456</td>\n",
       "      <td>e88ffc9d, 891589e7, 2804effd, c21c3e4c, 5aed7436</td>\n",
       "    </tr>\n",
       "    <tr>\n",
       "      <th>c19</th>\n",
       "      <td>2169</td>\n",
       "      <td>22</td>\n",
       "      <td>2147</td>\n",
       "      <td>deadbeef, 21ddcdc9, 55dd3565, 5b885066, 9437f62f</td>\n",
       "    </tr>\n",
       "    <tr>\n",
       "      <th>c20</th>\n",
       "      <td>4</td>\n",
       "      <td>4</td>\n",
       "      <td>0</td>\n",
       "      <td>deadbeef, b1252a9d, 5840adea, a458ea53</td>\n",
       "    </tr>\n",
       "    <tr>\n",
       "      <th>c21</th>\n",
       "      <td>5894178</td>\n",
       "      <td>52</td>\n",
       "      <td>5894126</td>\n",
       "      <td>deadbeef, 0014c32a, 723b4dfd, e587c466, 5f957280</td>\n",
       "    </tr>\n",
       "    <tr>\n",
       "      <th>c22</th>\n",
       "      <td>18</td>\n",
       "      <td>6</td>\n",
       "      <td>12</td>\n",
       "      <td>deadbeef, ad3062eb, c9d4222a, 78e2e389, 8ec974f4</td>\n",
       "    </tr>\n",
       "    <tr>\n",
       "      <th>c23</th>\n",
       "      <td>15</td>\n",
       "      <td>11</td>\n",
       "      <td>4</td>\n",
       "      <td>32c7478e, 3a171ecb, 423fab69, bcdee96c, be7c41b4</td>\n",
       "    </tr>\n",
       "    <tr>\n",
       "      <th>c24</th>\n",
       "      <td>258639</td>\n",
       "      <td>60</td>\n",
       "      <td>258579</td>\n",
       "      <td>3fdb382b, b34f3128, 3b183c5c, 1793a828, deadbeef</td>\n",
       "    </tr>\n",
       "    <tr>\n",
       "      <th>c25</th>\n",
       "      <td>105</td>\n",
       "      <td>19</td>\n",
       "      <td>86</td>\n",
       "      <td>deadbeef, 001f3601, e8b83407, ea9a246c, cb079c2d</td>\n",
       "    </tr>\n",
       "    <tr>\n",
       "      <th>c26</th>\n",
       "      <td>133254</td>\n",
       "      <td>37</td>\n",
       "      <td>133217</td>\n",
       "      <td>deadbeef, 49d68486, c84c4aec, 2fede552, c27f155b</td>\n",
       "    </tr>\n",
       "  </tbody>\n",
       "</table>\n",
       "</div>"
      ],
      "text/plain": [
       "     distinct  frequent  uncommon  \\\n",
       "c01      1460        23      1437   \n",
       "c02       581       100       481   \n",
       "c03   8381767        45   8381722   \n",
       "c04   1883842        60   1883782   \n",
       "c05       305        13       292   \n",
       "c06        24         7        17   \n",
       "c07     12488        62     12426   \n",
       "c08       633        17       616   \n",
       "c09         3         2         1   \n",
       "c10     88956        42     88914   \n",
       "c11      5656        93      5563   \n",
       "c12   6952733        52   6952681   \n",
       "c13      3194       105      3089   \n",
       "c14        27        13        14   \n",
       "c15     14754       112     14642   \n",
       "c16   4590520        58   4590462   \n",
       "c17        10         9         1   \n",
       "c18      5582       126      5456   \n",
       "c19      2169        22      2147   \n",
       "c20         4         4         0   \n",
       "c21   5894178        52   5894126   \n",
       "c22        18         6        12   \n",
       "c23        15        11         4   \n",
       "c24    258639        60    258579   \n",
       "c25       105        19        86   \n",
       "c26    133254        37    133217   \n",
       "\n",
       "                                             top five  \n",
       "c01  05db9164, 68fd1e64, 5a9ed9b0, 8cf07265, be589b51  \n",
       "c02  38a947a1, 207b2d81, 38d50e09, 1cfdf714, 287130e0  \n",
       "c03  deadbeef, d032c263, 02cf9876, aa8c1539, 9143c832  \n",
       "c04  c18be181, deadbeef, 29998ed1, d16679b9, 85dd697c  \n",
       "c05  25c83c98, 4cf72387, 43b19349, 384874ce, 30903e74  \n",
       "c06  7e0ccccf, fbad5c96, fe6b92e5, deadbeef, 13718bbd  \n",
       "c07  1c86e0eb, dc7659bd, 7195046d, 5e64ce5f, 468a0854  \n",
       "c08  0b153874, 5b392875, 1f89b562, 37e4aa92, 062b5529  \n",
       "c09                                a73ee510, 7cc72ec2  \n",
       "c10  3b08e48b, efea433b, fbbf2c95, fa7d0797, 03e48276  \n",
       "c11  755e4a50, e51ddf94, 7f8ffe57, 4d8549da, 8b94178b  \n",
       "c12  deadbeef, dfbb09fb, 6aaba33c, 8fe001f4, d8c29807  \n",
       "c13  5978055e, 3516f6e6, 46f42a63, 025225f2, 1aa94af3  \n",
       "c14  b28479f6, 07d13a8f, 1adce6ef, 64c94865, cfef1c29  \n",
       "c15  2d0bb053, d345b1a0, 3628a186, 10040656, 10935a85  \n",
       "c16  deadbeef, 84898b2a, b041b04a, 36103458, c64d548f  \n",
       "c17  e5ba7672, 07c540c4, d4bb7bd8, 3486227d, 776ce399  \n",
       "c18  e88ffc9d, 891589e7, 2804effd, c21c3e4c, 5aed7436  \n",
       "c19  deadbeef, 21ddcdc9, 55dd3565, 5b885066, 9437f62f  \n",
       "c20            deadbeef, b1252a9d, 5840adea, a458ea53  \n",
       "c21  deadbeef, 0014c32a, 723b4dfd, e587c466, 5f957280  \n",
       "c22  deadbeef, ad3062eb, c9d4222a, 78e2e389, 8ec974f4  \n",
       "c23  32c7478e, 3a171ecb, 423fab69, bcdee96c, be7c41b4  \n",
       "c24  3fdb382b, b34f3128, 3b183c5c, 1793a828, deadbeef  \n",
       "c25  deadbeef, 001f3601, e8b83407, ea9a246c, cb079c2d  \n",
       "c26  deadbeef, 49d68486, c84c4aec, 2fede552, c27f155b  "
      ]
     },
     "execution_count": 37,
     "metadata": {},
     "output_type": "execute_result"
    }
   ],
   "source": [
    "cat_measures = load(open('data/model.pickled.normed.filled.masked-060000.cat_measures', 'rb'))\n",
    "\n",
    "df             = pd.DataFrame.from_dict({ k: [len(v)] for k,v in cat_measures['distinct'].items() }, orient = 'index', columns = ['distinct'])\n",
    "df['frequent'] = [len(v) for v in cat_measures['frequent'].values()]\n",
    "df['uncommon'] = [len(v) for v in cat_measures['uncommon'].values()]\n",
    "df['top five'] = [', '.join(v[:5]) for v in cat_measures['frequent'].values()]\n",
    "\n",
    "df"
   ]
  },
  {
   "cell_type": "markdown",
   "metadata": {},
   "source": [
    "As shown above, the number of distict categories ranges from 3 to 5894178. Working with this number of cardinal features presents challenges so we examined ways to reduce the cardinality of these features, which included:\n",
    "1. For each feature, consider the most commonly occurring features in the training set only and encode any other rare categories as one category\n",
    "2. Use Field-aware Factorization Machines which handle high cardinality data in recommendation and click thoguh rate datases by default\n",
    "3. Hash the categorical features to a smaller feature space with possible collisions\n",
    "4. Drop columns with extreme cardinality since these may correspond to features like user IDs or street address that ordinarily may not provide much value to the dataset.\n",
    "\n",
    "In the end, we chose option 1 because this allowed us to create a dataset that could be used with multiple algorithms while allowing us to shrink the feature space. We also found that for most features. Mnay of the categories appeared in under 1% of the training set (shown below) and so encoding the rare categories into a special category would greatly reduce the potential feature space."
   ]
  },
  {
   "cell_type": "markdown",
   "metadata": {},
   "source": [
    "Another issue we had to deal with categorical features, just like with the numeric features was how to deal with null values. Many of the categorical variables had a high number of null values with some columsn having over 40% null values. Below is a breakdown of the percentage of null values for each column. We would need an effective way to deal with these null values"
   ]
  },
  {
   "cell_type": "markdown",
   "metadata": {},
   "source": [
    "## 3.3 General Feature Engineering\n"
   ]
  },
  {
   "cell_type": "markdown",
   "metadata": {},
   "source": [
    "The EDA guided how we went about out feature engineering. The items that we needed to tackle in our feature engineering were:\n",
    "1. Scale the numeric features so that they are within the same range using an appropriate scaler based on the feature\n",
    "2. Deal with null values. For the numeric features, null values were replaced with the median while with the categorical features, null values were replaced witha special category, \"deadbeef\".\n",
    "3. Reduce the number of categories in each column by encoding rare categories as rarebeef and only keeping those that appear more than 1% of the time\n",
    "4. One-hot encode the categorical features so that they can be used to train the model\n",
    "5. Reduce the number of features in the dataset by using a feature selector based on the chi-squared test\n",
    "6. Oversmaple the data to deal with the issue of unbalanced data which would affect the Logistic Regression and tree-based models\n",
    "7. Create interaction variables between the features in the dataset\n",
    "\n",
    "The initial feature engineering is available in the [Engineering-Initial](./book/Engineering-Initial.ipynb) workbook and [engineering.py](./code/engineering.py) python module."
   ]
  },
  {
   "cell_type": "markdown",
   "metadata": {},
   "source": [
    "### Numeric Features\n",
    "The numeric features had different ranges and so it was imprtant to scale them especially when working with linear models like Logistic Regression. As shown in the EDA above, the numeric features had different distributions so they were scaled differently based on this. The scaling used for each numeric feature is shown in section 3.2.1 above."
   ]
  },
  {
   "cell_type": "code",
   "execution_count": 20,
   "metadata": {},
   "outputs": [],
   "source": [
    "def allDoStandardize(subset: str, iStep: str):\n",
    "\n",
    "    \"\"\"\n",
    "    Apply standardizations to all numerical features to ensure numerical features have balanced weights.\n",
    "    Replace all undefined categorical values with deadbeef.\n",
    "\n",
    "    Input  : Spark Sql Dataframe of original labled data and relevant statistics from training data\n",
    "    Output : Spark Sql Dataframe of all labeled data with standardized numeric features and filled categoric features\n",
    "    \"\"\"\n",
    "    ...\n",
    "\n",
    "      # replace all undefined numerical values with the median for that feature\n",
    "        oData = iData.fillna(num_measures['median'])\n",
    "\n",
    "      # add standardized numerical feature columns  \n",
    "        oData = oData.withColumn('n01_standard',((oData['n01']                              )/(2.0*num_measures['stddev']['n01'])))\n",
    "        oData = oData.withColumn('n02_standard',((oData['n02']-num_measures['median']['n02'])/(1.0*num_measures['stddev']['n02'])))\n",
    "        oData = oData.withColumn('n03_standard',((oData['n03']                              )/(1.0*num_measures['stddev']['n03'])))\n",
    "        oData = oData.withColumn('n04_standard',((oData['n04']-num_measures['median']['n04'])/(1.0*num_measures['stddev']['n04'])))\n",
    "        oData = oData.withColumn('n05_standard',((oData['n05']-num_measures['median']['n05'])/(1.0*num_measures['stddev']['n05'])))\n",
    "        oData = oData.withColumn('n06_standard',((oData['n06']                              )/(2.0*num_measures['stddev']['n06'])))\n",
    "        oData = oData.withColumn('n07_standard',((oData['n07']                              )/(2.0*num_measures['stddev']['n07'])))\n",
    "        oData = oData.withColumn('n08_standard',((oData['n08']                              )/(2.0*num_measures['stddev']['n08'])))\n",
    "        oData = oData.withColumn('n09_standard',((oData['n09']-num_measures['median']['n09'])/(1.0*num_measures['stddev']['n09'])))\n",
    "        oData = oData.withColumn('n10_standard',((oData['n10']                              )/(1.0*num_measures['max'   ]['n10'])))\n",
    "        oData = oData.withColumn('n11_standard',((oData['n11']-num_measures['median']['n11'])/(1.0*num_measures['stddev']['n11'])))\n",
    "        oData = oData.withColumn('n12_standard',((oData['n12']                              )/(2.0*num_measures['stddev']['n12'])))\n",
    "        oData = oData.withColumn('n13_standard',((oData['n13']-num_measures['median']['n13'])/(1.0*num_measures['stddev']['n13'])))\n",
    "\n",
    "        assembler_num = VectorAssembler(inputCols = Common.num_features, outputCol = 'num_features')\n",
    "        assembler_std = VectorAssembler(inputCols = Common.std_features, outputCol = 'std_features')\n",
    "\n",
    "        pipeline      = Pipeline(stages = [assembler_num, assembler_std])\n",
    "        model         = pipeline.fit(oData)\n",
    "\n",
    "        oData         = model.transform(oData)\n",
    "        oData         = oData.select('label', 'std_features', *Common.cat_features)\n",
    "\n",
    "      # replace all undefined categorical values with special term deadbeef\n",
    "        oData         = oData.fillna('deadbeef', Common.cat_features)\n",
    "    ..."
   ]
  },
  {
   "cell_type": "markdown",
   "metadata": {},
   "source": [
    "### Dealing with the Null Values\n",
    "The null values were dealt with differently for numeric and categorical features. For the numeric features, the null values were imputed using the median in order because most of them were highly skewed. For the cateogircal values, the null values were all encoded to a category labelled **deadbeef**"
   ]
  },
  {
   "cell_type": "markdown",
   "metadata": {},
   "source": [
    "### Reducing the cardinality of categorical features\n",
    "As mentioned before, the cardinaly of the categorical features was handled by looking at each feature and encoding all the rare categories to one special category called **rarebeef** [1]."
   ]
  },
  {
   "cell_type": "code",
   "execution_count": 21,
   "metadata": {},
   "outputs": [],
   "source": [
    "def catDoMeasurement(subset: str, iStep: str):\n",
    "\n",
    "    \"\"\"module\n",
    "    Calculate frequency stats on training data for use in standardization.\n",
    "\n",
    "    Input  : Raw training dataframe.\n",
    "    Output : Categorical training stats.\n",
    "    \"\"\"    \n",
    "    ...\n",
    "        for feature in Common.cat_features:\n",
    "            cat_measures[feature] = iData.select(feature).groupBy(feature).count() \\\n",
    "                .sort('count', ascending = False) \\\n",
    "                .withColumnRenamed(feature,  'value') \\\n",
    "                .withColumnRenamed('count', 'counts') \\\n",
    "            .toPandas()\n",
    "    ..."
   ]
  },
  {
   "cell_type": "code",
   "execution_count": null,
   "metadata": {},
   "outputs": [],
   "source": [
    "def catMaskUncommons(subset: str, iStep: str, min: int):\n",
    "    \"\"\"\n",
    "    Mask uncommon categorical feature categories.\n",
    "    This greatly reduces the number of one-hot encoded features.\n",
    "    The features in test/valid which were not also in train will be masked as well.\n",
    "\n",
    "    Input  : Categorical features with Undefined values replaced with a special term : deadbeef. Categorical feature frequency stats.\n",
    "    Output : Categorical features with Infrequent values replaced with a special term : rarebeef.\n",
    "    \"\"\"\n",
    "    ...\n",
    "        \"\"\"\n",
    "        By using not matching list of frequent categories instead of matching a much longer list of infrequent categories we can\n",
    "        significantly improve the processing time required on the full dataset\n",
    "        \"\"\"\n",
    "\n",
    "        for feature, measure in Common.cat_measures.items():\n",
    "\n",
    "            frequent = measure[measure.counts > min].value.to_list()\n",
    "            oData    = oData.withColumn(feature, when(~oData[feature].isin(*frequent), 'rarebeef').otherwise(oData[feature]))\n",
    "            count    = oData.select(feature).groupBy(feature).count().count()\n",
    "            total   += count\n",
    "    ..."
   ]
  },
  {
   "cell_type": "markdown",
   "metadata": {},
   "source": [
    "### One-hot encode the categorical features\n",
    "To be able to use the categorical features in our machine learning algorithms, we had to turn the categorical features into numeric features [1]. To do this, we first used Spark's StringIndexer to create a string index for each of the categories within the features and then one-hot encoded them"
   ]
  },
  {
   "cell_type": "code",
   "execution_count": null,
   "metadata": {},
   "outputs": [],
   "source": [
    "def catDoCodeFeature(subset: str, iStep: str, min: int, fit: bool = False):\n",
    "\n",
    "    \"\"\"\n",
    "    Index and encode all categorical features.\n",
    "    Generates indicator features for each distinct category withing each respective categorical feature.\n",
    "    Assemble the one-hot encoded indicators to a categorical feature vector.\n",
    "    Encoding estimator will be trained on the train set and any features in the test/train that are not present will be dropped.\n",
    "\n",
    "    Input  : Categorical features with Infrequent values reduced.\n",
    "    Output : Indicator features for each distinct category assembled into a SparseVector.\n",
    "    \"\"\"\n",
    "    ...\n",
    "        \"\"\"\n",
    "        Use a Spark ML pipeline to chain multiple transformation operations.\n",
    "        \"\"\"\n",
    "\n",
    "        stages   = []\n",
    "        indexes  = [f'{f}_idx' for f in Common.cat_features]\n",
    "        vectors  = [f'{f}_vec' for f in Common.cat_features]\n",
    "\n",
    "        for feature, index, vector in zip(Common.cat_features, indexes, vectors):\n",
    "            indexer  = StringIndexer(inputCol = feature, outputCol = index)\n",
    "            encoder  = OneHotEncoderEstimator(inputCols = [indexer.getOutputCol()], outputCols = [vector], dropLast = False)\n",
    "            stages  += [indexer, encoder]\n",
    "\n",
    "        assembler = VectorAssembler(inputCols = vectors, outputCol = 'cat_features')\n",
    "        stages   += [assembler]\n",
    "\n",
    "        encoding_pipe  = Pipeline(stages = stages)\n",
    "        encoding_model = encoding_pipe.fit(iData)\n",
    "\n",
    "        encoding_model.save(oPipe)\n",
    "\n",
    "        timePrint(f'Building Model : Done')\n",
    "\n",
    "    Common.encode_model = PipelineModel.load(oPipe)\n",
    "\n",
    "    if  iData != None and not exists(oFile):\n",
    "\n",
    "        oData  = Common.encode_model.transform(iData)\n",
    "        oData  = oData.select(['label', 'std_features', 'cat_features'])\n",
    "    ..."
   ]
  },
  {
   "cell_type": "markdown",
   "metadata": {},
   "source": [
    "#### Feature Selection\n",
    "After carrying out the other feature engineering steps, we had a number of features. To determine which ones we should keep and to reduce dimensionality, we used Pyspark's ChiSqSelector to choose the best features. This uses the Chi-Squared Test of Independence to select the best features based on the outcome variable. The variant we used chooses the top features with the highest predictive power in relation to the outcome variable."
   ]
  },
  {
   "cell_type": "code",
   "execution_count": null,
   "metadata": {},
   "outputs": [],
   "source": [
    "def catDoPickFeature(subset: str, iStep: str, top: int, fit: bool = False):\n",
    "\n",
    "    \"\"\"\n",
    "    Use Chi-Square test to select the top N encoded categorical features.\n",
    "    Assemble picked features into a new vector.\n",
    "\n",
    "    Input  : The one-hot encoded categorical features in cat_features SparseVector.\n",
    "    Output : The top N categorical features in top_features SparseVector.\n",
    "    \"\"\"\n",
    "    ...\n",
    "        \"\"\"\n",
    "        Perform the Chi-Square test on the training dataset to select the highest N correlated features.\n",
    "        \"\"\"\n",
    "\n",
    "        timePrint(f'Building Model : {oPipe}')\n",
    "\n",
    "        selector       = ChiSqSelector(numTopFeatures = top, featuresCol = 'cat_features', outputCol = 'top_features', labelCol = 'label')\n",
    "        selector_pipe  = Pipeline(stages = [selector])\n",
    "        selector_model = selector_pipe.fit(iData)\n",
    "\n",
    "        selector_model.save(oPipe)\n",
    "\n",
    "        timePrint(f'Building Model : Done')\n",
    "\n",
    "    Common.select_model = PipelineModel.load(oPipe)\n",
    "\n",
    "    if  iData != None and top:\n",
    "\n",
    "        oData  = Common.select_model.transform(iData)\n",
    "    ..."
   ]
  },
  {
   "cell_type": "markdown",
   "metadata": {},
   "source": [
    "### Initial Feature Engineering Recipe"
   ]
  },
  {
   "cell_type": "code",
   "execution_count": 8,
   "metadata": {},
   "outputs": [],
   "source": [
    "min = 60000 # minimum occurance threshold for each categorical feature category,\n",
    "            # generates 1150 one-hot encoded categorical features\n",
    "top =   987 # maximum selection threshold for ChiSquareSelector of one-hot encoded\n",
    "            # categorical features : 987 top categorical features + 13 numerical\n",
    "            # features = 1000 total features"
   ]
  },
  {
   "cell_type": "code",
   "execution_count": null,
   "metadata": {},
   "outputs": [],
   "source": [
    "Engineering.numDoMeasurement(subset = 'train', iStep = f'', fit = True)\n",
    "\n",
    "Engineering.numDoStandardize(subset = 'train', iStep = f'')\n",
    "Engineering.numDoStandardize(subset = 'tests', iStep = f'')\n",
    "Engineering.numDoStandardize(subset = 'valid', iStep = f'')\n",
    "\n",
    "Engineering.catFillUndefined(subset = 'train', iStep = f'normed')\n",
    "Engineering.catFillUndefined(subset = 'tests', iStep = f'normed')\n",
    "Engineering.catFillUndefined(subset = 'valid', iStep = f'normed')\n",
    "\n",
    "Engineering.catFindFrequents(subset = 'train', iStep = f'normed.filled', min = min, fit = True)\n",
    "\n",
    "Engineering.catMaskUncommons(subset = 'train', iStep = f'normed.filled', min = min)\n",
    "Engineering.catMaskUncommons(subset = 'tests', iStep = f'normed.filled', min = min)\n",
    "Engineering.catMaskUncommons(subset = 'valid', iStep = f'normed.filled', min = min)\n",
    "\n",
    "Engineering.catDoCodeFeature(subset = 'train', iStep = f'normed.filled.masked-{min:06d}', fit = True)\n",
    "Engineering.catDoCodeFeature(subset = 'tests', iStep = f'normed.filled.masked-{min:06d}')\n",
    "Engineering.catDoCodeFeature(subset = 'valid', iStep = f'normed.filled.masked-{min:06d}')\n",
    "\n",
    "Engineering.catDoPickFeature(subset = 'train', iStep = f'normed.filled.masked-{min:06d}.encode', top = top, fit = True)\n",
    "Engineering.catDoPickFeature(subset = 'tests', iStep = f'normed.filled.masked-{min:06d}.encode', top = top)\n",
    "Engineering.catDoPickFeature(subset = 'valid', iStep = f'normed.filled.masked-{min:06d}.encode', top = top)\n",
    "\n",
    "Engineering.allDoPackFeature(subset = 'train', iStep = f'normed.filled.masked-{min:06d}.encode.picked-{top:06d}', fit = True)\n",
    "Engineering.allDoPackFeature(subset = 'tests', iStep = f'normed.filled.masked-{min:06d}.encode.picked-{top:06d}')\n",
    "Engineering.allDoPackFeature(subset = 'valid', iStep = f'normed.filled.masked-{min:06d}.encode.picked-{top:06d}')"
   ]
  },
  {
   "cell_type": "code",
   "execution_count": null,
   "metadata": {},
   "outputs": [],
   "source": [
    "Engineering.toyTakeSubSample(subset = 'train', iStep = f'normed.filled.masked-{min:06d}.encode.picked-{top:06d}.packed', len = 8000)\n",
    "Engineering.toyTakeSubSample(subset = 'tests', iStep = f'normed.filled.masked-{min:06d}.encode.picked-{top:06d}.packed', len = 1000)\n",
    "Engineering.toyTakeSubSample(subset = 'valid', iStep = f'normed.filled.masked-{min:06d}.encode.picked-{top:06d}.packed', len = 1000)"
   ]
  },
  {
   "cell_type": "markdown",
   "metadata": {},
   "source": [
    "## Advanced Feature Engineering"
   ]
  },
  {
   "cell_type": "markdown",
   "metadata": {},
   "source": [
    "### Create Interaction Variables\n",
    "Finally, we also explored the creation of interaction variables to add more features and to capture possible interactions between the variables. The interaction features we created were between the numeric and the categorical features.\n",
    "\n",
    "The advanced feature engineering including interactions are available in the [Engineering-Advanced](./book/Engineering-Advanced.ipynb) workbook and [interactions.scala](./code/interactions.scala) scala module."
   ]
  },
  {
   "cell_type": "code",
   "execution_count": null,
   "metadata": {},
   "outputs": [],
   "source": [
    "def allJoinInteract(subset: String, iStep: String) {\n",
    "\n",
    "    /*\n",
    "        This had to be written in Scala as PySpark implementation of SparkML interactions transformer was not available.\n",
    "        Add interactions between the categorical indicators and numerical features.\n",
    "        Use SparkML Interactions feature transformer to calculate the product of all 13 numerical features with the arbitary number of categorical indicators.\n",
    "\n",
    "        Input  : std_features and cat_features\n",
    "        Output : cxn_features SparseVector\n",
    "    */\n",
    "\n",
    "    var iData: DataFrame = taskStarting(\"action\", \"Numerical vs Categorical Interactions\", subset, iStep)\n",
    "    var oData: DataFrame = null\n",
    "\n",
    "    if (iData != null) {\n",
    "        val interaction = new Interaction()\n",
    "            .setInputCols(Array(\"std_features\", \"cat_features\"))\n",
    "            .setOutputCol(\"cxn_features\")\n",
    "\n",
    "        oData = interaction.transform(iData)\n",
    "    }\n",
    "\n",
    "    taskStopping(\"action\", \"Numerical vs Categorical Interactions\", subset, oData)\n",
    "}\n"
   ]
  },
  {
   "cell_type": "markdown",
   "metadata": {},
   "source": [
    "### Oversample the data"
   ]
  },
  {
   "cell_type": "markdown",
   "metadata": {},
   "source": [
    "The data was imbalanced and so it was necessary to balance it before using the models given that there was a 3 to 1 ratio between negative and positive classes. We used the oversampling technique to create more positive examples from the same data resulting in a close to 1 to 1 ratio in the end. This allowed us to train tree-based classifiers that would suffer from the class imbalance."
   ]
  },
  {
   "cell_type": "code",
   "execution_count": 25,
   "metadata": {},
   "outputs": [],
   "source": [
    "def oversampleData(train):\n",
    "    '''\n",
    "    Takes in a train dataframe and oversamples the positive variables.\n",
    "    \n",
    "    Returns the oversampled datframe\n",
    "    '''\n",
    "\n",
    "    # getthe counts for each class\n",
    "    label_counts_df = train.groupby('label').count().toPandas()\n",
    "    negative_count = label_counts_df.at[0, 'count']\n",
    "    positive_count = label_counts_df.at[1, 'count']\n",
    "\n",
    "    # Calculate the number of extra data points needed and the oversample rate\n",
    "    extra = negative_count - positive_count\n",
    "    print(f'Extra data points = {extra}')\n",
    "\n",
    "\n",
    "    resample_rate = extra/positive_count\n",
    "\n",
    "    print(f'The resample rate is {resample_rate}')\n",
    "\n",
    "    # use resample rate to create more positive examples\n",
    "    extra_positives = train.filter(train['label']==1).sample(withReplacement=True, fraction=resample_rate)\n",
    "\n",
    "    # add the new examples to the dataset\n",
    "    oversampled_train = train.union(extra_positives)\n",
    "    oversampled_train = oversampled_train.sample(withReplacement = False, fraction = 1.0)\n",
    "    \n",
    "    return oversampled_train"
   ]
  },
  {
   "cell_type": "markdown",
   "metadata": {},
   "source": [
    "__References - Section 3__\n",
    "\n",
    "[1] J. de Wit, “Deep-Learning-for-Criteo-Documentation,” GitHub, 30-Sep-2014. [Online]. Available: https://github.com/juliandewit/kaggle_criteo. [Accessed: 11-Dec-2019]"
   ]
  },
  {
   "cell_type": "markdown",
   "metadata": {},
   "source": [
    "# __Section 4__ - Algorithm Implementation"
   ]
  },
  {
   "cell_type": "markdown",
   "metadata": {},
   "source": [
    "## 4.1 Homegrown Implementation from Scratch - Who needs libraries anyway?"
   ]
  },
  {
   "cell_type": "markdown",
   "metadata": {},
   "source": [
    "The code for the homegrown SVM can be found in the [Homegrown Algorithm - Kombucha](./book/KombuchaModel.ipynb). \n",
    "\n",
    "- Challenges: \n",
    "     That Gradient Descent! Working with Hinge Loss presents a new type of challenge: the function it's not entirely convex. We were able to code the gradient using similar techniques as the ones we did for Linear Regression wit L1 regularization: We use sub-gradients, which converge into the solution. The next problem was the decision of doing Batch Gradient Descent vs. Stochastic Gradient Descent. We decided to do Batch Gradient Descent, and immediatley understood why ML on Spark uses SGD - you sacrifice number of steps for time. As we seen in the Kombucha Notebook, the amount of time of GD it's way longer on big data sets compare to SGD.\n",
    "     \n",
    "     Another challenge is the Algorithm perse. We implemented a linear SVM, but from our EDA, we know that the data is not separable in a way that a linear classifier could be used. SVM provides an answer for this problem: the introduction of the kernel trick to change the perspective plane of data [__2__]. However, Spark doesn't provide with an implementation of basic kernels like Gaussian. This it's still in development, although we believe that it will be left behind as they move towards implementing Neural Networks and Deep Learning models.\n",
    "     \n",
    "- Validation:\n",
    "    We were able to achieve a similar level of AUC using our model on the test set, for both the toy model and the entire dataset, which is a great validation of the concepts. However, our implementation it's still far from being perfect - our training times it's at least 3 times worst that the ML implementation. \n",
    "    \n",
    "- Implementation:\n",
    "    All the implementations details are in [Homegrown Algorithm - Kombucha](./book/KombuchaModel.ipynb). We start from a baseline (either the mean of the labels or decide that all labels are one of the classes), and then we update the gradient at each iteration. We were able to use the toy as a some sort of development set to Fine Tune the Regularization Parameter. We also observe that the process takes time to converge, and that the graphs are not smooth - again a byproduct of using subGradients for training."
   ]
  },
  {
   "cell_type": "markdown",
   "metadata": {},
   "source": [
    "## 4.2 Scaled Classification on Full Dataset using Spark ML"
   ]
  },
  {
   "cell_type": "markdown",
   "metadata": {},
   "source": [
    "On the full dataset, we applied a scalable version of our algorithm from Spark MLLib together with other algorithms. We used Logistic Regression as our baseline. and thereafter applied our main algorithm, the Linear SVM and other tree based models."
   ]
  },
  {
   "cell_type": "markdown",
   "metadata": {},
   "source": [
    "|             Classifier \t| Parameters                        \t| Feature Count              \t| Engineering Notes                                                                                       \t| Train AUC \t| Validation AUC \t| Test AUC \t|\n",
    "|-----------------------:\t|-----------------------------------\t|----------------------------\t|---------------------------------------------------------------------------------------------------------\t|-----------\t|----------------\t|----------\t|\n",
    "|     LogisticRegression \t| <ul> <li>maxIter = 100</li> </ul> \t| 1000 = 13 + 987            \t| <ul> <li>baseline 13 num + 987 cat features</li> </ul>                                                  \t| 73.64%    \t| 73.63%         \t| 73.65%   \t|\n",
    "|              LinearSVC \t| <ul> <li>maxIter = 100</li> </ul> \t| 1000 = 13 + 987            \t| <ul> <li>baseline 13 num + 987 cat features</li> </ul>                                                  \t| 68.69%    \t| 68.64%         \t| 68.70%   \t|\n",
    "| DecisionTreeClassifier \t| <ul> <li>maxIter = 100</li> </ul> \t| 1000 = 13 + 987            \t| <ul> <li>baseline 13 num + 987 cat features</li> </ul>                                                  \t| 53.97%    \t| 53.97%         \t| 53.97%   \t|\n",
    "| RandomForestClassifier \t| <ul> <li>numTrees = 30</li> </ul> \t| 1000 = 13 + 987            \t| <ul> <li>baseline 13 num + 987 cat features</li> </ul>                                                  \t| 70.06%    \t| 70.05%         \t| 70.08% \t|\n",
    "|          GBTClassifier \t| <ul> <li>maxIter = 10</li> </ul>  \t| 1000 = 13 + 987            \t| <ul> <li>baseline 13 num + 987 cat features</li> </ul>                                                  \t| 72.26%  \t|     72.25%     \t|  72.30%        \t|\n",
    "|     LogisticRegression \t| <ul> <li>maxIter = 100</li> </ul> \t| 16,463 = 13 + 987 + 10,231 \t| <ul> <li>baseline 13 num + 987 cat features</li> <li>additiona 13 num x 987 cat interactions</li> </ul> \t| 75.04%    \t| 74.99%         \t| 75.01%   \t|\n",
    "|     LogisticRegression \t| <ul> <li>maxIter = 100</li> </ul> \t| 36,168 = 13 + 36,155       \t| <ul> <li>extended 13 num + 36155 cat features</li> </ul>                                                \t| 77.57%    \t| 77.48%         \t| 77.49%   \t|\n",
    "|     LogisticRegression \t| <ul> <li>maxIter = 100</li> </ul> \t| 56,507 = 13 + 56,494       \t| <ul> <li>extended 13 num + 56494 cat features</li> </ul>                                                \t| 77.88%    \t| 77.75%         \t| 77.75%   \t|\n",
    "|     LogisticRegression \t| <ul> <li>maxIter = 100</li> </ul> \t| 159,275 = 13 + 159,262     \t| <ul> <li>extended 13 num + 159262 cat features</li> </ul>                                               \t| 78.41%    \t| 78.09%         \t| 78.08%   \t|"
   ]
  },
  {
   "cell_type": "markdown",
   "metadata": {},
   "source": [
    "As shown above, none of the algorithms was able to beat the baseline set by the Logistic Regression classifier.With the closest algorithm being the Gradient Boosting Tree classifier."
   ]
  },
  {
   "cell_type": "markdown",
   "metadata": {},
   "source": [
    "Discussion about L1/L2 (elasticnet) and lambda (regParam) for Logistic Regression here. - **LAURA** reword"
   ]
  },
  {
   "cell_type": "markdown",
   "metadata": {},
   "source": [
    "|         Classifier \t| Parameters                                                                                                            \t| Feature Count   \t| Modeling Notes                              \t| Train AUC \t| Validation AUC \t| Test AUC \t|\n",
    "|-------------------:\t|-----------------------------------------------------------------------------------------------------------------------\t|-----------------\t|---------------------------------------------\t|-----------\t|----------------\t|----------\t|\n",
    "| LogisticRegression \t| <ul> <li>maxIter = 100</li> <li>family =  binomial </li> <li>elasticNetParam  = 0.0</li> <li>regParam = 0.0</li></ul> \t| 1000 = 13 + 987 \t| No Regularization                           \t| 73.64%    \t| 73.63%         \t| 73.65%   \t|\n",
    "| LogisticRegression \t| <ul> <li>maxIter = 100</li> <li>family =  binomial </li> <li>elasticNetParam = 0.0</li> <li>regParam = 0.1</li></ul>  \t| 1000 = 13 + 987 \t| Ridge : L2 Regularization with Lambda = 0.1 \t| 72.63%    \t| 72.63%         \t| 72.64%   \t|\n",
    "| LogisticRegression \t| <ul> <li>maxIter = 100</li> <li>family =  binomial </li> <li>elasticNetParam  = 1.0</li> <li>regParam = 0.1</li></ul> \t| 1000 = 13 + 987 \t| Lasso : L1 Regularization with Lambda = 0.5 \t| 50.00%    \t| 50.00%         \t|  50.00%  \t|"
   ]
  },
  {
   "cell_type": "markdown",
   "metadata": {},
   "source": [
    "<figure>\n",
    "  <img src=\"assets/OverUnderFitting.png\" width=\"550\">\n",
    "    <figcaption> <b>Over and Under Fitting Tradeoff (1)</b> </figcaption>\n",
    "</figure>"
   ]
  },
  {
   "cell_type": "code",
   "execution_count": null,
   "metadata": {},
   "outputs": [],
   "source": []
  },
  {
   "cell_type": "markdown",
   "metadata": {},
   "source": [
    "What we are seeing so far, I think, is that we have not yet entered 'overfitting' territory. I.e. we are still very close between validation and training sets, which says that we are not overfitting. Because we are not overfitting, the lambda will not help us.\n",
    "\n",
    "The alpha probably does no good because we've already feature-engineered the heck out of the features. Increasing alpha (increasing L1) means we are taking more features out, which decreases our results.\n"
   ]
  },
  {
   "cell_type": "markdown",
   "metadata": {},
   "source": [
    "__References - Section 4__\n",
    "\n",
    "(1) https://www.jeremyjordan.me/evaluating-a-machine-learning-model/\n"
   ]
  },
  {
   "cell_type": "markdown",
   "metadata": {},
   "source": [
    "# __Section 5__ - Course Concepts"
   ]
  },
  {
   "cell_type": "markdown",
   "metadata": {},
   "source": [
    "**LAURA** to start input here"
   ]
  },
  {
   "cell_type": "markdown",
   "metadata": {},
   "source": [
    "1. scalability / time complexity / I/O vs Memory"
   ]
  },
  {
   "cell_type": "markdown",
   "metadata": {},
   "source": [
    "#### 2. One Hot Encoding / vector embeddings / feature selection  \n",
    "\n",
    "Section 3.3 Discussed the one-hot encoding and feature selection. Although we discussed this briefly in the course, this project allowed us to delve into the practicalities of feature engineering in detail. If every unique category in the categorical features were one-hot encoded, there would be approximately 33 million features, and an obvious issue with dimensionality, not to mention that these are extremely sparse and managing that many features is un-realistic. In order to address the issue, we looked at many different solutions, always aiming to reduce the number of categorical features but retain as much of the inherent information in the data as possible. Binning and using a Chi-Square selector turned out to be good ways to reduce the categorical features in a way that preserved information. We also looked at interactions between the numeric and categorical features as a way to 'add back' information that may have been lost during the categorical feature reduction phase. Finally, we saved the features as sparse vectors and used sparse processing functions - this helped us to train the models in a reasonable amount of time."
   ]
  },
  {
   "cell_type": "markdown",
   "metadata": {},
   "source": [
    "3. Broadcasting / Caching / Lazy Evaluation"
   ]
  },
  {
   "cell_type": "markdown",
   "metadata": {},
   "source": [
    "#### 4. Batch vs. Stochastic Gradient Descent\n",
    "\n",
    "This assignment finally uncovered the truth that we started to discuss during our class: The differences on scalability between Batch Gradient Descent and Stochastic Gradient Descent. As discussed on our Homegrown Model (Kambucha), we decided to implement a normal batch Gradient Descent, where we transverse the entire dataset once to find the total gradient, and then we update the weights in one go. The pros of doing this approach, is that convergence needs **less** steps than Stochastic Gradient Descent, but each iteration it's slower. In fact, the time complexity of GD it's related to the tolerance of the algorithm $O(nClog(1/\\epsilon)$, where C it's a constant time [__1__]. So, even though it's easier to implement, it's overall less efficient when we scale up the data.\n",
    "\n",
    "On the other hand, almost all the MLLib packages of Spark use Stochastic Gradient Descent as they go to algorithm for good reasons: the model it's almost linear with respect of the tolerance with a time complexity of $O(C/\\epsilon)$. The effort placed into coding a SGD implementation it's well worth the time gained in training for many of the more complicated models out there. So, even though we sacrifice steps, we gain efficiency in time. "
   ]
  },
  {
   "cell_type": "markdown",
   "metadata": {},
   "source": [
    "__References - Section 5__"
   ]
  },
  {
   "cell_type": "markdown",
   "metadata": {},
   "source": [
    "[1]: A. Zisserman, \"Lecture 2: The SVM classifier\". Oxford. Retrieved from http://www.robots.ox.ac.uk/~az/lectures/ml/lect2.pdf"
   ]
  },
  {
   "cell_type": "markdown",
   "metadata": {},
   "source": [
    "#### 5. Bias-Variance Tradeoff\n",
    "\n",
    "We explored this when we were running our models, first when creating the baseline with Logisitic Regression. Here we tried to examine the effect of reguliraztion, both L1 and L2 and found that there were no improvements with regularization. Also since the area under the curve (AUC) did not vary much from train to test, we were able to conclude that we were not underfitting. Given that we received a reasonable AUC, which was above 50, we were also comfortable ruling out bias.\n",
    "\n",
    "Further, when working with decsion trees, we run into issues where the model was unable to fit the data well. Again, since our train and development AUC scores were similar, we were able to rule out variance. However the scores on train development and test sets were all low and close to 50 which is not very different from random guessing. To mitigate this, we used Random Forests and Gradient Boosted Trees which use an ensemble of trees and hence avoid overfitting trees while using many tress and combinign their predictions also avoids bias underfitting."
   ]
  },
  {
   "cell_type": "code",
   "execution_count": null,
   "metadata": {},
   "outputs": [],
   "source": []
  }
 ],
 "metadata": {
  "kernelspec": {
   "display_name": "Python 3",
   "language": "python",
   "name": "python3"
  },
  "language_info": {
   "codemirror_mode": {
    "name": "ipython",
    "version": 3
   },
   "file_extension": ".py",
   "mimetype": "text/x-python",
   "name": "python",
   "nbconvert_exporter": "python",
   "pygments_lexer": "ipython3",
   "version": "3.7.3"
  }
 },
 "nbformat": 4,
 "nbformat_minor": 4
}
