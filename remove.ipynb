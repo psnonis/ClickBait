{
 "cells": [
  {
   "cell_type": "markdown",
   "metadata": {},
   "source": [
    "| File                                                             \t| Type                                                     \t| Description                             \t|\n",
    "|------------------------------------------------------------------\t|----------------------------------------------------------\t|-----------------------------------------\t|\n",
    "| [code/common.py](./code/common.py)                               \t| <span style=\"color:blue\"><b>python module</b></span>     \t| Common spark code                       \t|\n",
    "| [code/engineering.py](./code/engineering.py)                     \t| <span style=\"color:blue\"><b>python module</b></span>     \t| Feature engineering code                \t|\n",
    "| [code/interactions.scala](./code/interactions.scala)             \t| <span style=\"color:red\"><b>scala module</b></span>       \t| Feature interaction code                \t|\n",
    "| [code/evaluation.py](./code/evaluation.py)                       \t| <span style=\"color:blue\"><b>python module</b></span>     \t| Model evaluation code                   \t|\n",
    "|                                                                  \t|                                                          \t|                                         \t|\n",
    "| [book/Engineering-Initial](./book/Engineering-Initial.ipynb)     \t| <span style=\"color:purple\"><b>python notebook</b></span> \t| Initial feature engineering             \t|\n",
    "| [book/Engineering-Initial](./book/Engineering-Advanced.ipynb)    \t| <span style=\"color:purple\"><b>python notebook</b></span> \t| Advanced feature engineering            \t|\n",
    "| [book/Engineering-Initial](./book/Engineerin-Interactions.ipynb) \t| <span style=\"color:maroon\"><b>scala notebook</b></span>  \t| Interaction feature engineering         \t|\n",
    "|                                                                  \t|                                                          \t|                                         \t|\n",
    "| [book/EDA-Brian](./book/EDA-Brian.ipynb)                         \t| <span style=\"color:purple\"><b>python notebook</b></span> \t| Categorical feature exploration         \t|\n",
    "| [book/EDA-Pri](./book/EDA-Pri.ipynb)                             \t| <span style=\"color:purple\"><b>python notebook</b></span> \t| Categorical feature exploration         \t|\n",
    "| [book/EDA-Laura](./book/EDA-Laura.ipynb)                         \t| <span style=\"color:purple\"><b>python notebook</b></span> \t| Numerical feature exploration           \t|\n",
    "|                                                                  \t|                                                          \t|                                         \t|\n",
    "| [book/KombuchaModel](./book/KombuchaModel.ipynb)                 \t| <span style=\"color:purple\"><b>python notebook</b></span> \t| Home-grown Support Vector Machine model \t|"
   ]
  },
  {
   "cell_type": "code",
   "execution_count": null,
   "metadata": {},
   "outputs": [],
   "source": []
  }
 ],
 "metadata": {
  "kernelspec": {
   "display_name": "Python 3",
   "language": "python",
   "name": "python3"
  },
  "language_info": {
   "codemirror_mode": {
    "name": "ipython",
    "version": 3
   },
   "file_extension": ".py",
   "mimetype": "text/x-python",
   "name": "python",
   "nbconvert_exporter": "python",
   "pygments_lexer": "ipython3",
   "version": "3.7.3"
  }
 },
 "nbformat": 4,
 "nbformat_minor": 4
}
