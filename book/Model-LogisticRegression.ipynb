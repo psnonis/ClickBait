{
 "cells": [
  {
   "cell_type": "code",
   "execution_count": 1,
   "metadata": {},
   "outputs": [],
   "source": [
    "from code.common import workingSet, setupSpark, importData"
   ]
  },
  {
   "cell_type": "code",
   "execution_count": 2,
   "metadata": {},
   "outputs": [
    {
     "name": "stdout",
     "output_type": "stream",
     "text": [
      "--------------------------------------------------------------------------------\n",
      "Starting Spark Initializing\n",
      "--------------------------------------------------------------------------------\n",
      "--------------------------------------------------------------------------------\n",
      "Finished Spark Initializing in 3.144 Seconds\n",
      "--------------------------------------------------------------------------------\n",
      "--------------------------------------------------------------------------------\n",
      "Starting Data Importing at data\n",
      "--------------------------------------------------------------------------------\n",
      "Loading Data Frame : df.dev\n",
      "Loading Data Frame : df.dev.normed\n",
      "Loading Data Frame : df.dev.normed.filled\n",
      "Loading Data Frame : df.dev.normed.filled.masked-180000\n",
      "Loading Data Frame : df.full\n",
      "Loading Data Frame : df.test\n",
      "Loading Data Frame : df.test.normed\n",
      "Loading Data Frame : df.test.normed.filled\n",
      "Loading Data Frame : df.test.normed.filled.masked-180000\n",
      "Loading Data Frame : df.toy\n",
      "Loading Data Frame : df.train\n",
      "Loading Data Frame : df.train.normed\n",
      "Loading Data Frame : df.train.normed.filled\n",
      "Loading Data Frame : df.train.normed.filled.masked-180000\n",
      "Loading Data Frame : df.train.normed.filled.masked-180000.encode\n",
      "Loading Data Frame : df.train.normed.filled.masked-180000.encode.picked-300\n",
      "Loading Data Frame : df.train.normed.filled.masked-180000.encode.picked-300.packed\n",
      "--------------------------------------------------------------------------------\n",
      "Finished Data Importing in 4.261 Seconds\n",
      "--------------------------------------------------------------------------------\n"
     ]
    }
   ],
   "source": [
    "setupSpark(workingSet, application = 'logistic')\n",
    "importData(workingSet, location = 'data', clean = False)"
   ]
  },
  {
   "cell_type": "code",
   "execution_count": 5,
   "metadata": {},
   "outputs": [
    {
     "data": {
      "text/plain": [
       "DataFrame[label: float, features: vector]"
      ]
     },
     "execution_count": 5,
     "metadata": {},
     "output_type": "execute_result"
    }
   ],
   "source": [
    "workingSet['df.train.normed.filled.masked-180000.encode.picked-300.packed']"
   ]
  }
 ],
 "metadata": {
  "kernelspec": {
   "display_name": "Python 3",
   "language": "python",
   "name": "python3"
  },
  "language_info": {
   "codemirror_mode": {
    "name": "ipython",
    "version": 3
   },
   "file_extension": ".py",
   "mimetype": "text/x-python",
   "name": "python",
   "nbconvert_exporter": "python",
   "pygments_lexer": "ipython3",
   "version": "3.7.3"
  }
 },
 "nbformat": 4,
 "nbformat_minor": 4
}
