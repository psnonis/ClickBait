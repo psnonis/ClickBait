{
 "cells": [
  {
   "cell_type": "markdown",
   "metadata": {},
   "source": [
    "# Advanced Feature Engineering"
   ]
  },
  {
   "cell_type": "code",
   "execution_count": 1,
   "metadata": {},
   "outputs": [],
   "source": [
    "%load_ext autoreload\n",
    "%autoreload 2\n",
    "\n",
    "from code.engineering import *"
   ]
  },
  {
   "cell_type": "code",
   "execution_count": 2,
   "metadata": {},
   "outputs": [],
   "source": [
    "min =   500 # 56535\n",
    "top = 50000"
   ]
  },
  {
   "cell_type": "code",
   "execution_count": 3,
   "metadata": {},
   "outputs": [
    {
     "name": "stdout",
     "output_type": "stream",
     "text": [
      "[06:00:24] : Starting Spark Initialization\n",
      "[06:00:27] : Stopping Spark Initialization\n",
      "\n",
      "[06:00:27] : Starting Data Import\n",
      "[06:00:27] : Stopping Data Import\n",
      "\n",
      "[06:00:27] : Starting Data Splits\n",
      "[06:02:12] : Stopping Data Splits\n",
      "\n"
     ]
    }
   ],
   "source": [
    "Engineering.setupSpark(application = 'prep')\n",
    "Engineering.importData(location = 'data', clean = False)\n",
    "Engineering.splitsData(ratios = [.8, .1, .1])"
   ]
  },
  {
   "cell_type": "code",
   "execution_count": null,
   "metadata": {},
   "outputs": [],
   "source": [
    "Engineering.numDoMeasurement(subset = 'train', iStep = f'', fit = True)\n",
    "Engineering.numDoStandardize(subset = 'train', iStep = f'')\n",
    "Engineering.numDoStandardize(subset = 'tests', iStep = f'')\n",
    "Engineering.numDoStandardize(subset = 'valid', iStep = f'')\n",
    "\n",
    "Engineering.catFillUndefined(subset = 'train', iStep = f'normed')\n",
    "Engineering.catFillUndefined(subset = 'tests', iStep = f'normed')\n",
    "Engineering.catFillUndefined(subset = 'valid', iStep = f'normed')\n",
    "\n",
    "Engineering.catFindFrequents(subset = 'train', iStep = f'normed.filled', min = min, fit = True)\n",
    "Engineering.catMaskUncommons(subset = 'train', iStep = f'normed.filled', min = min)\n",
    "Engineering.catMaskUncommons(subset = 'tests', iStep = f'normed.filled', min = min)\n",
    "Engineering.catMaskUncommons(subset = 'valid', iStep = f'normed.filled', min = min)\n",
    "\n",
    "Engineering.catDoCodeFeature(subset = 'train', iStep = f'normed.filled.masked-{min:06d}', fit = True)\n",
    "Engineering.catDoCodeFeature(subset = 'tests', iStep = f'normed.filled.masked-{min:06d}')\n",
    "Engineering.catDoCodeFeature(subset = 'valid', iStep = f'normed.filled.masked-{min:06d}')\n",
    "\n",
    "Engineering.allDoPackFeature(subset = 'train', iStep = f'normed.filled.masked-{min:06d}.encode', fit = True)\n",
    "Engineering.allDoPackFeature(subset = 'tests', iStep = f'normed.filled.masked-{min:06d}.encode')\n",
    "Engineering.allDoPackFeature(subset = 'valid', iStep = f'normed.filled.masked-{min:06d}.encode')"
   ]
  },
  {
   "cell_type": "code",
   "execution_count": 6,
   "metadata": {},
   "outputs": [],
   "source": [
    "df = Engineering.imp(subset = 'train', step = f'normed.filled.masked-{min:06d}.encode.action')"
   ]
  },
  {
   "cell_type": "code",
   "execution_count": 9,
   "metadata": {},
   "outputs": [
    {
     "data": {
      "text/plain": [
       "['label', 'num_features', 'std_features', 'cat_features', 'cxn_features']"
      ]
     },
     "execution_count": 9,
     "metadata": {},
     "output_type": "execute_result"
    }
   ],
   "source": [
    "df.columns"
   ]
  },
  {
   "cell_type": "code",
   "execution_count": 8,
   "metadata": {},
   "outputs": [
    {
     "data": {
      "text/plain": [
       "735254"
      ]
     },
     "execution_count": 8,
     "metadata": {},
     "output_type": "execute_result"
    }
   ],
   "source": [
    "df.first().cxn_features.size"
   ]
  },
  {
   "cell_type": "markdown",
   "metadata": {},
   "source": [
    "# Add Interactions - See Engineering-Advanced-Scala Notebook"
   ]
  },
  {
   "cell_type": "code",
   "execution_count": null,
   "metadata": {},
   "outputs": [
    {
     "name": "stdout",
     "output_type": "stream",
     "text": [
      "[06:02:12] : Starting Packed Final Features : iFile = data/train.parquet.normed.filled.masked-000500.encode.action\n"
     ]
    }
   ],
   "source": [
    "Engineering.allDoPackFeature(subset = 'train', iStep = f'normed.filled.masked-{min:06d}.encode.action', fit = True)"
   ]
  },
  {
   "cell_type": "code",
   "execution_count": null,
   "metadata": {},
   "outputs": [],
   "source": [
    "Engineering.allDoPackFeature(subset = 'tests', iStep = f'normed.filled.masked-{min:06d}.encode.action')\n",
    "Engineering.allDoPackFeature(subset = 'valid', iStep = f'normed.filled.masked-{min:06d}.encode.action')"
   ]
  }
 ],
 "metadata": {
  "kernelspec": {
   "display_name": "Python 3",
   "language": "python",
   "name": "python3"
  },
  "language_info": {
   "codemirror_mode": {
    "name": "ipython",
    "version": 3
   },
   "file_extension": ".py",
   "mimetype": "text/x-python",
   "name": "python",
   "nbconvert_exporter": "python",
   "pygments_lexer": "ipython3",
   "version": "3.7.3"
  }
 },
 "nbformat": 4,
 "nbformat_minor": 4
}
