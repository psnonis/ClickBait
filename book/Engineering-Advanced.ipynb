{
 "cells": [
  {
   "cell_type": "markdown",
   "metadata": {},
   "source": [
    "# Advanced Feature Engineering"
   ]
  },
  {
   "cell_type": "code",
   "execution_count": 6,
   "metadata": {},
   "outputs": [
    {
     "name": "stdout",
     "output_type": "stream",
     "text": [
      "The autoreload extension is already loaded. To reload it, use:\n",
      "  %reload_ext autoreload\n"
     ]
    }
   ],
   "source": [
    "%load_ext autoreload\n",
    "%autoreload 2\n",
    "\n",
    "from code.engineering import *"
   ]
  },
  {
   "cell_type": "code",
   "execution_count": 7,
   "metadata": {},
   "outputs": [],
   "source": [
    "min = 1000 # 36132\n",
    "top = None"
   ]
  },
  {
   "cell_type": "code",
   "execution_count": 8,
   "metadata": {},
   "outputs": [],
   "source": [
    "!rm -rf data/model.pickled.*Pipe*"
   ]
  },
  {
   "cell_type": "code",
   "execution_count": 9,
   "metadata": {},
   "outputs": [
    {
     "name": "stdout",
     "output_type": "stream",
     "text": [
      "[15:41:19] : Starting Spark Initialization\n",
      "[15:41:23] : Stopping Spark Initialization\n",
      "\n",
      "[15:41:23] : Starting Data Import\n",
      "[15:41:23] : Stopping Data Import\n",
      "\n",
      "[15:41:23] : Starting Data Splits\n",
      "[15:41:25] : Stopping Data Splits\n",
      "\n"
     ]
    }
   ],
   "source": [
    "Engineering.setupSpark(application = 'prep')\n",
    "Engineering.importData(location = 'data', clean = False)\n",
    "Engineering.splitsData(ratios = [.8, .1, .1])"
   ]
  },
  {
   "cell_type": "code",
   "execution_count": null,
   "metadata": {},
   "outputs": [
    {
     "name": "stdout",
     "output_type": "stream",
     "text": [
      "[15:41:25] : Starting Numerical Data Measurement : iFile = data/train.parquet\n",
      "[15:41:25] : Stopping Numerical Data Measurement : oFile = data/train.parquet\n",
      "\n",
      "[15:41:25] : Skipping Numerical Data Standardize : iFile = data/train.parquet\n",
      "[15:41:25] : Stopping Numerical Data Standardize : oFile = data/train.parquet.normed\n",
      "\n",
      "[15:41:25] : Skipping Numerical Data Standardize : iFile = data/tests.parquet\n",
      "[15:41:25] : Stopping Numerical Data Standardize : oFile = data/tests.parquet.normed\n",
      "\n",
      "[15:41:25] : Skipping Numerical Data Standardize : iFile = data/valid.parquet\n",
      "[15:41:25] : Stopping Numerical Data Standardize : oFile = data/valid.parquet.normed\n",
      "\n",
      "[15:41:25] : Starting Categorical Data Measurement : iFile = data/train.parquet.normed\n",
      "[15:41:30] : Stopping Categorical Data Measurement : oFile = data/train.parquet.normed\n",
      "\n",
      "[15:41:30] : Starting Categorical Mask Uncommons with Threshold of <  1000 : iFile = data/train.parquet.normed\n"
     ]
    }
   ],
   "source": [
    "Engineering.numDoMeasurement(subset = 'train', iStep = f'')\n",
    "\n",
    "Engineering.allDoStandardize(subset = 'train', iStep = f'')\n",
    "Engineering.allDoStandardize(subset = 'tests', iStep = f'')\n",
    "Engineering.allDoStandardize(subset = 'valid', iStep = f'')\n",
    "\n",
    "Engineering.catDoMeasurement(subset = 'train', iStep = f'normed')\n",
    "\n",
    "Engineering.catMaskUncommons(subset = 'train', iStep = f'normed', min = min)\n",
    "Engineering.catMaskUncommons(subset = 'tests', iStep = f'normed', min = min)\n",
    "Engineering.catMaskUncommons(subset = 'valid', iStep = f'normed', min = min)\n",
    "\n",
    "Engineering.catDoCodeFeature(subset = 'train', iStep = f'normed.masked-{min:06d}', min = min, fit = True)\n",
    "Engineering.catDoCodeFeature(subset = 'tests', iStep = f'normed.masked-{min:06d}', min = min)\n",
    "Engineering.catDoCodeFeature(subset = 'valid', iStep = f'normed.masked-{min:06d}', min = min)\n",
    "\n",
    "Engineering.allDoPackFeature(subset = 'train', iStep = f'normed.masked-{min:06d}.encode', fit = True)\n",
    "Engineering.allDoPackFeature(subset = 'tests', iStep = f'normed.masked-{min:06d}.encode')\n",
    "Engineering.allDoPackFeature(subset = 'valid', iStep = f'normed.masked-{min:06d}.encode')"
   ]
  },
  {
   "cell_type": "code",
   "execution_count": null,
   "metadata": {},
   "outputs": [],
   "source": [
    "df = Engineering.imp(subset = 'train', step = f'normed.filled.masked-{min:06d}.encode.action')"
   ]
  },
  {
   "cell_type": "code",
   "execution_count": null,
   "metadata": {},
   "outputs": [],
   "source": [
    "df.columns"
   ]
  },
  {
   "cell_type": "code",
   "execution_count": null,
   "metadata": {},
   "outputs": [],
   "source": [
    "df.first().cxn_features.size"
   ]
  },
  {
   "cell_type": "code",
   "execution_count": null,
   "metadata": {},
   "outputs": [],
   "source": [
    "glob('data/*.parquet.normed.filled.*')"
   ]
  },
  {
   "cell_type": "markdown",
   "metadata": {},
   "source": [
    "# Add Interactions - See Engineering-Advanced-Scala Notebook"
   ]
  },
  {
   "cell_type": "code",
   "execution_count": null,
   "metadata": {},
   "outputs": [],
   "source": [
    "Engineering.allDoPackFeature(subset = 'train', iStep = f'normed.filled.masked-{min:06d}.encode.action', fit = True)"
   ]
  },
  {
   "cell_type": "code",
   "execution_count": null,
   "metadata": {},
   "outputs": [],
   "source": [
    "Engineering.allDoPackFeature(subset = 'tests', iStep = f'normed.filled.masked-{min:06d}.encode.action')\n",
    "Engineering.allDoPackFeature(subset = 'valid', iStep = f'normed.filled.masked-{min:06d}.encode.action')"
   ]
  }
 ],
 "metadata": {
  "kernelspec": {
   "display_name": "Python 3",
   "language": "python",
   "name": "python3"
  },
  "language_info": {
   "codemirror_mode": {
    "name": "ipython",
    "version": 3
   },
   "file_extension": ".py",
   "mimetype": "text/x-python",
   "name": "python",
   "nbconvert_exporter": "python",
   "pygments_lexer": "ipython3",
   "version": "3.7.3"
  }
 },
 "nbformat": 4,
 "nbformat_minor": 4
}
