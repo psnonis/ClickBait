{
 "cells": [
  {
   "cell_type": "markdown",
   "metadata": {},
   "source": [
    "# Advanced Feature Engineering"
   ]
  },
  {
   "cell_type": "code",
   "execution_count": 1,
   "metadata": {},
   "outputs": [],
   "source": [
    "%load_ext autoreload\n",
    "%autoreload 2\n",
    "\n",
    "from code.engineering import *"
   ]
  },
  {
   "cell_type": "code",
   "execution_count": 2,
   "metadata": {},
   "outputs": [],
   "source": [
    "min =  1000 # 56535\n",
    "top = 50000"
   ]
  },
  {
   "cell_type": "code",
   "execution_count": 3,
   "metadata": {},
   "outputs": [
    {
     "name": "stdout",
     "output_type": "stream",
     "text": [
      "[07:31:09] : Starting Spark Initialization\n",
      "[07:31:12] : Stopping Spark Initialization\n",
      "\n",
      "[07:31:12] : Starting Data Import\n",
      "[07:31:12] : Stopping Data Import\n",
      "\n",
      "[07:31:12] : Starting Data Splits\n",
      "[07:31:14] : Stopping Data Splits\n",
      "\n"
     ]
    }
   ],
   "source": [
    "Engineering.setupSpark(application = 'prep')\n",
    "Engineering.importData(location = 'data', clean = False)\n",
    "Engineering.splitsData(ratios = [.8, .1, .1])"
   ]
  },
  {
   "cell_type": "code",
   "execution_count": null,
   "metadata": {},
   "outputs": [
    {
     "name": "stdout",
     "output_type": "stream",
     "text": [
      "[07:31:14] : Starting   Numerical Data Measurement : iFile = data/train.parquet\n",
      "[07:31:14] : Stopping   Numerical Data Measurement : oFile = data/train.parquet\n",
      "\n",
      "[07:31:14] : Skipping Numerical Data Standardize : iFile = data/train.parquet\n",
      "[07:31:14] : Stopping Numerical Data Standardize : oFile = data/train.parquet.normed\n",
      "\n",
      "[07:31:14] : Skipping Numerical Data Standardize : iFile = data/tests.parquet\n",
      "[07:31:14] : Stopping Numerical Data Standardize : oFile = data/tests.parquet.normed\n",
      "\n",
      "[07:31:14] : Skipping Numerical Data Standardize : iFile = data/valid.parquet\n",
      "[07:31:14] : Stopping Numerical Data Standardize : oFile = data/valid.parquet.normed\n",
      "\n",
      "[07:31:14] : Starting Categorical Data Measurement : iFile = data/train.parquet.normed\n",
      "[07:31:19] : Stopping Categorical Data Measurement : oFile = data/train.parquet.normed\n",
      "\n",
      "[07:31:19] : Starting Categorical Mask Uncommons with Threshold of <  1000 : iFile = data/train.parquet.normed\n"
     ]
    }
   ],
   "source": [
    "Engineering.numDoMeasurement(subset = 'train', iStep = f'')\n",
    "\n",
    "Engineering.allDoStandardize(subset = 'train', iStep = f'')\n",
    "Engineering.allDoStandardize(subset = 'tests', iStep = f'')\n",
    "Engineering.allDoStandardize(subset = 'valid', iStep = f'')\n",
    "\n",
    "Engineering.catDoMeasurement(subset = 'train', iStep = f'normed')\n",
    "\n",
    "Engineering.catMaskUncommons(subset = 'train', iStep = f'normed', min = min)\n",
    "Engineering.catMaskUncommons(subset = 'tests', iStep = f'normed', min = min)\n",
    "Engineering.catMaskUncommons(subset = 'valid', iStep = f'normed', min = min)\n",
    "\n",
    "Engineering.catDoCodeFeature(subset = 'train', iStep = f'normed.masked-{min:06d}', fit = True)\n",
    "Engineering.catDoCodeFeature(subset = 'tests', iStep = f'normed.masked-{min:06d}')\n",
    "Engineering.catDoCodeFeature(subset = 'valid', iStep = f'normed.masked-{min:06d}')\n",
    "\n",
    "Engineering.allDoPackFeature(subset = 'train', iStep = f'normed.masked-{min:06d}.encode', fit = True)\n",
    "Engineering.allDoPackFeature(subset = 'tests', iStep = f'normed.masked-{min:06d}.encode')\n",
    "Engineering.allDoPackFeature(subset = 'valid', iStep = f'normed.masked-{min:06d}.encode')"
   ]
  },
  {
   "cell_type": "code",
   "execution_count": null,
   "metadata": {},
   "outputs": [],
   "source": [
    "df = Engineering.imp(subset = 'train', step = f'normed.filled.masked-{min:06d}.encode.action')"
   ]
  },
  {
   "cell_type": "code",
   "execution_count": null,
   "metadata": {},
   "outputs": [],
   "source": [
    "df.columns"
   ]
  },
  {
   "cell_type": "code",
   "execution_count": null,
   "metadata": {},
   "outputs": [],
   "source": [
    "df.first().cxn_features.size"
   ]
  },
  {
   "cell_type": "markdown",
   "metadata": {},
   "source": [
    "# Add Interactions - See Engineering-Advanced-Scala Notebook"
   ]
  },
  {
   "cell_type": "code",
   "execution_count": null,
   "metadata": {},
   "outputs": [],
   "source": [
    "Engineering.allDoPackFeature(subset = 'train', iStep = f'normed.filled.masked-{min:06d}.encode.action', fit = True)"
   ]
  },
  {
   "cell_type": "code",
   "execution_count": null,
   "metadata": {},
   "outputs": [],
   "source": [
    "Engineering.allDoPackFeature(subset = 'tests', iStep = f'normed.filled.masked-{min:06d}.encode.action')\n",
    "Engineering.allDoPackFeature(subset = 'valid', iStep = f'normed.filled.masked-{min:06d}.encode.action')"
   ]
  }
 ],
 "metadata": {
  "kernelspec": {
   "display_name": "Python 3",
   "language": "python",
   "name": "python3"
  },
  "language_info": {
   "codemirror_mode": {
    "name": "ipython",
    "version": 3
   },
   "file_extension": ".py",
   "mimetype": "text/x-python",
   "name": "python",
   "nbconvert_exporter": "python",
   "pygments_lexer": "ipython3",
   "version": "3.7.3"
  }
 },
 "nbformat": 4,
 "nbformat_minor": 4
}
