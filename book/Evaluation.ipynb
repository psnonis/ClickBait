{
 "cells": [
  {
   "cell_type": "code",
   "execution_count": 4,
   "metadata": {},
   "outputs": [
    {
     "name": "stdout",
     "output_type": "stream",
     "text": [
      "The autoreload extension is already loaded. To reload it, use:\n",
      "  %reload_ext autoreload\n"
     ]
    }
   ],
   "source": [
    "%load_ext autoreload\n",
    "%autoreload 2\n",
    "\n",
    "from code.evaluation import *"
   ]
  },
  {
   "cell_type": "code",
   "execution_count": 9,
   "metadata": {},
   "outputs": [
    {
     "name": "stdout",
     "output_type": "stream",
     "text": [
      "[03:07:49] : Starting Spark Initialization\n",
      "[03:07:49] : Stopping Spark Initialization\n",
      "\n",
      "[03:07:49] : Starting Data Import\n",
      "[03:07:49] : Stopping Data Import\n",
      "\n"
     ]
    }
   ],
   "source": [
    "Evaluation.setupSpark(application = 'eval')\n",
    "Evaluation.importData(location = 'data', clean = False)"
   ]
  },
  {
   "cell_type": "code",
   "execution_count": 7,
   "metadata": {},
   "outputs": [
    {
     "name": "stdout",
     "output_type": "stream",
     "text": [
      "2.2G\tdata/train.parquet\n",
      "44G\tdata/train.parquet.normed.filled.masked-000500.encode.action.packed\n",
      "2.2G\tdata/train.parquet.normed.filled.masked-000500.encode.packed\n",
      "1.5G\tdata/train.parquet.normed.filled.masked-060000.encode.picked-000987.packed\n",
      "492K\tdata/train.parquet.toy\n"
     ]
    }
   ],
   "source": [
    "!du -hs data/train*"
   ]
  },
  {
   "cell_type": "code",
   "execution_count": 9,
   "metadata": {},
   "outputs": [
    {
     "name": "stdout",
     "output_type": "stream",
     "text": [
      "[19:49:12] : LogisticRegression : Frame : normed.filled.masked-060000.encode.picked-000987.packed\n",
      "[19:49:12] : LogisticRegression : Rebal : False\n",
      "[19:49:12] : LogisticRegression : Param : {'maxIter': 100, 'regParam': 0.0, 'family': 'binomial'}\n",
      "[19:52:29] : LogisticRegression : Elaps : 196.9 Seconds\n",
      "[19:52:29] : LogisticRegression : Train : Width = 1000 : Score = 73.64%\n",
      "[19:52:29] : LogisticRegression : Tests : Width = 1000 : Score = 73.65%\n",
      "[19:52:29] : LogisticRegression : Valid : Width = 1000 : Score = 73.63%\n"
     ]
    }
   ],
   "source": [
    "Evaluation.eval(estimator = LogisticRegression,\n",
    "                evaluator = BinaryClassificationEvaluator,\n",
    "                dataframe = 'normed.filled.masked-060000.encode.picked-000987.packed',\n",
    "                weighting = False, maxIter = 100, regParam = 0.0, family = 'binomial')"
   ]
  },
  {
   "cell_type": "code",
   "execution_count": null,
   "metadata": {},
   "outputs": [],
   "source": [
    "Evaluation.eval(estimator = LogisticRegression,\n",
    "                evaluator = BinaryClassificationEvaluator,\n",
    "                dataframe = 'normed.filled.masked-060000.encode.picked-000987.action.packed',\n",
    "                weighting = False, maxIter = 100, regParam = 0.0, family = 'binomial')"
   ]
  },
  {
   "cell_type": "code",
   "execution_count": 10,
   "metadata": {},
   "outputs": [
    {
     "name": "stdout",
     "output_type": "stream",
     "text": [
      "[20:00:26] : LogisticRegression : Frame : normed.filled.masked-000500.encode.packed\n",
      "[20:00:26] : LogisticRegression : Rebal : False\n",
      "[20:00:26] : LogisticRegression : Param : {'maxIter': 100, 'regParam': 0.0, 'family': 'binomial'}\n",
      "[20:05:57] : LogisticRegression : Elaps : 327.3 Seconds\n",
      "[20:05:57] : LogisticRegression : Train : Width = 56571 : Score = 77.88%\n",
      "[20:05:57] : LogisticRegression : Tests : Width = 56571 : Score = 77.75%\n",
      "[20:05:57] : LogisticRegression : Valid : Width = 56571 : Score = 77.75%\n"
     ]
    }
   ],
   "source": [
    "Evaluation.eval(estimator = LogisticRegression,\n",
    "                evaluator = BinaryClassificationEvaluator,\n",
    "                dataframe = f'normed.filled.masked-000500.encode.packed',\n",
    "                weighting = False, maxIter = 100, regParam = 0.0, family = 'binomial')"
   ]
  },
  {
   "cell_type": "code",
   "execution_count": null,
   "metadata": {},
   "outputs": [],
   "source": [
    "Evaluation.eval(estimator = LogisticRegression,\n",
    "                evaluator = BinaryClassificationEvaluator,\n",
    "                dataframe = f'normed.filled.masked-000500.encode.action.packed',\n",
    "                weighting = False, maxIter = 100, regParam = 0.0, family = 'binomial')"
   ]
  },
  {
   "cell_type": "code",
   "execution_count": 10,
   "metadata": {},
   "outputs": [],
   "source": [
    "filled = Common.imp('train', 'normed.filled')"
   ]
  }
 ],
 "metadata": {
  "kernelspec": {
   "display_name": "Python 3",
   "language": "python",
   "name": "python3"
  },
  "language_info": {
   "codemirror_mode": {
    "name": "ipython",
    "version": 3
   },
   "file_extension": ".py",
   "mimetype": "text/x-python",
   "name": "python",
   "nbconvert_exporter": "python",
   "pygments_lexer": "ipython3",
   "version": "3.7.3"
  }
 },
 "nbformat": 4,
 "nbformat_minor": 4
}
