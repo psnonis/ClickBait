{
 "cells": [
  {
   "cell_type": "markdown",
   "metadata": {},
   "source": [
    "# Numerical Standardizations"
   ]
  },
  {
   "cell_type": "code",
   "execution_count": 268,
   "metadata": {},
   "outputs": [],
   "source": [
    "import pandas  as pd\n",
    "import numpy   as np\n",
    "import seaborn as sns\n",
    "import time    as ti\n",
    "import itertools\n",
    "import matplotlib.pyplot as plt\n",
    "import pickle\n",
    "\n",
    "from pyspark.ml.classification import LogisticRegression\n",
    "from pyspark.ml.linalg         import Vectors\n",
    "from pyspark.ml.feature        import OneHotEncoderEstimator, StringIndexer, VectorAssembler, StandardScaler\n",
    "from pyspark.ml                import Pipeline\n",
    "from pyspark.mllib.stat        import Statistics\n",
    "\n",
    "from pyspark.sql               import SparkSession, SQLContext\n",
    "from pyspark.sql.types         import StructType, StructField, BooleanType, IntegerType, StringType, DoubleType, BinaryType\n",
    "from pyspark.sql.functions     import countDistinct, col, desc, log, corr, lit"
   ]
  },
  {
   "cell_type": "code",
   "execution_count": 2,
   "metadata": {},
   "outputs": [],
   "source": [
    "ss = SparkSession.builder\\\n",
    "     .config('spark.executor.memory',       '4G')\\\n",
    "     .config('spark.driver.memory',        '40G')\\\n",
    "     .config('spark.driver.maxResultSize', '10G')\\\n",
    "     .getOrCreate()\n",
    "sc = ss.sparkContext\n",
    "sq = SQLContext(sc)"
   ]
  },
  {
   "cell_type": "markdown",
   "metadata": {},
   "source": [
    "# Overall Stats"
   ]
  },
  {
   "cell_type": "code",
   "execution_count": 48,
   "metadata": {},
   "outputs": [],
   "source": [
    "pf = ss.read.parquet('../data/train_w261.parquet')"
   ]
  },
  {
   "cell_type": "code",
   "execution_count": 49,
   "metadata": {},
   "outputs": [],
   "source": [
    "num_features = [c for c in pf.columns if 'i' in c]"
   ]
  },
  {
   "cell_type": "code",
   "execution_count": 25,
   "metadata": {},
   "outputs": [],
   "source": [
    "ctr_stats = pf.describe(['ctr']).toPandas()"
   ]
  },
  {
   "cell_type": "code",
   "execution_count": 26,
   "metadata": {},
   "outputs": [],
   "source": [
    "num_summary = pf.describe( num_features ).toPandas()\n",
    "num_summary = pd.concat([num_summary,ctr_stats],axis=1,sort=False)"
   ]
  },
  {
   "cell_type": "code",
   "execution_count": 27,
   "metadata": {},
   "outputs": [],
   "source": [
    "num_stats = num_summary.T"
   ]
  },
  {
   "cell_type": "code",
   "execution_count": 28,
   "metadata": {},
   "outputs": [],
   "source": [
    "num_median = pf.approxQuantile(col=num_features,probabilities=[0.5],relativeError=0.005)\n",
    "num_median.append([-999])\n",
    "num_median = list(itertools.chain.from_iterable(num_median))"
   ]
  },
  {
   "cell_type": "code",
   "execution_count": 29,
   "metadata": {},
   "outputs": [],
   "source": [
    "num_stats= num_stats.rename(columns=num_stats.iloc[0])"
   ]
  },
  {
   "cell_type": "code",
   "execution_count": 30,
   "metadata": {},
   "outputs": [],
   "source": [
    "num_stats=num_stats.drop(num_stats.index[0])"
   ]
  },
  {
   "cell_type": "code",
   "execution_count": 31,
   "metadata": {},
   "outputs": [],
   "source": [
    "num_stats['median']=num_median"
   ]
  },
  {
   "cell_type": "code",
   "execution_count": 32,
   "metadata": {},
   "outputs": [],
   "source": [
    "num_stats['count'] = num_stats['count'].astype(int)"
   ]
  },
  {
   "cell_type": "code",
   "execution_count": 33,
   "metadata": {},
   "outputs": [],
   "source": [
    "num_stats['mean'] = num_stats['mean'].astype(float)"
   ]
  },
  {
   "cell_type": "code",
   "execution_count": 34,
   "metadata": {},
   "outputs": [],
   "source": [
    "num_stats['stddev'] = num_stats['stddev'].astype(float)"
   ]
  },
  {
   "cell_type": "code",
   "execution_count": 35,
   "metadata": {},
   "outputs": [],
   "source": [
    "num_stats['median'] = num_stats['median'].astype(int)"
   ]
  },
  {
   "cell_type": "code",
   "execution_count": 36,
   "metadata": {},
   "outputs": [],
   "source": [
    "num_stats['min'] = num_stats['min'].astype(float)"
   ]
  },
  {
   "cell_type": "code",
   "execution_count": 37,
   "metadata": {},
   "outputs": [],
   "source": [
    "num_stats['max'] = num_stats['max'].astype(float)"
   ]
  },
  {
   "cell_type": "code",
   "execution_count": 38,
   "metadata": {},
   "outputs": [
    {
     "data": {
      "text/plain": [
       "count       int64\n",
       "mean      float64\n",
       "stddev    float64\n",
       "min       float64\n",
       "max       float64\n",
       "median      int64\n",
       "dtype: object"
      ]
     },
     "execution_count": 38,
     "metadata": {},
     "output_type": "execute_result"
    }
   ],
   "source": [
    "num_stats.dtypes"
   ]
  },
  {
   "cell_type": "code",
   "execution_count": 39,
   "metadata": {},
   "outputs": [],
   "source": [
    "num_stats['Pearson2Skew'] = 3*(num_stats['mean']-num_stats['median'])/num_stats['stddev']"
   ]
  },
  {
   "cell_type": "code",
   "execution_count": 40,
   "metadata": {},
   "outputs": [],
   "source": [
    "num_stats.loc[['ctr'],['median','Pearson2Skew']]= np.nan"
   ]
  },
  {
   "cell_type": "code",
   "execution_count": 41,
   "metadata": {},
   "outputs": [
    {
     "data": {
      "text/html": [
       "<div>\n",
       "<style scoped>\n",
       "    .dataframe tbody tr th:only-of-type {\n",
       "        vertical-align: middle;\n",
       "    }\n",
       "\n",
       "    .dataframe tbody tr th {\n",
       "        vertical-align: top;\n",
       "    }\n",
       "\n",
       "    .dataframe thead th {\n",
       "        text-align: right;\n",
       "    }\n",
       "</style>\n",
       "<table border=\"1\" class=\"dataframe\">\n",
       "  <thead>\n",
       "    <tr style=\"text-align: right;\">\n",
       "      <th></th>\n",
       "      <th>count</th>\n",
       "      <th>mean</th>\n",
       "      <th>stddev</th>\n",
       "      <th>min</th>\n",
       "      <th>max</th>\n",
       "      <th>median</th>\n",
       "      <th>Pearson2Skew</th>\n",
       "    </tr>\n",
       "    <tr>\n",
       "      <th>variable</th>\n",
       "      <th></th>\n",
       "      <th></th>\n",
       "      <th></th>\n",
       "      <th></th>\n",
       "      <th></th>\n",
       "      <th></th>\n",
       "      <th></th>\n",
       "    </tr>\n",
       "  </thead>\n",
       "  <tbody>\n",
       "    <tr>\n",
       "      <th>i01</th>\n",
       "      <td>20035247</td>\n",
       "      <td>3.500060</td>\n",
       "      <td>9.427662</td>\n",
       "      <td>0.0</td>\n",
       "      <td>5775.0</td>\n",
       "      <td>1.0</td>\n",
       "      <td>0.795550</td>\n",
       "    </tr>\n",
       "    <tr>\n",
       "      <th>i02</th>\n",
       "      <td>36673203</td>\n",
       "      <td>105.881091</td>\n",
       "      <td>391.940275</td>\n",
       "      <td>-3.0</td>\n",
       "      <td>257675.0</td>\n",
       "      <td>3.0</td>\n",
       "      <td>0.787475</td>\n",
       "    </tr>\n",
       "    <tr>\n",
       "      <th>i03</th>\n",
       "      <td>28802877</td>\n",
       "      <td>26.910415</td>\n",
       "      <td>396.797641</td>\n",
       "      <td>0.0</td>\n",
       "      <td>65535.0</td>\n",
       "      <td>7.0</td>\n",
       "      <td>0.150533</td>\n",
       "    </tr>\n",
       "    <tr>\n",
       "      <th>i04</th>\n",
       "      <td>28723574</td>\n",
       "      <td>7.322778</td>\n",
       "      <td>8.799146</td>\n",
       "      <td>0.0</td>\n",
       "      <td>969.0</td>\n",
       "      <td>4.0</td>\n",
       "      <td>1.132875</td>\n",
       "    </tr>\n",
       "    <tr>\n",
       "      <th>i05</th>\n",
       "      <td>35725965</td>\n",
       "      <td>18545.307976</td>\n",
       "      <td>69435.515294</td>\n",
       "      <td>0.0</td>\n",
       "      <td>23159456.0</td>\n",
       "      <td>2881.0</td>\n",
       "      <td>0.676785</td>\n",
       "    </tr>\n",
       "    <tr>\n",
       "      <th>i06</th>\n",
       "      <td>28469401</td>\n",
       "      <td>116.147388</td>\n",
       "      <td>391.380525</td>\n",
       "      <td>0.0</td>\n",
       "      <td>431037.0</td>\n",
       "      <td>34.0</td>\n",
       "      <td>0.629674</td>\n",
       "    </tr>\n",
       "    <tr>\n",
       "      <th>i07</th>\n",
       "      <td>35085776</td>\n",
       "      <td>16.322690</td>\n",
       "      <td>65.524064</td>\n",
       "      <td>0.0</td>\n",
       "      <td>34536.0</td>\n",
       "      <td>4.0</td>\n",
       "      <td>0.564191</td>\n",
       "    </tr>\n",
       "    <tr>\n",
       "      <th>i08</th>\n",
       "      <td>36654939</td>\n",
       "      <td>12.517513</td>\n",
       "      <td>16.816877</td>\n",
       "      <td>0.0</td>\n",
       "      <td>6047.0</td>\n",
       "      <td>8.0</td>\n",
       "      <td>0.805889</td>\n",
       "    </tr>\n",
       "    <tr>\n",
       "      <th>i09</th>\n",
       "      <td>35085776</td>\n",
       "      <td>106.106119</td>\n",
       "      <td>220.289905</td>\n",
       "      <td>0.0</td>\n",
       "      <td>29019.0</td>\n",
       "      <td>40.0</td>\n",
       "      <td>0.900261</td>\n",
       "    </tr>\n",
       "    <tr>\n",
       "      <th>i10</th>\n",
       "      <td>20035247</td>\n",
       "      <td>0.617435</td>\n",
       "      <td>0.683969</td>\n",
       "      <td>0.0</td>\n",
       "      <td>10.0</td>\n",
       "      <td>1.0</td>\n",
       "      <td>-1.677994</td>\n",
       "    </tr>\n",
       "    <tr>\n",
       "      <th>i11</th>\n",
       "      <td>35085776</td>\n",
       "      <td>2.732185</td>\n",
       "      <td>5.196922</td>\n",
       "      <td>0.0</td>\n",
       "      <td>231.0</td>\n",
       "      <td>1.0</td>\n",
       "      <td>0.999930</td>\n",
       "    </tr>\n",
       "    <tr>\n",
       "      <th>i12</th>\n",
       "      <td>8615961</td>\n",
       "      <td>0.991808</td>\n",
       "      <td>5.672792</td>\n",
       "      <td>0.0</td>\n",
       "      <td>4008.0</td>\n",
       "      <td>0.0</td>\n",
       "      <td>0.524508</td>\n",
       "    </tr>\n",
       "    <tr>\n",
       "      <th>i13</th>\n",
       "      <td>28723574</td>\n",
       "      <td>8.219770</td>\n",
       "      <td>16.413245</td>\n",
       "      <td>0.0</td>\n",
       "      <td>7393.0</td>\n",
       "      <td>5.0</td>\n",
       "      <td>0.588507</td>\n",
       "    </tr>\n",
       "    <tr>\n",
       "      <th>ctr</th>\n",
       "      <td>36673203</td>\n",
       "      <td>0.256198</td>\n",
       "      <td>0.436533</td>\n",
       "      <td>0.0</td>\n",
       "      <td>1.0</td>\n",
       "      <td>NaN</td>\n",
       "      <td>NaN</td>\n",
       "    </tr>\n",
       "  </tbody>\n",
       "</table>\n",
       "</div>"
      ],
      "text/plain": [
       "             count          mean        stddev  min         max  median  \\\n",
       "variable                                                                  \n",
       "i01       20035247      3.500060      9.427662  0.0      5775.0     1.0   \n",
       "i02       36673203    105.881091    391.940275 -3.0    257675.0     3.0   \n",
       "i03       28802877     26.910415    396.797641  0.0     65535.0     7.0   \n",
       "i04       28723574      7.322778      8.799146  0.0       969.0     4.0   \n",
       "i05       35725965  18545.307976  69435.515294  0.0  23159456.0  2881.0   \n",
       "i06       28469401    116.147388    391.380525  0.0    431037.0    34.0   \n",
       "i07       35085776     16.322690     65.524064  0.0     34536.0     4.0   \n",
       "i08       36654939     12.517513     16.816877  0.0      6047.0     8.0   \n",
       "i09       35085776    106.106119    220.289905  0.0     29019.0    40.0   \n",
       "i10       20035247      0.617435      0.683969  0.0        10.0     1.0   \n",
       "i11       35085776      2.732185      5.196922  0.0       231.0     1.0   \n",
       "i12        8615961      0.991808      5.672792  0.0      4008.0     0.0   \n",
       "i13       28723574      8.219770     16.413245  0.0      7393.0     5.0   \n",
       "ctr       36673203      0.256198      0.436533  0.0         1.0     NaN   \n",
       "\n",
       "          Pearson2Skew  \n",
       "variable                \n",
       "i01           0.795550  \n",
       "i02           0.787475  \n",
       "i03           0.150533  \n",
       "i04           1.132875  \n",
       "i05           0.676785  \n",
       "i06           0.629674  \n",
       "i07           0.564191  \n",
       "i08           0.805889  \n",
       "i09           0.900261  \n",
       "i10          -1.677994  \n",
       "i11           0.999930  \n",
       "i12           0.524508  \n",
       "i13           0.588507  \n",
       "ctr                NaN  "
      ]
     },
     "execution_count": 41,
     "metadata": {},
     "output_type": "execute_result"
    }
   ],
   "source": [
    "num_stats.index.name = 'variable'\n",
    "num_stats"
   ]
  },
  {
   "cell_type": "code",
   "execution_count": 42,
   "metadata": {},
   "outputs": [],
   "source": [
    "num_stats.to_csv('num_stats.csv')"
   ]
  },
  {
   "cell_type": "markdown",
   "metadata": {},
   "source": [
    "# Analysis of Each Numerical Feature"
   ]
  },
  {
   "cell_type": "code",
   "execution_count": null,
   "metadata": {},
   "outputs": [],
   "source": [
    "print(num_features)\n",
    "print(type(num_features))"
   ]
  },
  {
   "cell_type": "code",
   "execution_count": null,
   "metadata": {},
   "outputs": [],
   "source": [
    "num_features.append('ctr')\n",
    "print(num_features)\n"
   ]
  },
  {
   "cell_type": "code",
   "execution_count": null,
   "metadata": {},
   "outputs": [],
   "source": [
    "idf = pf[num_features].cache()"
   ]
  },
  {
   "cell_type": "markdown",
   "metadata": {},
   "source": [
    "## i01"
   ]
  },
  {
   "cell_type": "code",
   "execution_count": null,
   "metadata": {},
   "outputs": [],
   "source": [
    "i1 = idf.select('i01','ctr').cache()"
   ]
  },
  {
   "cell_type": "code",
   "execution_count": null,
   "metadata": {},
   "outputs": [],
   "source": [
    "smpl = i1.sample(fraction=0.000005, seed=2019)\n",
    "smpl.count()"
   ]
  },
  {
   "cell_type": "code",
   "execution_count": null,
   "metadata": {},
   "outputs": [],
   "source": [
    "smpl1=smpl.withColumn(\"logi01\",log(\"i01\"))\n",
    "smpl1.show(30)"
   ]
  },
  {
   "cell_type": "code",
   "execution_count": null,
   "metadata": {},
   "outputs": [],
   "source": [
    "i1_hist = i1.select('i01').rdd.flatMap(lambda x: x).histogram(5775)"
   ]
  },
  {
   "cell_type": "code",
   "execution_count": null,
   "metadata": {},
   "outputs": [],
   "source": [
    "i1_values = i1_hist[0]\n",
    "i1_values_count = i1_hist[1]\n",
    "\n",
    "print(f\"lengths: i1values={len(i1_values)}, i1counts={len(i1_values_count)}\")"
   ]
  },
  {
   "cell_type": "code",
   "execution_count": null,
   "metadata": {},
   "outputs": [],
   "source": [
    "i1_values.pop(0)\n",
    "print(f\"lengths: i1values={len(i1_values)}, i1counts={len(i1_values_count)}\")"
   ]
  },
  {
   "cell_type": "code",
   "execution_count": null,
   "metadata": {},
   "outputs": [],
   "source": [
    "i1_smpl = i1.sample(fraction=0.1,seed=42).toPandas()"
   ]
  },
  {
   "cell_type": "code",
   "execution_count": null,
   "metadata": {},
   "outputs": [],
   "source": [
    "i1_smpl.describe()"
   ]
  },
  {
   "cell_type": "code",
   "execution_count": null,
   "metadata": {},
   "outputs": [],
   "source": [
    "i1_counts = i1.groupBy('i01').count().toPandas()"
   ]
  },
  {
   "cell_type": "code",
   "execution_count": null,
   "metadata": {},
   "outputs": [],
   "source": [
    "i1_counts.head()"
   ]
  },
  {
   "cell_type": "code",
   "execution_count": null,
   "metadata": {},
   "outputs": [],
   "source": [
    "i1_smpl.head()"
   ]
  },
  {
   "cell_type": "code",
   "execution_count": null,
   "metadata": {},
   "outputs": [],
   "source": [
    "fig=plt.figure(figsize=(25,5))\n",
    "# Box Plot\n",
    "ax=fig.add_subplot(1,5,1)\n",
    "ax=sns.boxplot(x=i1_smpl['i01'])\n",
    "ax.set(xlim=(-1,40))\n",
    "ax.set_xlabel('Value of i01')\n",
    "\n",
    "# Violin Plot\n",
    "ax=fig.add_subplot(1,5,2)\n",
    "ax=sns.violinplot(x=i1_smpl['i01'])\n",
    "ax.set(xlim=(-1,40))\n",
    "ax.set_xlabel('Value of i01')\n",
    "\n",
    "# Histogram\n",
    "ax=fig.add_subplot(1,5,3)\n",
    "ax.hist(i1_values,len(i1_values),weights=i1_values_count,color='red')\n",
    "ax.set(xlim=(-1,40))\n",
    "ax.set_xlabel('Value of i01')\n",
    "ax.set_ylabel('count')\n",
    "\n",
    "# ScatterPlot\n",
    "ax=fig.add_subplot(1,5,4)\n",
    "ax.scatter(x=i1_counts['i01'],y=i1_counts['count'])\n",
    "ax.set(xlim=(-1,40))\n",
    "ax.set_xlabel('Value of i01')\n",
    "ax.set_ylabel('count')\n",
    "\n",
    "#Jointplot vs class\n",
    "# ax = fig.add_subplot(1,5,5)\n",
    "# ax=sns.jointplot(x=i1_smpl['i01'],y=i1_smpl['ctr'],kind='kde')\n",
    "# ax.set(xlim=(-1,40))\n",
    "# ax.set_xlabel('Value of i01')\n",
    "# ax.set_ylabel('Value of ctr')\n",
    "\n",
    "plt.show()"
   ]
  },
  {
   "cell_type": "code",
   "execution_count": null,
   "metadata": {},
   "outputs": [],
   "source": [
    "i1_smpl['normed']=(i1_smpl['i01'])/(2*9.391380)\n",
    "i1_smpl.describe()"
   ]
  },
  {
   "cell_type": "code",
   "execution_count": null,
   "metadata": {},
   "outputs": [],
   "source": [
    "fig=plt.figure(figsize=(24,8))\n",
    "# Box Plot\n",
    "ax=fig.add_subplot(1,3,1)\n",
    "ax=sns.boxplot(x=i1_smpl['normed'])\n",
    "ax.set(xlim=(-0.1,2))\n",
    "ax.set_xlabel('Normed Value of i01')\n",
    "\n",
    "# Violin Plot\n",
    "ax=fig.add_subplot(1,3,2)\n",
    "ax=sns.violinplot(x=i1_smpl['normed'])\n",
    "ax.set(xlim=(-0.1,3))\n",
    "ax.set_xlabel('Normed Value of i01')\n",
    "\n",
    "# Histogram\n",
    "ax=fig.add_subplot(1,3,3)\n",
    "ax.hist(i1_smpl['normed'],bins=1900)\n",
    "ax.set(xlim=(-0.1,2))\n",
    "ax.set_xlabel('Normed Value of i01')\n",
    "ax.set_ylabel('count')\n",
    "\n",
    "plt.show()"
   ]
  },
  {
   "cell_type": "markdown",
   "metadata": {},
   "source": [
    "**Conclusion for i01**\n",
    "- given the number of 0.0 values (which are NOT null), we cannot log this data, as we introduce a lot more null values\n",
    "- exponentially decreasing distribution\n",
    "- normalization should only consist of division by 2 times the standard deviation as we don't want to push any values down into the negative, given there are no negative values in the original data"
   ]
  },
  {
   "cell_type": "markdown",
   "metadata": {},
   "source": [
    "## i02"
   ]
  },
  {
   "cell_type": "code",
   "execution_count": null,
   "metadata": {},
   "outputs": [],
   "source": [
    "i2 = idf.select('i02').cache()"
   ]
  },
  {
   "cell_type": "code",
   "execution_count": null,
   "metadata": {},
   "outputs": [],
   "source": [
    "negs=i2.filter(i2.i02 == -1)"
   ]
  },
  {
   "cell_type": "code",
   "execution_count": null,
   "metadata": {},
   "outputs": [],
   "source": [
    "negs.count()"
   ]
  },
  {
   "cell_type": "code",
   "execution_count": null,
   "metadata": {},
   "outputs": [],
   "source": [
    "i2_counts = i2.groupBy('i02').count().toPandas()"
   ]
  },
  {
   "cell_type": "code",
   "execution_count": null,
   "metadata": {},
   "outputs": [],
   "source": [
    "i2_counts.sort_values(by=['count'],ascending=False,inplace=True)\n",
    "i2_counts.head(10)"
   ]
  },
  {
   "cell_type": "code",
   "execution_count": null,
   "metadata": {},
   "outputs": [],
   "source": [
    "smpl2 = i2.sample(fraction=0.000005, seed=2019)\n",
    "smpl2.count()"
   ]
  },
  {
   "cell_type": "code",
   "execution_count": null,
   "metadata": {},
   "outputs": [],
   "source": [
    "smpl2=smpl2.withColumn(\"logi02\",log(\"i02\"))\n",
    "smpl2.show(30)"
   ]
  },
  {
   "cell_type": "code",
   "execution_count": null,
   "metadata": {},
   "outputs": [],
   "source": [
    "i2_hist = i2.select('i02').rdd.flatMap(lambda x: x).histogram(20000)"
   ]
  },
  {
   "cell_type": "code",
   "execution_count": null,
   "metadata": {},
   "outputs": [],
   "source": [
    "i2_values = i2_hist[0]\n",
    "i2_values_count = i2_hist[1]\n",
    "\n",
    "print(f\"lengths: i2values={len(i2_values)}, i2counts={len(i2_values_count)}\")"
   ]
  },
  {
   "cell_type": "code",
   "execution_count": null,
   "metadata": {},
   "outputs": [],
   "source": [
    "i2_values.pop(0)\n",
    "print(f\"lengths: i2values={len(i2_values)}, i2counts={len(i2_values_count)}\")"
   ]
  },
  {
   "cell_type": "code",
   "execution_count": null,
   "metadata": {},
   "outputs": [],
   "source": [
    "i2_smpl = i2.sample(fraction=0.1,seed=42).toPandas()"
   ]
  },
  {
   "cell_type": "code",
   "execution_count": null,
   "metadata": {},
   "outputs": [],
   "source": [
    "i2_smpl.describe()"
   ]
  },
  {
   "cell_type": "code",
   "execution_count": null,
   "metadata": {},
   "outputs": [],
   "source": [
    "fig=plt.figure(figsize=(28,7))\n",
    "# Box Plot\n",
    "ax=fig.add_subplot(1,4,1)\n",
    "ax=sns.boxplot(x=i2_smpl)\n",
    "ax.set(xlim=(-20,100))\n",
    "ax.set_xlabel('Value of i02')\n",
    "\n",
    "# Violin Plot\n",
    "ax=fig.add_subplot(1,4,2)\n",
    "ax=sns.violinplot(x=i2_smpl)\n",
    "ax.set(xlim=(-30,400))\n",
    "ax.set_xlabel('Value of i02')\n",
    "\n",
    "# Histogram\n",
    "ax=fig.add_subplot(1,4,3)\n",
    "ax.hist(i2_values,len(i2_values),weights=i2_values_count,color='red')\n",
    "ax.set(xlim=(-20,400))\n",
    "ax.set_xlabel('Value of i02')\n",
    "ax.set_ylabel('count')\n",
    "\n",
    "# ScatterPlot\n",
    "ax=fig.add_subplot(1,4,4)\n",
    "ax.scatter(x=i2_counts['i02'],y=i2_counts['count'])\n",
    "ax.set(xlim=(-20,100))\n",
    "ax.set_xlabel('Value of i02')\n",
    "ax.set_ylabel('count')\n",
    "\n",
    "plt.show()"
   ]
  },
  {
   "cell_type": "code",
   "execution_count": null,
   "metadata": {},
   "outputs": [],
   "source": [
    "i2_smpl['normed']=(i2_smpl['i02']-3)/(391.940275)\n",
    "i2_smpl.describe()"
   ]
  },
  {
   "cell_type": "code",
   "execution_count": null,
   "metadata": {},
   "outputs": [],
   "source": [
    "i2_normed_counts = i2_counts"
   ]
  },
  {
   "cell_type": "code",
   "execution_count": null,
   "metadata": {},
   "outputs": [],
   "source": [
    "i2_normed_counts['normed']=(i2_normed_counts['i02']-3)/(391.940275)"
   ]
  },
  {
   "cell_type": "code",
   "execution_count": null,
   "metadata": {},
   "outputs": [],
   "source": [
    "fig=plt.figure(figsize=(28,7))\n",
    "# Box Plot\n",
    "ax=fig.add_subplot(1,4,1)\n",
    "ax=sns.boxplot(x=i2_smpl['normed'])\n",
    "ax.set(xlim=(-0.4,1))\n",
    "ax.set_xlabel('Normed Value of i02')\n",
    "\n",
    "# Violin Plot\n",
    "ax=fig.add_subplot(1,4,2)\n",
    "ax=sns.violinplot(x=i2_smpl['normed'])\n",
    "ax.set(xlim=(-0.4,1))\n",
    "ax.set_xlabel('Normed Value of i02')\n",
    "\n",
    "# Histogram\n",
    "ax=fig.add_subplot(1,4,3)\n",
    "ax.hist(i2_smpl['normed'],bins=400)\n",
    "ax.set(xlim=(-0.4,1))\n",
    "ax.set_xlabel('Normed Value of i02')\n",
    "ax.set_ylabel('count')\n",
    "\n",
    "# ScatterPlot\n",
    "ax=fig.add_subplot(1,4,4)\n",
    "ax.scatter(x=i2_normed_counts['normed'],y=i2_normed_counts['count'])\n",
    "ax.set(xlim=(-0.4,1))\n",
    "ax.set_xlabel('Normed Value of i02')\n",
    "ax.set_ylabel('count')\n",
    "\n",
    "\n",
    "plt.show()"
   ]
  },
  {
   "cell_type": "markdown",
   "metadata": {},
   "source": [
    "**Conclusion for i02**\n",
    "- given the number of negative values (~3 million -1's) this data is a very skewed 'normal' distribution.\n",
    "- with the negative numbers we will not be able to log the data\n",
    "- normalization here will consist of the Z-score with median = (value-median)/StdDev."
   ]
  },
  {
   "cell_type": "markdown",
   "metadata": {},
   "source": [
    "## i03"
   ]
  },
  {
   "cell_type": "code",
   "execution_count": null,
   "metadata": {},
   "outputs": [],
   "source": [
    "i3 = idf.select('i03').cache()"
   ]
  },
  {
   "cell_type": "code",
   "execution_count": null,
   "metadata": {},
   "outputs": [],
   "source": [
    "i3_counts = i3.groupBy('i03').count().toPandas()"
   ]
  },
  {
   "cell_type": "code",
   "execution_count": null,
   "metadata": {},
   "outputs": [],
   "source": [
    "i3_counts.sort_values(by=['count'],ascending=False,inplace=True)\n",
    "i3_counts.head(10)"
   ]
  },
  {
   "cell_type": "code",
   "execution_count": null,
   "metadata": {},
   "outputs": [],
   "source": [
    "i3_counts.shape"
   ]
  },
  {
   "cell_type": "code",
   "execution_count": null,
   "metadata": {},
   "outputs": [],
   "source": [
    "zeroes = i3_counts[i3_counts['i03']==0]"
   ]
  },
  {
   "cell_type": "code",
   "execution_count": null,
   "metadata": {},
   "outputs": [],
   "source": [
    "zeroes"
   ]
  },
  {
   "cell_type": "code",
   "execution_count": null,
   "metadata": {},
   "outputs": [],
   "source": [
    "smpl3 = i3.sample(fraction=0.000005, seed=2019)\n",
    "smpl3.count()"
   ]
  },
  {
   "cell_type": "code",
   "execution_count": null,
   "metadata": {},
   "outputs": [],
   "source": [
    "smpl3=smpl3.withColumn(\"logi03\",log(\"i03\"))\n",
    "smpl3.show(30)"
   ]
  },
  {
   "cell_type": "code",
   "execution_count": null,
   "metadata": {},
   "outputs": [],
   "source": [
    "i3_hist = i3.select('i03').rdd.flatMap(lambda x: x).histogram(15000)"
   ]
  },
  {
   "cell_type": "code",
   "execution_count": null,
   "metadata": {},
   "outputs": [],
   "source": [
    "i3_values = i3_hist[0]\n",
    "i3_values_count = i3_hist[1]\n",
    "i3_values.pop(0)\n",
    "print(f\"lengths: i3values={len(i3_values)}, i3counts={len(i3_values_count)}\")"
   ]
  },
  {
   "cell_type": "code",
   "execution_count": null,
   "metadata": {},
   "outputs": [],
   "source": [
    "i3_smpl = i3.sample(fraction=0.1,seed=42).toPandas()"
   ]
  },
  {
   "cell_type": "code",
   "execution_count": null,
   "metadata": {},
   "outputs": [],
   "source": [
    "i3_smpl.describe()"
   ]
  },
  {
   "cell_type": "code",
   "execution_count": null,
   "metadata": {},
   "outputs": [],
   "source": [
    "fig=plt.figure(figsize=(28,7))\n",
    "# Box Plot\n",
    "ax=fig.add_subplot(1,4,1)\n",
    "ax=sns.boxplot(x=i3_smpl)\n",
    "ax.set(xlim=(-10,200))\n",
    "ax.set_xlabel('Value of i03')\n",
    "\n",
    "# Violin Plot\n",
    "ax=fig.add_subplot(1,4,2)\n",
    "ax=sns.violinplot(x=i3_smpl)\n",
    "ax.set(xlim=(-50,1000))\n",
    "ax.set_xlabel('Value of i03')\n",
    "\n",
    "# Histogram\n",
    "ax=fig.add_subplot(1,4,3)\n",
    "ax.hist(i3_values,len(i3_values),weights=i3_values_count,color='red')\n",
    "ax.set(xlim=(-10,200))\n",
    "ax.set_xlabel('Value of i03')\n",
    "ax.set_ylabel('count')\n",
    "\n",
    "# ScatterPlot\n",
    "ax=fig.add_subplot(1,4,4)\n",
    "ax.scatter(x=i3_counts['i03'],y=i3_counts['count'])\n",
    "ax.set(xlim=(-10,200))\n",
    "ax.set_xlabel('Value of i03')\n",
    "ax.set_ylabel('count')\n",
    "\n",
    "plt.show()"
   ]
  },
  {
   "cell_type": "code",
   "execution_count": null,
   "metadata": {},
   "outputs": [],
   "source": [
    "i3_smpl['normed']=(i3_smpl['i03'])/(396.797641)\n",
    "i3_smpl.describe()"
   ]
  },
  {
   "cell_type": "code",
   "execution_count": null,
   "metadata": {},
   "outputs": [],
   "source": [
    "i3_normed_counts = i3_counts"
   ]
  },
  {
   "cell_type": "code",
   "execution_count": null,
   "metadata": {},
   "outputs": [],
   "source": [
    "i3_normed_counts['normed']=(i3_normed_counts['i03'])/(396.797641)"
   ]
  },
  {
   "cell_type": "code",
   "execution_count": null,
   "metadata": {},
   "outputs": [],
   "source": [
    "fig=plt.figure(figsize=(28,7))\n",
    "# Box Plot\n",
    "ax=fig.add_subplot(1,4,1)\n",
    "ax=sns.boxplot(x=i3_smpl['normed'])\n",
    "ax.set(xlim=(-0.02,0.75))\n",
    "ax.set_xlabel('Normed Value of i03')\n",
    "\n",
    "# Violin Plot\n",
    "ax=fig.add_subplot(1,4,2)\n",
    "ax=sns.violinplot(x=i3_smpl['normed'])\n",
    "ax.set(xlim=(-0.2,2))\n",
    "ax.set_xlabel('Normed Value of i03')\n",
    "\n",
    "# Histogram\n",
    "ax=fig.add_subplot(1,4,3)\n",
    "ax.hist(i3_smpl['normed'],bins=15000)\n",
    "ax.set(xlim=(-0.02,0.75))\n",
    "ax.set_xlabel('Normed Value of i03')\n",
    "ax.set_ylabel('count')\n",
    "\n",
    "# ScatterPlot\n",
    "ax=fig.add_subplot(1,4,4)\n",
    "ax.scatter(x=i3_normed_counts['normed'],y=i3_normed_counts['count'])\n",
    "ax.set(xlim=(-0.02,0.75))\n",
    "ax.set_xlabel('Normed Value of i03')\n",
    "ax.set_ylabel('count')\n",
    "\n",
    "\n",
    "plt.show()"
   ]
  },
  {
   "cell_type": "markdown",
   "metadata": {},
   "source": [
    "**Conclusion for i03**\n",
    "- exponentially decreasing function\n",
    "- normalization here will consist of dividing by the stddev"
   ]
  },
  {
   "cell_type": "markdown",
   "metadata": {},
   "source": [
    "## i04"
   ]
  },
  {
   "cell_type": "code",
   "execution_count": null,
   "metadata": {},
   "outputs": [],
   "source": [
    "i4 = idf.select('i04').cache()"
   ]
  },
  {
   "cell_type": "code",
   "execution_count": null,
   "metadata": {},
   "outputs": [],
   "source": [
    "i4_counts = i4.groupBy('i04').count().toPandas()"
   ]
  },
  {
   "cell_type": "code",
   "execution_count": null,
   "metadata": {},
   "outputs": [],
   "source": [
    "i4_counts.sort_values(by=['count'],ascending=False,inplace=True)\n",
    "i4_counts.head(10)"
   ]
  },
  {
   "cell_type": "code",
   "execution_count": null,
   "metadata": {},
   "outputs": [],
   "source": [
    "i4_counts.shape"
   ]
  },
  {
   "cell_type": "code",
   "execution_count": null,
   "metadata": {},
   "outputs": [],
   "source": [
    "zeroes = i4_counts[i4_counts['i04']==0]"
   ]
  },
  {
   "cell_type": "code",
   "execution_count": null,
   "metadata": {},
   "outputs": [],
   "source": [
    "zeroes"
   ]
  },
  {
   "cell_type": "code",
   "execution_count": null,
   "metadata": {},
   "outputs": [],
   "source": [
    "i4_hist = i4.select('i04').rdd.flatMap(lambda x: x).histogram(500)"
   ]
  },
  {
   "cell_type": "code",
   "execution_count": null,
   "metadata": {},
   "outputs": [],
   "source": [
    "i4_values = i4_hist[0]\n",
    "i4_values_count = i4_hist[1]\n",
    "i4_values.pop(0)\n",
    "print(f\"lengths: i4values={len(i4_values)}, i4counts={len(i4_values_count)}\")"
   ]
  },
  {
   "cell_type": "code",
   "execution_count": null,
   "metadata": {},
   "outputs": [],
   "source": [
    "i4_smpl = i4.sample(fraction=0.1,seed=42).toPandas()"
   ]
  },
  {
   "cell_type": "code",
   "execution_count": null,
   "metadata": {},
   "outputs": [],
   "source": [
    "i4_smpl.describe()"
   ]
  },
  {
   "cell_type": "code",
   "execution_count": null,
   "metadata": {},
   "outputs": [],
   "source": [
    "fig=plt.figure(figsize=(28,7))\n",
    "# Box Plot\n",
    "ax=fig.add_subplot(1,4,1)\n",
    "ax=sns.boxplot(x=i4_smpl)\n",
    "ax.set(xlim=(-1,75))\n",
    "ax.set_xlabel('Value of i04')\n",
    "\n",
    "# Violin Plot\n",
    "ax=fig.add_subplot(1,4,2)\n",
    "ax=sns.violinplot(x=i4_smpl)\n",
    "ax.set(xlim=(-1,75))\n",
    "ax.set_xlabel('Value of i04')\n",
    "\n",
    "# Histogram\n",
    "ax=fig.add_subplot(1,4,3)\n",
    "ax.hist(i4_values,len(i4_values),weights=i4_values_count,color='red')\n",
    "ax.set(xlim=(-1,75))\n",
    "ax.set_xlabel('Value of i04')\n",
    "ax.set_ylabel('count')\n",
    "\n",
    "# ScatterPlot\n",
    "ax=fig.add_subplot(1,4,4)\n",
    "ax.scatter(x=i4_counts['i04'],y=i4_counts['count'])\n",
    "ax.set(xlim=(-1,75))\n",
    "ax.set_xlabel('Value of i04')\n",
    "ax.set_ylabel('count')\n",
    "\n",
    "plt.show()"
   ]
  },
  {
   "cell_type": "code",
   "execution_count": null,
   "metadata": {},
   "outputs": [],
   "source": [
    "i4_smpl['normed']=(i4_smpl['i04']-4)/(8.799146)\n",
    "i4_smpl.describe()"
   ]
  },
  {
   "cell_type": "code",
   "execution_count": null,
   "metadata": {},
   "outputs": [],
   "source": [
    "i4_normed_counts = i4_counts"
   ]
  },
  {
   "cell_type": "code",
   "execution_count": null,
   "metadata": {},
   "outputs": [],
   "source": [
    "i4_normed_counts['normed']=(i4_normed_counts['i04']-4)/(8.799146)"
   ]
  },
  {
   "cell_type": "code",
   "execution_count": null,
   "metadata": {},
   "outputs": [],
   "source": [
    "fig=plt.figure(figsize=(28,7))\n",
    "# Box Plot\n",
    "ax=fig.add_subplot(1,4,1)\n",
    "ax=sns.boxplot(x=i4_smpl['normed'])\n",
    "ax.set(xlim=(-1,3))\n",
    "ax.set_xlabel('Normed Value of i04')\n",
    "\n",
    "# Violin Plot\n",
    "ax=fig.add_subplot(1,4,2)\n",
    "ax=sns.violinplot(x=i4_smpl['normed'])\n",
    "ax.set(xlim=(-1,3))\n",
    "ax.set_xlabel('Normed Value of i04')\n",
    "\n",
    "# Histogram\n",
    "ax=fig.add_subplot(1,4,3)\n",
    "ax.hist(i4_smpl['normed'],bins=800)\n",
    "ax.set(xlim=(-1,3))\n",
    "ax.set_xlabel('Normed Value of i04')\n",
    "ax.set_ylabel('count')\n",
    "\n",
    "# ScatterPlot\n",
    "ax=fig.add_subplot(1,4,4)\n",
    "ax.scatter(x=i4_normed_counts['normed'],y=i4_normed_counts['count'])\n",
    "ax.set(xlim=(-1,3))\n",
    "ax.set_xlabel('Normed Value of i04')\n",
    "ax.set_ylabel('count')\n",
    "\n",
    "\n",
    "plt.show()"
   ]
  },
  {
   "cell_type": "markdown",
   "metadata": {},
   "source": [
    "**Conclusion for i04**\n",
    "- This is obviously a normal distribution (albeit skewed), given the violin plot.\n",
    "- normalization here will consist of the z-score, but using median, not mean, due to the skew"
   ]
  },
  {
   "cell_type": "markdown",
   "metadata": {},
   "source": [
    "## i05"
   ]
  },
  {
   "cell_type": "code",
   "execution_count": null,
   "metadata": {},
   "outputs": [],
   "source": [
    "i5 = idf.select('i05').cache()"
   ]
  },
  {
   "cell_type": "code",
   "execution_count": null,
   "metadata": {},
   "outputs": [],
   "source": [
    "i5_counts = i5.groupBy('i05').count().toPandas()"
   ]
  },
  {
   "cell_type": "code",
   "execution_count": null,
   "metadata": {},
   "outputs": [],
   "source": [
    "i5_counts.sort_values(by=['count'],ascending=False,inplace=True)\n",
    "i5_counts.head(15)"
   ]
  },
  {
   "cell_type": "code",
   "execution_count": null,
   "metadata": {},
   "outputs": [],
   "source": [
    "i5_counts.shape"
   ]
  },
  {
   "cell_type": "code",
   "execution_count": null,
   "metadata": {},
   "outputs": [],
   "source": [
    "zeroes = i5_counts[i5_counts['i05']==0]"
   ]
  },
  {
   "cell_type": "code",
   "execution_count": null,
   "metadata": {},
   "outputs": [],
   "source": [
    "zeroes"
   ]
  },
  {
   "cell_type": "code",
   "execution_count": null,
   "metadata": {},
   "outputs": [],
   "source": [
    "i5_hist = i5.select('i05').rdd.flatMap(lambda x: x).histogram(25000)"
   ]
  },
  {
   "cell_type": "code",
   "execution_count": null,
   "metadata": {},
   "outputs": [],
   "source": [
    "i5_values = i5_hist[0]\n",
    "i5_values_count = i5_hist[1]\n",
    "i5_values.pop(0)\n",
    "print(f\"lengths: i5values={len(i5_values)}, i5counts={len(i5_values_count)}\")"
   ]
  },
  {
   "cell_type": "code",
   "execution_count": null,
   "metadata": {},
   "outputs": [],
   "source": [
    "i5_smpl = i5.sample(fraction=0.1,seed=42).toPandas()"
   ]
  },
  {
   "cell_type": "code",
   "execution_count": null,
   "metadata": {},
   "outputs": [],
   "source": [
    "i5_smpl.describe()"
   ]
  },
  {
   "cell_type": "code",
   "execution_count": null,
   "metadata": {},
   "outputs": [],
   "source": [
    "fig=plt.figure(figsize=(28,7))\n",
    "# Box Plot\n",
    "ax=fig.add_subplot(1,4,1)\n",
    "ax=sns.boxplot(x=i5_smpl)\n",
    "ax.set(xlim=(-1000,100000))\n",
    "ax.set_xlabel('Value of i05')\n",
    "\n",
    "# Violin Plot\n",
    "ax=fig.add_subplot(1,4,2)\n",
    "ax=sns.violinplot(x=i5_smpl)\n",
    "ax.set(xlim=(-10000,100000))\n",
    "ax.set_xlabel('Value of i05')\n",
    "\n",
    "# Histogram\n",
    "ax=fig.add_subplot(1,4,3)\n",
    "ax.hist(i5_values,len(i5_values),weights=i5_values_count,color='red')\n",
    "ax.set(xlim=(-1000,100000))\n",
    "ax.set_xlabel('Value of i05')\n",
    "ax.set_ylabel('count')\n",
    "\n",
    "# ScatterPlot\n",
    "ax=fig.add_subplot(1,4,4)\n",
    "ax.scatter(x=i5_counts['i05'],y=i5_counts['count'])\n",
    "ax.set(xlim=(-1000,100000))\n",
    "ax.set_xlabel('Value of i05')\n",
    "ax.set_ylabel('count')\n",
    "\n",
    "plt.show()"
   ]
  },
  {
   "cell_type": "code",
   "execution_count": null,
   "metadata": {},
   "outputs": [],
   "source": [
    "i5_smpl['normed']=(i5_smpl['i05']-2868)/(69435)\n",
    "i5_smpl.describe()"
   ]
  },
  {
   "cell_type": "code",
   "execution_count": null,
   "metadata": {},
   "outputs": [],
   "source": [
    "i5_normed_counts = i5_counts"
   ]
  },
  {
   "cell_type": "code",
   "execution_count": null,
   "metadata": {},
   "outputs": [],
   "source": [
    "i5_normed_counts['normed']=(i5_normed_counts['i05']-2868)/(69435)"
   ]
  },
  {
   "cell_type": "code",
   "execution_count": null,
   "metadata": {},
   "outputs": [],
   "source": [
    "fig=plt.figure(figsize=(28,7))\n",
    "# Box Plot\n",
    "ax=fig.add_subplot(1,4,1)\n",
    "ax=sns.boxplot(x=i5_smpl['normed'])\n",
    "ax.set(xlim=(-0.5,1.5))\n",
    "ax.set_xlabel('Normed Value of i05')\n",
    "\n",
    "# Violin Plot\n",
    "ax=fig.add_subplot(1,4,2)\n",
    "ax=sns.violinplot(x=i5_smpl['normed'])\n",
    "ax.set(xlim=(-0.5,1.5))\n",
    "ax.set_xlabel('Normed Value of i05')\n",
    "\n",
    "# Histogram\n",
    "ax=fig.add_subplot(1,4,3)\n",
    "ax.hist(i5_smpl['normed'],bins=1000)\n",
    "ax.set(xlim=(-0.5,1.5))\n",
    "ax.set_xlabel('Normed Value of i05')\n",
    "ax.set_ylabel('count')\n",
    "\n",
    "# ScatterPlot\n",
    "ax=fig.add_subplot(1,4,4)\n",
    "ax.scatter(x=i5_normed_counts['normed'],y=i5_normed_counts['count'])\n",
    "ax.set(xlim=(-0.5,1.5))\n",
    "ax.set_xlabel('Normed Value of i05')\n",
    "ax.set_ylabel('count')\n",
    "\n",
    "\n",
    "plt.show()"
   ]
  },
  {
   "cell_type": "markdown",
   "metadata": {},
   "source": [
    "**Conclusion for i05**\n",
    "- Treating this as a skewed normal distribution, given the violin plot.\n",
    "- normalization here will consist of the z-score, but using median, not mean, due to the skew"
   ]
  },
  {
   "cell_type": "markdown",
   "metadata": {},
   "source": [
    "## i06"
   ]
  },
  {
   "cell_type": "code",
   "execution_count": null,
   "metadata": {},
   "outputs": [],
   "source": [
    "i6 = idf.select('i06').cache()"
   ]
  },
  {
   "cell_type": "code",
   "execution_count": null,
   "metadata": {},
   "outputs": [],
   "source": [
    "i6_counts = i6.groupBy('i06').count().toPandas()"
   ]
  },
  {
   "cell_type": "code",
   "execution_count": null,
   "metadata": {},
   "outputs": [],
   "source": [
    "i6_counts.sort_values(by=['count'],ascending=False,inplace=True)\n",
    "i6_counts.head(15)"
   ]
  },
  {
   "cell_type": "code",
   "execution_count": null,
   "metadata": {},
   "outputs": [],
   "source": [
    "i6_counts.shape"
   ]
  },
  {
   "cell_type": "code",
   "execution_count": null,
   "metadata": {},
   "outputs": [],
   "source": [
    "i6_hist = i6.select('i06').rdd.flatMap(lambda x: x).histogram(5000)"
   ]
  },
  {
   "cell_type": "code",
   "execution_count": null,
   "metadata": {},
   "outputs": [],
   "source": [
    "i6_values = i6_hist[0]\n",
    "i6_values_count = i6_hist[1]\n",
    "i6_values.pop(0)\n",
    "print(f\"lengths: i6values={len(i6_values)}, i6counts={len(i6_values_count)}\")"
   ]
  },
  {
   "cell_type": "code",
   "execution_count": null,
   "metadata": {},
   "outputs": [],
   "source": [
    "i6_smpl = i6.sample(fraction=0.1,seed=42).toPandas()"
   ]
  },
  {
   "cell_type": "code",
   "execution_count": null,
   "metadata": {},
   "outputs": [],
   "source": [
    "i6_smpl.describe()"
   ]
  },
  {
   "cell_type": "code",
   "execution_count": null,
   "metadata": {},
   "outputs": [],
   "source": [
    "fig=plt.figure(figsize=(28,7))\n",
    "# Box Plot\n",
    "ax=fig.add_subplot(1,4,1)\n",
    "ax=sns.boxplot(x=i6_smpl)\n",
    "ax.set(xlim=(-100,5000))\n",
    "ax.set_xlabel('Value of i06')\n",
    "\n",
    "# Violin Plot\n",
    "ax=fig.add_subplot(1,4,2)\n",
    "ax=sns.violinplot(x=i6_smpl)\n",
    "ax.set(xlim=(-250,5000))\n",
    "ax.set_xlabel('Value of i06')\n",
    "\n",
    "# Histogram\n",
    "ax=fig.add_subplot(1,4,3)\n",
    "ax.hist(i6_values,len(i6_values),weights=i6_values_count,color='red')\n",
    "ax.set(xlim=(-100,5000))\n",
    "ax.set_xlabel('Value of i06')\n",
    "ax.set_ylabel('count')\n",
    "\n",
    "# ScatterPlot\n",
    "ax=fig.add_subplot(1,4,4)\n",
    "ax.scatter(x=i6_counts['i06'],y=i6_counts['count'])\n",
    "ax.set(xlim=(-100,5000))\n",
    "ax.set_xlabel('Value of i06')\n",
    "ax.set_ylabel('count')\n",
    "\n",
    "plt.show()"
   ]
  },
  {
   "cell_type": "code",
   "execution_count": null,
   "metadata": {},
   "outputs": [],
   "source": [
    "i6_smpl['normed']=(i6_smpl['i06'])/(2*391.38)\n",
    "i6_smpl.describe()"
   ]
  },
  {
   "cell_type": "code",
   "execution_count": null,
   "metadata": {},
   "outputs": [],
   "source": [
    "i6_normed_counts = i6_counts"
   ]
  },
  {
   "cell_type": "code",
   "execution_count": null,
   "metadata": {},
   "outputs": [],
   "source": [
    "i6_normed_counts['normed']=(i6_normed_counts['i06'])/(2*391.38)"
   ]
  },
  {
   "cell_type": "code",
   "execution_count": null,
   "metadata": {},
   "outputs": [],
   "source": [
    "fig=plt.figure(figsize=(28,7))\n",
    "# Box Plot\n",
    "ax=fig.add_subplot(1,4,1)\n",
    "ax=sns.boxplot(x=i6_smpl['normed'])\n",
    "ax.set(xlim=(-0.15,3))\n",
    "ax.set_xlabel('Normed Value of i06')\n",
    "\n",
    "# Violin Plot\n",
    "ax=fig.add_subplot(1,4,2)\n",
    "ax=sns.violinplot(x=i6_smpl['normed'])\n",
    "ax.set(xlim=(-0.15,6))\n",
    "ax.set_xlabel('Normed Value of i06')\n",
    "\n",
    "# Histogram\n",
    "ax=fig.add_subplot(1,4,3)\n",
    "ax.hist(i6_smpl['normed'],bins=5000)\n",
    "ax.set(xlim=(-0.15,3))\n",
    "ax.set_xlabel('Normed Value of i06')\n",
    "ax.set_ylabel('count')\n",
    "\n",
    "# ScatterPlot\n",
    "ax=fig.add_subplot(1,4,4)\n",
    "ax.scatter(x=i6_normed_counts['normed'],y=i6_normed_counts['count'])\n",
    "ax.set(xlim=(-0.15,3))\n",
    "ax.set_xlabel('Normed Value of i06')\n",
    "ax.set_ylabel('count')\n",
    "\n",
    "plt.show()"
   ]
  },
  {
   "cell_type": "markdown",
   "metadata": {},
   "source": [
    "**Conclusion for i06**\n",
    "- Exponentially decreasing distribution\n",
    "- normalization here will consist of dividing by 2 times the std. deviation."
   ]
  },
  {
   "cell_type": "markdown",
   "metadata": {},
   "source": [
    "## i07"
   ]
  },
  {
   "cell_type": "code",
   "execution_count": null,
   "metadata": {},
   "outputs": [],
   "source": [
    "i7 = idf.select('i07').cache()"
   ]
  },
  {
   "cell_type": "code",
   "execution_count": null,
   "metadata": {},
   "outputs": [],
   "source": [
    "i7_counts = i7.groupBy('i07').count().toPandas()"
   ]
  },
  {
   "cell_type": "code",
   "execution_count": null,
   "metadata": {},
   "outputs": [],
   "source": [
    "i7_counts.sort_values(by=['count'],ascending=False,inplace=True)\n",
    "i7_counts.head(15)"
   ]
  },
  {
   "cell_type": "code",
   "execution_count": null,
   "metadata": {},
   "outputs": [],
   "source": [
    "i7_counts.shape"
   ]
  },
  {
   "cell_type": "code",
   "execution_count": null,
   "metadata": {},
   "outputs": [],
   "source": [
    "i7_hist = i7.select('i07').rdd.flatMap(lambda x: x).histogram(5000)"
   ]
  },
  {
   "cell_type": "code",
   "execution_count": null,
   "metadata": {},
   "outputs": [],
   "source": [
    "i7_values = i7_hist[0]\n",
    "i7_values_count = i7_hist[1]\n",
    "i7_values.pop(0)\n",
    "print(f\"lengths: i7values={len(i7_values)}, i7counts={len(i7_values_count)}\")"
   ]
  },
  {
   "cell_type": "code",
   "execution_count": null,
   "metadata": {},
   "outputs": [],
   "source": [
    "i7_smpl = i7.sample(fraction=0.1,seed=42).toPandas()"
   ]
  },
  {
   "cell_type": "code",
   "execution_count": null,
   "metadata": {},
   "outputs": [],
   "source": [
    "i7_smpl.describe()"
   ]
  },
  {
   "cell_type": "code",
   "execution_count": null,
   "metadata": {},
   "outputs": [],
   "source": [
    "fig=plt.figure(figsize=(28,7))\n",
    "# Box Plot\n",
    "ax=fig.add_subplot(1,4,1)\n",
    "ax=sns.boxplot(x=i7_smpl)\n",
    "ax.set(xlim=(-10,200))\n",
    "ax.set_xlabel('Value of i07')\n",
    "\n",
    "# Violin Plot\n",
    "ax=fig.add_subplot(1,4,2)\n",
    "ax=sns.violinplot(x=i7_smpl)\n",
    "ax.set(xlim=(-10,200))\n",
    "ax.set_xlabel('Value of i07')\n",
    "\n",
    "# Histogram\n",
    "ax=fig.add_subplot(1,4,3)\n",
    "ax.hist(i7_values,len(i7_values),weights=i7_values_count,color='red')\n",
    "ax.set(xlim=(-10,200))\n",
    "ax.set_xlabel('Value of i07')\n",
    "ax.set_ylabel('count')\n",
    "\n",
    "# ScatterPlot\n",
    "ax=fig.add_subplot(1,4,4)\n",
    "ax.scatter(x=i7_counts['i07'],y=i7_counts['count'])\n",
    "ax.set(xlim=(-10,200))\n",
    "ax.set_xlabel('Value of i07')\n",
    "ax.set_ylabel('count')\n",
    "\n",
    "plt.show()"
   ]
  },
  {
   "cell_type": "code",
   "execution_count": null,
   "metadata": {},
   "outputs": [],
   "source": [
    "i7_smpl['normed']=(i7_smpl['i07'])/(2*65.524)\n",
    "i7_smpl.describe()"
   ]
  },
  {
   "cell_type": "code",
   "execution_count": null,
   "metadata": {},
   "outputs": [],
   "source": [
    "i7_normed_counts = i7_counts"
   ]
  },
  {
   "cell_type": "code",
   "execution_count": null,
   "metadata": {},
   "outputs": [],
   "source": [
    "i7_normed_counts['normed']=(i7_normed_counts['i07'])/(2*65.524)"
   ]
  },
  {
   "cell_type": "code",
   "execution_count": null,
   "metadata": {},
   "outputs": [],
   "source": [
    "fig=plt.figure(figsize=(28,7))\n",
    "# Box Plot\n",
    "ax=fig.add_subplot(1,4,1)\n",
    "ax=sns.boxplot(x=i7_smpl['normed'])\n",
    "ax.set(xlim=(-0.1,2))\n",
    "ax.set_xlabel('Normed Value of i07')\n",
    "\n",
    "# Violin Plot\n",
    "ax=fig.add_subplot(1,4,2)\n",
    "ax=sns.violinplot(x=i7_smpl['normed'])\n",
    "ax.set(xlim=(-0.1,3))\n",
    "ax.set_xlabel('Normed Value of i07')\n",
    "\n",
    "# Histogram\n",
    "ax=fig.add_subplot(1,4,3)\n",
    "ax.hist(i7_smpl['normed'],bins=2000)\n",
    "ax.set(xlim=(-0.1,2))\n",
    "ax.set_xlabel('Normed Value of i07')\n",
    "ax.set_ylabel('count')\n",
    "\n",
    "# ScatterPlot\n",
    "ax=fig.add_subplot(1,4,4)\n",
    "ax.scatter(x=i7_normed_counts['normed'],y=i7_normed_counts['count'])\n",
    "ax.set(xlim=(-0.1,2))\n",
    "ax.set_xlabel('Normed Value of i07')\n",
    "ax.set_ylabel('count')\n",
    "\n",
    "plt.show()"
   ]
  },
  {
   "cell_type": "markdown",
   "metadata": {},
   "source": [
    "**Conclusion for i07**\n",
    "- Exponentially decreasing distribution\n",
    "- normalization here will consist of dividing by 2 times the std. deviation."
   ]
  },
  {
   "cell_type": "markdown",
   "metadata": {},
   "source": [
    "## i08"
   ]
  },
  {
   "cell_type": "code",
   "execution_count": null,
   "metadata": {},
   "outputs": [],
   "source": [
    "i8 = idf.select('i08').cache()"
   ]
  },
  {
   "cell_type": "code",
   "execution_count": null,
   "metadata": {},
   "outputs": [],
   "source": [
    "i8_counts = i8.groupBy('i08').count().toPandas()"
   ]
  },
  {
   "cell_type": "code",
   "execution_count": null,
   "metadata": {},
   "outputs": [],
   "source": [
    "i8_counts.sort_values(by=['count'],ascending=False,inplace=True)\n",
    "i8_counts.head(15)"
   ]
  },
  {
   "cell_type": "code",
   "execution_count": null,
   "metadata": {},
   "outputs": [],
   "source": [
    "i8_counts.shape"
   ]
  },
  {
   "cell_type": "code",
   "execution_count": null,
   "metadata": {},
   "outputs": [],
   "source": [
    "i8_hist = i8.select('i08').rdd.flatMap(lambda x: x).histogram(1200)"
   ]
  },
  {
   "cell_type": "code",
   "execution_count": null,
   "metadata": {},
   "outputs": [],
   "source": [
    "i8_values = i8_hist[0]\n",
    "i8_values_count = i8_hist[1]\n",
    "i8_values.pop(0)\n",
    "print(f\"lengths: i8values={len(i8_values)}, i8counts={len(i8_values_count)}\")"
   ]
  },
  {
   "cell_type": "code",
   "execution_count": null,
   "metadata": {},
   "outputs": [],
   "source": [
    "i8_smpl = i8.sample(fraction=0.1,seed=42).toPandas()"
   ]
  },
  {
   "cell_type": "code",
   "execution_count": null,
   "metadata": {},
   "outputs": [],
   "source": [
    "i8_smpl.describe()"
   ]
  },
  {
   "cell_type": "code",
   "execution_count": null,
   "metadata": {},
   "outputs": [],
   "source": [
    "fig=plt.figure(figsize=(28,7))\n",
    "# Box Plot\n",
    "ax=fig.add_subplot(1,4,1)\n",
    "ax=sns.boxplot(x=i8_smpl)\n",
    "ax.set(xlim=(-10,200))\n",
    "ax.set_xlabel('Value of i08')\n",
    "\n",
    "# Violin Plot\n",
    "ax=fig.add_subplot(1,4,2)\n",
    "ax=sns.violinplot(x=i8_smpl)\n",
    "ax.set(xlim=(-10,200))\n",
    "ax.set_xlabel('Value of i08')\n",
    "\n",
    "# Histogram\n",
    "ax=fig.add_subplot(1,4,3)\n",
    "ax.hist(i8_values,len(i8_values),weights=i8_values_count,color='red')\n",
    "ax.set(xlim=(-10,200))\n",
    "ax.set_xlabel('Value of i08')\n",
    "ax.set_ylabel('count')\n",
    "\n",
    "# ScatterPlot\n",
    "ax=fig.add_subplot(1,4,4)\n",
    "ax.scatter(x=i8_counts['i08'],y=i8_counts['count'])\n",
    "ax.set(xlim=(-10,200))\n",
    "ax.set_xlabel('Value of i08')\n",
    "ax.set_ylabel('count')\n",
    "\n",
    "plt.show()"
   ]
  },
  {
   "cell_type": "code",
   "execution_count": null,
   "metadata": {},
   "outputs": [],
   "source": [
    "i8_smpl['normed']=(i8_smpl['i08'])/(2*16.816877)\n",
    "i8_smpl.describe()"
   ]
  },
  {
   "cell_type": "code",
   "execution_count": null,
   "metadata": {},
   "outputs": [],
   "source": [
    "i8_normed_counts = i8_counts"
   ]
  },
  {
   "cell_type": "code",
   "execution_count": null,
   "metadata": {},
   "outputs": [],
   "source": [
    "i8_normed_counts['normed']=(i8_normed_counts['i08'])/(2*16.816877)"
   ]
  },
  {
   "cell_type": "code",
   "execution_count": null,
   "metadata": {},
   "outputs": [],
   "source": [
    "fig=plt.figure(figsize=(28,7))\n",
    "# Box Plot\n",
    "ax=fig.add_subplot(1,4,1)\n",
    "ax=sns.boxplot(x=i8_smpl['normed'])\n",
    "ax.set(xlim=(-0.1,2))\n",
    "ax.set_xlabel('Normed Value of i08')\n",
    "\n",
    "# Violin Plot\n",
    "ax=fig.add_subplot(1,4,2)\n",
    "ax=sns.violinplot(x=i8_smpl['normed'])\n",
    "ax.set(xlim=(-0.1,3))\n",
    "ax.set_xlabel('Normed Value of i08')\n",
    "\n",
    "# Histogram\n",
    "ax=fig.add_subplot(1,4,3)\n",
    "ax.hist(i8_smpl['normed'],bins=1200)\n",
    "ax.set(xlim=(-0.1,2))\n",
    "ax.set_xlabel('Normed Value of i08')\n",
    "ax.set_ylabel('count')\n",
    "\n",
    "# ScatterPlot\n",
    "ax=fig.add_subplot(1,4,4)\n",
    "ax.scatter(x=i8_normed_counts['normed'],y=i8_normed_counts['count'])\n",
    "ax.set(xlim=(-0.1,2))\n",
    "ax.set_xlabel('Normed Value of i08')\n",
    "ax.set_ylabel('count')\n",
    "\n",
    "plt.show()"
   ]
  },
  {
   "cell_type": "markdown",
   "metadata": {},
   "source": [
    "**Conclusion for i08**\n",
    "- Exponentially decreasing distribution\n",
    "- normalization here will consist of dividing by 2 times the std. deviation."
   ]
  },
  {
   "cell_type": "markdown",
   "metadata": {},
   "source": [
    "## i09"
   ]
  },
  {
   "cell_type": "code",
   "execution_count": null,
   "metadata": {},
   "outputs": [],
   "source": [
    "i9 = idf.select('i09').cache()"
   ]
  },
  {
   "cell_type": "code",
   "execution_count": null,
   "metadata": {},
   "outputs": [],
   "source": [
    "i9_counts = i9.groupBy('i09').count().toPandas()"
   ]
  },
  {
   "cell_type": "code",
   "execution_count": null,
   "metadata": {},
   "outputs": [],
   "source": [
    "i9_counts.sort_values(by=['count'],ascending=False,inplace=True)\n",
    "i9_counts.head(15)"
   ]
  },
  {
   "cell_type": "code",
   "execution_count": null,
   "metadata": {},
   "outputs": [],
   "source": [
    "i9_counts.shape"
   ]
  },
  {
   "cell_type": "code",
   "execution_count": null,
   "metadata": {},
   "outputs": [],
   "source": [
    "i9_hist = i9.select('i09').rdd.flatMap(lambda x: x).histogram(10000)"
   ]
  },
  {
   "cell_type": "code",
   "execution_count": null,
   "metadata": {},
   "outputs": [],
   "source": [
    "i9_values = i9_hist[0]\n",
    "i9_values_count = i9_hist[1]\n",
    "i9_values.pop(0)\n",
    "print(f\"lengths: i9values={len(i9_values)}, i9counts={len(i9_values_count)}\")"
   ]
  },
  {
   "cell_type": "code",
   "execution_count": null,
   "metadata": {},
   "outputs": [],
   "source": [
    "i9_smpl = i9.sample(fraction=0.1,seed=42).toPandas()"
   ]
  },
  {
   "cell_type": "code",
   "execution_count": null,
   "metadata": {},
   "outputs": [],
   "source": [
    "i9_smpl.describe()"
   ]
  },
  {
   "cell_type": "code",
   "execution_count": null,
   "metadata": {},
   "outputs": [],
   "source": [
    "fig=plt.figure(figsize=(28,7))\n",
    "# Box Plot\n",
    "ax=fig.add_subplot(1,4,1)\n",
    "ax=sns.boxplot(x=i9_smpl)\n",
    "ax.set(xlim=(-10,400))\n",
    "ax.set_xlabel('Value of i09')\n",
    "\n",
    "# Violin Plot\n",
    "ax=fig.add_subplot(1,4,2)\n",
    "ax=sns.violinplot(x=i9_smpl)\n",
    "ax.set(xlim=(-30,500))\n",
    "ax.set_xlabel('Value of i09')\n",
    "\n",
    "# Histogram\n",
    "ax=fig.add_subplot(1,4,3)\n",
    "ax.hist(i9_values,len(i9_values),weights=i9_values_count,color='red')\n",
    "ax.set(xlim=(-10,400))\n",
    "ax.set_xlabel('Value of i09')\n",
    "ax.set_ylabel('count')\n",
    "\n",
    "# ScatterPlot\n",
    "ax=fig.add_subplot(1,4,4)\n",
    "ax.scatter(x=i9_counts['i09'],y=i9_counts['count'])\n",
    "ax.set(xlim=(-10,400))\n",
    "ax.set_xlabel('Value of i09')\n",
    "ax.set_ylabel('count')\n",
    "\n",
    "plt.show()"
   ]
  },
  {
   "cell_type": "code",
   "execution_count": null,
   "metadata": {},
   "outputs": [],
   "source": [
    "i9_smpl['normed']=(i9_smpl['i09']-40)/(220.289905)\n",
    "i9_smpl.describe()"
   ]
  },
  {
   "cell_type": "code",
   "execution_count": null,
   "metadata": {},
   "outputs": [],
   "source": [
    "i9_normed_counts = i9_counts"
   ]
  },
  {
   "cell_type": "code",
   "execution_count": null,
   "metadata": {},
   "outputs": [],
   "source": [
    "i9_normed_counts['normed']=(i9_normed_counts['i09']-40)/(220.289905)"
   ]
  },
  {
   "cell_type": "code",
   "execution_count": null,
   "metadata": {},
   "outputs": [],
   "source": [
    "fig=plt.figure(figsize=(28,7))\n",
    "# Box Plot\n",
    "ax=fig.add_subplot(1,4,1)\n",
    "ax=sns.boxplot(x=i9_smpl['normed'])\n",
    "ax.set(xlim=(-.5,2))\n",
    "ax.set_xlabel('Normed Value of i09')\n",
    "\n",
    "# Violin Plot\n",
    "ax=fig.add_subplot(1,4,2)\n",
    "ax=sns.violinplot(x=i9_smpl['normed'])\n",
    "ax.set(xlim=(-.5,2))\n",
    "ax.set_xlabel('Normed Value of i09')\n",
    "\n",
    "# Histogram\n",
    "ax=fig.add_subplot(1,4,3)\n",
    "ax.hist(i9_smpl['normed'],bins=10000)\n",
    "ax.set(xlim=(-.5,2))\n",
    "ax.set_xlabel('Normed Value of i09')\n",
    "ax.set_ylabel('count')\n",
    "\n",
    "# ScatterPlot\n",
    "ax=fig.add_subplot(1,4,4)\n",
    "ax.scatter(x=i9_normed_counts['normed'],y=i9_normed_counts['count'])\n",
    "ax.set(xlim=(-.5,2))\n",
    "ax.set_xlabel('Normed Value of i09')\n",
    "ax.set_ylabel('count')\n",
    "\n",
    "plt.show()"
   ]
  },
  {
   "cell_type": "markdown",
   "metadata": {},
   "source": [
    "**Conclusion for i09**\n",
    "- Violin plot: truncated skewed normal distribution.\n",
    "- normalization here will consist of Z score using median instead of mean."
   ]
  },
  {
   "cell_type": "markdown",
   "metadata": {},
   "source": [
    "## i10"
   ]
  },
  {
   "cell_type": "code",
   "execution_count": null,
   "metadata": {},
   "outputs": [],
   "source": [
    "i10 = idf.select('i10').cache()"
   ]
  },
  {
   "cell_type": "code",
   "execution_count": null,
   "metadata": {},
   "outputs": [],
   "source": [
    "i10_counts = i10.groupBy('i10').count().toPandas()"
   ]
  },
  {
   "cell_type": "code",
   "execution_count": null,
   "metadata": {},
   "outputs": [],
   "source": [
    "i10_counts.sort_values(by=['count'],ascending=False,inplace=True)\n",
    "i10_counts.head(15)"
   ]
  },
  {
   "cell_type": "code",
   "execution_count": null,
   "metadata": {},
   "outputs": [],
   "source": [
    "i10_counts.shape"
   ]
  },
  {
   "cell_type": "code",
   "execution_count": null,
   "metadata": {},
   "outputs": [],
   "source": [
    "i10_hist = i10.select('i10').rdd.flatMap(lambda x: x).histogram(12)"
   ]
  },
  {
   "cell_type": "code",
   "execution_count": null,
   "metadata": {},
   "outputs": [],
   "source": [
    "i10_values = i10_hist[0]\n",
    "i10_values_count = i10_hist[1]\n",
    "i10_values.pop(0)\n",
    "print(f\"lengths: i10values={len(i10_values)}, i10counts={len(i10_values_count)}\")"
   ]
  },
  {
   "cell_type": "code",
   "execution_count": null,
   "metadata": {},
   "outputs": [],
   "source": [
    "i10_smpl = i10.toPandas()"
   ]
  },
  {
   "cell_type": "code",
   "execution_count": null,
   "metadata": {},
   "outputs": [],
   "source": [
    "i10_smpl.describe()"
   ]
  },
  {
   "cell_type": "code",
   "execution_count": null,
   "metadata": {},
   "outputs": [],
   "source": [
    "fig=plt.figure(figsize=(28,7))\n",
    "# Box Plot\n",
    "ax=fig.add_subplot(1,4,1)\n",
    "ax=sns.boxplot(x=i10_smpl)\n",
    "ax.set(xlim=(-0.2,6))\n",
    "ax.set_xlabel('Value of i10')\n",
    "\n",
    "# Violin Plot\n",
    "ax=fig.add_subplot(1,4,2)\n",
    "ax=sns.violinplot(x=i10_smpl)\n",
    "ax.set(xlim=(-0.2,6))\n",
    "ax.set_xlabel('Value of i10')\n",
    "\n",
    "# Histogram\n",
    "ax=fig.add_subplot(1,4,3)\n",
    "ax.hist(i10_values,len(i10_values),weights=i10_values_count,color='red')\n",
    "ax.set(xlim=(-0.2,6))\n",
    "ax.set_xlabel('Value of i10')\n",
    "ax.set_ylabel('count')\n",
    "\n",
    "# ScatterPlot\n",
    "ax=fig.add_subplot(1,4,4)\n",
    "ax.scatter(x=i10_counts['i10'],y=i10_counts['count'])\n",
    "ax.set(xlim=(-0.2,6))\n",
    "ax.set_xlabel('Value of i10')\n",
    "ax.set_ylabel('count')\n",
    "\n",
    "plt.show()"
   ]
  },
  {
   "cell_type": "code",
   "execution_count": null,
   "metadata": {},
   "outputs": [],
   "source": [
    "i10_smpl['normed']=(i10_smpl['i10'])/(10)\n",
    "i10_smpl.describe()"
   ]
  },
  {
   "cell_type": "code",
   "execution_count": null,
   "metadata": {},
   "outputs": [],
   "source": [
    "i10_normed_counts = i10_counts"
   ]
  },
  {
   "cell_type": "code",
   "execution_count": null,
   "metadata": {},
   "outputs": [],
   "source": [
    "i10_normed_counts['normed']=(i10_normed_counts['i10'])/(10)"
   ]
  },
  {
   "cell_type": "code",
   "execution_count": null,
   "metadata": {},
   "outputs": [],
   "source": [
    "fig=plt.figure(figsize=(28,7))\n",
    "# Box Plot\n",
    "ax=fig.add_subplot(1,4,1)\n",
    "ax=sns.boxplot(x=i10_smpl['normed'])\n",
    "ax.set(xlim=(-.05,1))\n",
    "ax.set_xlabel('Normed Value of i10')\n",
    "\n",
    "# Violin Plot\n",
    "ax=fig.add_subplot(1,4,2)\n",
    "ax=sns.violinplot(x=i10_smpl['normed'])\n",
    "ax.set(xlim=(-.05,2))\n",
    "ax.set_xlabel('Normed Value of i10')\n",
    "\n",
    "# Histogram\n",
    "ax=fig.add_subplot(1,4,3)\n",
    "ax.hist(i10_smpl['normed'],bins=12)\n",
    "ax.set(xlim=(-.05,1))\n",
    "ax.set_xlabel('Normed Value of i10')\n",
    "ax.set_ylabel('count')\n",
    "\n",
    "# ScatterPlot\n",
    "ax=fig.add_subplot(1,4,4)\n",
    "ax.scatter(x=i10_normed_counts['normed'],y=i10_normed_counts['count'])\n",
    "ax.set(xlim=(-.05,1))\n",
    "ax.set_xlabel('Normed Value of i10')\n",
    "ax.set_ylabel('count')\n",
    "\n",
    "plt.show()"
   ]
  },
  {
   "cell_type": "markdown",
   "metadata": {},
   "source": [
    "**Conclusion for i10**\n",
    "- almost sigmoid distribution.\n",
    "- normalization here will consist of division by the maximum value only"
   ]
  },
  {
   "cell_type": "markdown",
   "metadata": {},
   "source": [
    "## i11"
   ]
  },
  {
   "cell_type": "code",
   "execution_count": null,
   "metadata": {},
   "outputs": [],
   "source": [
    "i11 = idf.select('i11').cache()"
   ]
  },
  {
   "cell_type": "code",
   "execution_count": null,
   "metadata": {},
   "outputs": [],
   "source": [
    "i11_counts = i11.groupBy('i11').count().toPandas()"
   ]
  },
  {
   "cell_type": "code",
   "execution_count": null,
   "metadata": {},
   "outputs": [],
   "source": [
    "i11_counts.sort_values(by=['count'],ascending=False,inplace=True)\n",
    "i11_counts.head(15)"
   ]
  },
  {
   "cell_type": "code",
   "execution_count": null,
   "metadata": {},
   "outputs": [],
   "source": [
    "i11_counts.shape"
   ]
  },
  {
   "cell_type": "code",
   "execution_count": null,
   "metadata": {},
   "outputs": [],
   "source": [
    "i11_hist = i11.select('i11').rdd.flatMap(lambda x: x).histogram(200)"
   ]
  },
  {
   "cell_type": "code",
   "execution_count": null,
   "metadata": {},
   "outputs": [],
   "source": [
    "i11_values = i11_hist[0]\n",
    "i11_values_count = i11_hist[1]\n",
    "i11_values.pop(0)\n",
    "print(f\"lengths: i11values={len(i11_values)}, i11counts={len(i11_values_count)}\")"
   ]
  },
  {
   "cell_type": "code",
   "execution_count": null,
   "metadata": {},
   "outputs": [],
   "source": [
    "i11_smpl = i11.sample(fraction=0.1,seed=42).toPandas()"
   ]
  },
  {
   "cell_type": "code",
   "execution_count": null,
   "metadata": {},
   "outputs": [],
   "source": [
    "i11_smpl.describe()"
   ]
  },
  {
   "cell_type": "code",
   "execution_count": null,
   "metadata": {},
   "outputs": [],
   "source": [
    "fig=plt.figure(figsize=(28,7))\n",
    "# Box Plot\n",
    "ax=fig.add_subplot(1,4,1)\n",
    "ax=sns.boxplot(x=i11_smpl)\n",
    "ax.set(xlim=(-1,25))\n",
    "ax.set_xlabel('Value of i11')\n",
    "\n",
    "# Violin Plot\n",
    "ax=fig.add_subplot(1,4,2)\n",
    "ax=sns.violinplot(x=i11_smpl)\n",
    "ax.set(xlim=(-1,25))\n",
    "ax.set_xlabel('Value of i11')\n",
    "\n",
    "# Histogram\n",
    "ax=fig.add_subplot(1,4,3)\n",
    "ax.hist(i11_values,len(i11_values),weights=i11_values_count,color='red')\n",
    "ax.set(xlim=(-1,25))\n",
    "ax.set_xlabel('Value of i11')\n",
    "ax.set_ylabel('count')\n",
    "\n",
    "# ScatterPlot\n",
    "ax=fig.add_subplot(1,4,4)\n",
    "ax.scatter(x=i11_counts['i11'],y=i11_counts['count'])\n",
    "ax.set(xlim=(-2,25))\n",
    "ax.set_xlabel('Value of i11')\n",
    "ax.set_ylabel('count')\n",
    "\n",
    "plt.show()"
   ]
  },
  {
   "cell_type": "code",
   "execution_count": null,
   "metadata": {},
   "outputs": [],
   "source": [
    "i11_smpl['normed']=(i11_smpl['i11']-1)/(5.196922)\n",
    "i11_smpl.describe()"
   ]
  },
  {
   "cell_type": "code",
   "execution_count": null,
   "metadata": {},
   "outputs": [],
   "source": [
    "i11_normed_counts = i11_counts"
   ]
  },
  {
   "cell_type": "code",
   "execution_count": null,
   "metadata": {},
   "outputs": [],
   "source": [
    "i11_normed_counts['normed']=(i11_normed_counts['i11']-1)/(5.196922)"
   ]
  },
  {
   "cell_type": "code",
   "execution_count": null,
   "metadata": {},
   "outputs": [],
   "source": [
    "fig=plt.figure(figsize=(28,7))\n",
    "# Box Plot\n",
    "ax=fig.add_subplot(1,4,1)\n",
    "ax=sns.boxplot(x=i11_smpl['normed'])\n",
    "ax.set(xlim=(-.5,2))\n",
    "ax.set_xlabel('Normed Value of i11')\n",
    "\n",
    "# Violin Plot\n",
    "ax=fig.add_subplot(1,4,2)\n",
    "ax=sns.violinplot(x=i11_smpl['normed'])\n",
    "ax.set(xlim=(-.5,2))\n",
    "ax.set_xlabel('Normed Value of i11')\n",
    "\n",
    "# Histogram\n",
    "ax=fig.add_subplot(1,4,3)\n",
    "ax.hist(i11_smpl['normed'],bins=200)\n",
    "ax.set(xlim=(-.5,2))\n",
    "ax.set_xlabel('Normed Value of i11')\n",
    "ax.set_ylabel('count')\n",
    "\n",
    "# ScatterPlot\n",
    "ax=fig.add_subplot(1,4,4)\n",
    "ax.scatter(x=i11_normed_counts['normed'],y=i11_normed_counts['count'])\n",
    "ax.set(xlim=(-.5,2))\n",
    "ax.set_xlabel('Normed Value of i11')\n",
    "ax.set_ylabel('count')\n",
    "\n",
    "plt.show()"
   ]
  },
  {
   "cell_type": "markdown",
   "metadata": {},
   "source": [
    "**Conclusion for i11**\n",
    "- Violin plot: truncated skewed normal distribution.\n",
    "- normalization here will consist of Z score using median instead of mean."
   ]
  },
  {
   "cell_type": "markdown",
   "metadata": {},
   "source": [
    "## i12"
   ]
  },
  {
   "cell_type": "code",
   "execution_count": null,
   "metadata": {},
   "outputs": [],
   "source": [
    "i12 = idf.select('i12').cache()"
   ]
  },
  {
   "cell_type": "code",
   "execution_count": null,
   "metadata": {},
   "outputs": [],
   "source": [
    "i12_counts = i12.groupBy('i12').count().toPandas()"
   ]
  },
  {
   "cell_type": "code",
   "execution_count": null,
   "metadata": {},
   "outputs": [],
   "source": [
    "i12_counts.sort_values(by=['count'],ascending=False,inplace=True)\n",
    "i12_counts.head(15)"
   ]
  },
  {
   "cell_type": "code",
   "execution_count": null,
   "metadata": {},
   "outputs": [],
   "source": [
    "i12_counts.shape"
   ]
  },
  {
   "cell_type": "code",
   "execution_count": null,
   "metadata": {},
   "outputs": [],
   "source": [
    "i12_hist = i12.select('i12').rdd.flatMap(lambda x: x).histogram(4000)"
   ]
  },
  {
   "cell_type": "code",
   "execution_count": null,
   "metadata": {},
   "outputs": [],
   "source": [
    "i12_values = i12_hist[0]\n",
    "i12_values_count = i12_hist[1]\n",
    "i12_values.pop(0)\n",
    "print(f\"lengths: i12values={len(i12_values)}, i12counts={len(i12_values_count)}\")"
   ]
  },
  {
   "cell_type": "code",
   "execution_count": null,
   "metadata": {},
   "outputs": [],
   "source": [
    "i12_smpl = i12.sample(fraction=0.1,seed=42).toPandas()"
   ]
  },
  {
   "cell_type": "code",
   "execution_count": null,
   "metadata": {},
   "outputs": [],
   "source": [
    "i12_smpl.describe()"
   ]
  },
  {
   "cell_type": "code",
   "execution_count": null,
   "metadata": {},
   "outputs": [],
   "source": [
    "fig=plt.figure(figsize=(28,7))\n",
    "# Box Plot\n",
    "ax=fig.add_subplot(1,4,1)\n",
    "ax=sns.boxplot(x=i12_smpl)\n",
    "ax.set(xlim=(-0.5,10))\n",
    "ax.set_xlabel('Value of i12')\n",
    "\n",
    "# Violin Plot\n",
    "ax=fig.add_subplot(1,4,2)\n",
    "ax=sns.violinplot(x=i12_smpl)\n",
    "ax.set(xlim=(-2,50))\n",
    "ax.set_xlabel('Value of i12')\n",
    "\n",
    "# Histogram\n",
    "ax=fig.add_subplot(1,4,3)\n",
    "ax.hist(i12_values,len(i12_values),weights=i12_values_count,color='red')\n",
    "ax.set(xlim=(-0.5,10))\n",
    "ax.set_xlabel('Value of i12')\n",
    "ax.set_ylabel('count')\n",
    "\n",
    "# ScatterPlot\n",
    "ax=fig.add_subplot(1,4,4)\n",
    "ax.scatter(x=i12_counts['i12'],y=i12_counts['count'])\n",
    "ax.set(xlim=(-0.5,10))\n",
    "ax.set_xlabel('Value of i12')\n",
    "ax.set_ylabel('count')\n",
    "\n",
    "plt.show()"
   ]
  },
  {
   "cell_type": "code",
   "execution_count": null,
   "metadata": {},
   "outputs": [],
   "source": [
    "i12_smpl['normed']=(i12_smpl['i12'])/(2*5.672792)\n",
    "i12_smpl.describe()"
   ]
  },
  {
   "cell_type": "code",
   "execution_count": null,
   "metadata": {},
   "outputs": [],
   "source": [
    "i12_normed_counts = i12_counts"
   ]
  },
  {
   "cell_type": "code",
   "execution_count": null,
   "metadata": {},
   "outputs": [],
   "source": [
    "i12_normed_counts['normed']=(i12_normed_counts['i12'])/(2*5.672792)"
   ]
  },
  {
   "cell_type": "code",
   "execution_count": null,
   "metadata": {},
   "outputs": [],
   "source": [
    "fig=plt.figure(figsize=(28,7))\n",
    "# Box Plot\n",
    "ax=fig.add_subplot(1,4,1)\n",
    "ax=sns.boxplot(x=i12_smpl['normed'])\n",
    "ax.set(xlim=(-.1,1.5))\n",
    "ax.set_xlabel('Normed Value of i12')\n",
    "\n",
    "# Violin Plot\n",
    "ax=fig.add_subplot(1,4,2)\n",
    "ax=sns.violinplot(x=i12_smpl['normed'])\n",
    "ax.set(xlim=(-.3,5))\n",
    "ax.set_xlabel('Normed Value of i12')\n",
    "\n",
    "# Histogram\n",
    "ax=fig.add_subplot(1,4,3)\n",
    "ax.hist(i12_smpl['normed'],bins=4000)\n",
    "ax.set(xlim=(-.1,1.5))\n",
    "ax.set_xlabel('Normed Value of i12')\n",
    "ax.set_ylabel('count')\n",
    "\n",
    "# ScatterPlot\n",
    "ax=fig.add_subplot(1,4,4)\n",
    "ax.scatter(x=i12_normed_counts['normed'],y=i12_normed_counts['count'])\n",
    "ax.set(xlim=(-.1,1.5))\n",
    "ax.set_xlabel('Normed Value of i12')\n",
    "ax.set_ylabel('count')\n",
    "\n",
    "plt.show()"
   ]
  },
  {
   "cell_type": "markdown",
   "metadata": {},
   "source": [
    "**Conclusion for i12**\n",
    "- Violin plot: exponentially decreasing distribution.\n",
    "- normalization here will consist of dividing by 2 times the std. deviation."
   ]
  },
  {
   "cell_type": "markdown",
   "metadata": {},
   "source": [
    "## i13"
   ]
  },
  {
   "cell_type": "code",
   "execution_count": null,
   "metadata": {},
   "outputs": [],
   "source": [
    "i13 = idf.select('i13').cache()"
   ]
  },
  {
   "cell_type": "code",
   "execution_count": null,
   "metadata": {},
   "outputs": [],
   "source": [
    "i13_counts = i13.groupBy('i13').count().toPandas()"
   ]
  },
  {
   "cell_type": "code",
   "execution_count": null,
   "metadata": {},
   "outputs": [],
   "source": [
    "i13_counts.sort_values(by=['count'],ascending=False,inplace=True)\n",
    "i13_counts.head(15)"
   ]
  },
  {
   "cell_type": "code",
   "execution_count": null,
   "metadata": {},
   "outputs": [],
   "source": [
    "i13_counts.shape"
   ]
  },
  {
   "cell_type": "code",
   "execution_count": null,
   "metadata": {},
   "outputs": [],
   "source": [
    "i13_hist = i13.select('i13').rdd.flatMap(lambda x: x).histogram(7000)"
   ]
  },
  {
   "cell_type": "code",
   "execution_count": null,
   "metadata": {},
   "outputs": [],
   "source": [
    "i13_values = i13_hist[0]\n",
    "i13_values_count = i13_hist[1]\n",
    "i13_values.pop(0)\n",
    "print(f\"lengths: i13values={len(i13_values)}, i13counts={len(i13_values_count)}\")"
   ]
  },
  {
   "cell_type": "code",
   "execution_count": null,
   "metadata": {},
   "outputs": [],
   "source": [
    "i13_smpl = i13.sample(fraction=0.25,seed=42).toPandas()"
   ]
  },
  {
   "cell_type": "code",
   "execution_count": null,
   "metadata": {},
   "outputs": [],
   "source": [
    "i13_smpl.describe()"
   ]
  },
  {
   "cell_type": "code",
   "execution_count": null,
   "metadata": {},
   "outputs": [],
   "source": [
    "fig=plt.figure(figsize=(28,7))\n",
    "# Box Plot\n",
    "ax=fig.add_subplot(1,4,1)\n",
    "ax=sns.boxplot(x=i13_smpl)\n",
    "ax.set(xlim=(-0.5,40))\n",
    "ax.set_xlabel('Value of i13')\n",
    "\n",
    "# Violin Plot\n",
    "ax=fig.add_subplot(1,4,2)\n",
    "ax=sns.violinplot(x=i13_smpl)\n",
    "ax.set(xlim=(-10,100))\n",
    "ax.set_xlabel('Value of i13')\n",
    "\n",
    "# Histogram\n",
    "ax=fig.add_subplot(1,4,3)\n",
    "ax.hist(i13_values,len(i13_values),weights=i13_values_count,color='red')\n",
    "ax.set(xlim=(-0.5,40))\n",
    "ax.set_xlabel('Value of i13')\n",
    "ax.set_ylabel('count')\n",
    "\n",
    "# ScatterPlot\n",
    "ax=fig.add_subplot(1,4,4)\n",
    "ax.scatter(x=i13_counts['i13'],y=i13_counts['count'])\n",
    "ax.set(xlim=(-0.5,40))\n",
    "ax.set_xlabel('Value of i13')\n",
    "ax.set_ylabel('count')\n",
    "\n",
    "plt.show()"
   ]
  },
  {
   "cell_type": "code",
   "execution_count": null,
   "metadata": {},
   "outputs": [],
   "source": [
    "i13_smpl['normed']=(i13_smpl['i13']-5)/(16.413245)\n",
    "i13_smpl.describe()"
   ]
  },
  {
   "cell_type": "code",
   "execution_count": null,
   "metadata": {},
   "outputs": [],
   "source": [
    "i13_normed_counts = i13_counts"
   ]
  },
  {
   "cell_type": "code",
   "execution_count": null,
   "metadata": {},
   "outputs": [],
   "source": [
    "i13_normed_counts['normed']=(i13_normed_counts['i13']-5)/(16.413245)"
   ]
  },
  {
   "cell_type": "code",
   "execution_count": null,
   "metadata": {},
   "outputs": [],
   "source": [
    "fig=plt.figure(figsize=(28,7))\n",
    "# Box Plot\n",
    "ax=fig.add_subplot(1,4,1)\n",
    "ax=sns.boxplot(x=i13_smpl['normed'])\n",
    "ax.set(xlim=(-0.5,2))\n",
    "ax.set_xlabel('Normed Value of i13')\n",
    "\n",
    "# Violin Plot\n",
    "ax=fig.add_subplot(1,4,2)\n",
    "ax=sns.violinplot(x=i13_smpl['normed'])\n",
    "ax.set(xlim=(-0.75,5))\n",
    "ax.set_xlabel('Normed Value of i13')\n",
    "\n",
    "# Histogram\n",
    "ax=fig.add_subplot(1,4,3)\n",
    "ax.hist(i13_smpl['normed'],bins=7000)\n",
    "ax.set(xlim=(-0.5,2))\n",
    "ax.set_xlabel('Normed Value of i13')\n",
    "ax.set_ylabel('count')\n",
    "\n",
    "# ScatterPlot\n",
    "ax=fig.add_subplot(1,4,4)\n",
    "ax.scatter(x=i13_normed_counts['normed'],y=i13_normed_counts['count'])\n",
    "ax.set(xlim=(-0.5,2))\n",
    "ax.set_xlabel('Normed Value of i13')\n",
    "ax.set_ylabel('count')\n",
    "\n",
    "plt.show()"
   ]
  },
  {
   "cell_type": "markdown",
   "metadata": {},
   "source": [
    "**Conclusion for i13**\n",
    "- Violin plot: exponentially decreasing distribution, but the scatter plot and the bar chart look far more 'normally' distributed\n",
    "- normalization here will be a Z-score, but with median instead of mean"
   ]
  },
  {
   "cell_type": "markdown",
   "metadata": {},
   "source": [
    "# Summary of Numerical Variable Standardizations"
   ]
  },
  {
   "cell_type": "markdown",
   "metadata": {},
   "source": [
    "In the following table, the results of the above Standardizations are shown.\n",
    "\n",
    "In general, if the distribution of the original data appears to be exponential-decreasing, then a simple division by one or two times the standard deviation is done. If the distribution appears to be a truncated, skewed normal distribution, then a Z-score type standardization is done, however, due to the high skew on all the data, the median is used as the centering variable, not the mean. The singl variable that is sigmoid in nature is only standardized by dividing by the maximum value.\n",
    "\n",
    "These standardizations do not attempt to transform the variables into normal distributions, but only change the values so they are all approximately in the [-1,3) range for use in machine learning."
   ]
  },
  {
   "cell_type": "markdown",
   "metadata": {},
   "source": [
    "| Numerical Variable | Distribution Type          | Standardization          |\n",
    "|--------------------|----------------------------|--------------------------|\n",
    "| i01                | Exponentially Decreasing   | i01' = i01/(2*SD)        |\n",
    "| i02                | Truncated Skewed Normal    | i02' = (i02 - median)/SD |\n",
    "| i03                | Exponentially Decreasing   | i03' = i03/SD            |\n",
    "| i04                | Truncated Skewed Normal    | i04' = (i04-median)/SD   |\n",
    "| i05                | Truncated Skewed Normal    | i05' = (i05-median)/SD   |\n",
    "| i06                | Exponentially Decreasing   | i06' = i06/2*SD          |\n",
    "| i07                | Exponentially Decreasing   | i07' = i07/2*SD          |\n",
    "| i08                | Exponentially Decreasing   | i08' = i08/2*SD          |\n",
    "| i09                | Truncated Skewed Normal    | i09' = (i09-median)/SD   |\n",
    "| i10                | Sigmoid                    | i10' = i10/Max(i10)      |\n",
    "| i11                | Truncated Skewed Normal    | i11' = (i11-median)/SD   |\n",
    "| i12                | Exponentially Decreasing   | i12' = i12/2*SD          |\n",
    "| i13                | Truncated Skewed Normal    | i13' = (i13-median)/SD   |"
   ]
  },
  {
   "cell_type": "markdown",
   "metadata": {},
   "source": [
    "# Cross Correlation"
   ]
  },
  {
   "cell_type": "code",
   "execution_count": null,
   "metadata": {},
   "outputs": [],
   "source": [
    "subset_idf = idf.sample(fraction=0.5,seed=42).cache()"
   ]
  },
  {
   "cell_type": "code",
   "execution_count": null,
   "metadata": {},
   "outputs": [],
   "source": [
    "num_feat = num_features\n",
    "del num_feat[-1]\n",
    "num_feat"
   ]
  },
  {
   "cell_type": "code",
   "execution_count": null,
   "metadata": {},
   "outputs": [],
   "source": [
    "# Create a correlation matrix for the numerical features, then plot\n",
    "corr_mat = np.zeros([len(num_feat),len(num_feat)])\n",
    "ct=0\n",
    "rowno=0\n",
    "for c1 in num_feat:\n",
    "    rw=[]\n",
    "    for c2 in num_feat:\n",
    "        key='a'+str(ct)\n",
    "        r = subset_idf.agg(corr(c1,c2).alias(key)).collect()[0][key]\n",
    "        #print(r)\n",
    "        ct +=1\n",
    "        rw.append(r)\n",
    "    corr_mat[rowno] = rw\n",
    "    rowno +=1\n",
    "    "
   ]
  },
  {
   "cell_type": "code",
   "execution_count": null,
   "metadata": {},
   "outputs": [],
   "source": [
    "f,ax=plt.subplots(figsize=(16,16))\n",
    "cmap=sns.diverging_palette(220,10,as_cmap=True)\n",
    "sns.heatmap(corr_mat,cmap=cmap,annot=True)\n",
    "plt.show()"
   ]
  },
  {
   "cell_type": "markdown",
   "metadata": {},
   "source": [
    "\n",
    "# Deal with NaN values"
   ]
  },
  {
   "cell_type": "markdown",
   "metadata": {},
   "source": [
    "First: are the NaN's for any given numerical variable correlated with class  \n",
    "Second: How many rows would we remove if we removed the NaN rows?  \n",
    "Third: If the NaNs are correlated with class, then give them an outlier value after standardization  \n",
    "Fourth: If the NaNs are not correlated with class, then assign them a value = median (not mean because all the distributions are skewed).  "
   ]
  },
  {
   "cell_type": "code",
   "execution_count": 51,
   "metadata": {},
   "outputs": [
    {
     "name": "stdout",
     "output_type": "stream",
     "text": [
      "['i01', 'i02', 'i03', 'i04', 'i05', 'i06', 'i07', 'i08', 'i09', 'i10', 'i11', 'i12', 'i13', 'ctr'] <class 'list'>\n"
     ]
    }
   ],
   "source": [
    "num_features.append('ctr')\n",
    "print(num_features,type(num_features))"
   ]
  },
  {
   "cell_type": "code",
   "execution_count": 52,
   "metadata": {},
   "outputs": [],
   "source": [
    "ndf = pf.select( num_features)"
   ]
  },
  {
   "cell_type": "code",
   "execution_count": 114,
   "metadata": {},
   "outputs": [
    {
     "name": "stdout",
     "output_type": "stream",
     "text": [
      "9395606 36673203\n",
      "0.25619812918986107\n"
     ]
    }
   ],
   "source": [
    "tot_1 = ndf.filter(col('ctr')==1).count()\n",
    "n_tot = ndf.count()\n",
    "tot_prop_1 = tot_1/n_tot"
   ]
  },
  {
   "cell_type": "code",
   "execution_count": 129,
   "metadata": {},
   "outputs": [
    {
     "name": "stdout",
     "output_type": "stream",
     "text": [
      "proportion of 1 in total dataset = 0.256\n",
      "variable i01\n",
      "Proportion of NaN in class 1 for this variable, 0.187, is not same as proportion of class 1 in total dataset\n",
      "variable i02\n",
      "This variable has no NaN values\n",
      "variable i03\n",
      "Proportion of NaN in class 1 for this variable, 0.307, is not same as proportion of class 1 in total dataset\n",
      "variable i04\n",
      "Proportion of NaN in class 1 for this variable, 0.282, is not same as proportion of class 1 in total dataset\n",
      "variable i05\n",
      "Proportion of NaN in class 1 for this variable, 0.0975, is not same as proportion of class 1 in total dataset\n",
      "variable i06\n",
      "Proportion of NaN in class 1 for this variable, 0.128, is not same as proportion of class 1 in total dataset\n",
      "variable i07\n",
      "Proportion of NaN in class 1 for this variable, 0.143, is not same as proportion of class 1 in total dataset\n",
      "variable i08\n",
      "Proportion of NaN in class 1 for this variable, 0.106, is not same as proportion of class 1 in total dataset\n",
      "variable i09\n",
      "Proportion of NaN in class 1 for this variable, 0.143, is not same as proportion of class 1 in total dataset\n",
      "variable i10\n",
      "Proportion of NaN in class 1 for this variable, 0.187, is not same as proportion of class 1 in total dataset\n",
      "variable i11\n",
      "Proportion of NaN in class 1 for this variable, 0.143, is not same as proportion of class 1 in total dataset\n",
      "variable i12\n",
      "Proportion of NaN in class 1 for this variable, 0.246, is not same as proportion of class 1 in total dataset\n",
      "variable i13\n",
      "Proportion of NaN in class 1 for this variable, 0.282, is not same as proportion of class 1 in total dataset\n",
      "variable ctr\n",
      "This variable has no NaN values\n"
     ]
    }
   ],
   "source": [
    "corr_mat_nan = []\n",
    "ct=1\n",
    "print(f'proportion of 1 in total dataset = {tot_prop_1:.3}')\n",
    "for c in num_features:\n",
    "    print(\"variable\",c)\n",
    "    selcols = [c,'ctr']\n",
    "    icol = ndf.select(selcols).cache()\n",
    "    \n",
    "    # remove non-NaN rows\n",
    "    icol_nans = icol.filter(col(c).isNull())\n",
    "    \n",
    "    # Proportion of NaNs ins variable:\n",
    "    tot_nans_var = icol_nans.count()\n",
    "    if tot_nans_var > 0 :\n",
    "        tot_nans_var_1 = icol_nans.filter(col('ctr')==1).count()  # number of nans in class 1 for this variable\n",
    "        p2 = tot_nans_var_1/tot_nans_var\n",
    "\n",
    "        # calculate z-score\n",
    "        sigmaD = np.sqrt(((tot_prop_1*(1-tot_prop_1))/n_tot)+((p2*(1-p2))/tot_nans_var))\n",
    "        z = ((tot_prop_1-p2)/sigmaD)\n",
    "\n",
    "        # find if we can reject null that the proportions are the same\n",
    "        crit_z = 2.81 #99.5% two tailed\n",
    "        if z > crit_z or z < -1*(crit_z):\n",
    "            print(f'Proportion of NaN in class 1 for this variable, {p2:.3}, is not same as proportion of class 1 in total dataset')\n",
    "        else:\n",
    "            print('Proportion of NaN in class 1 for this variable is similar to proportion of 1 in total dataset. They may have a relationship. Z=',z)\n",
    "    else:\n",
    "        print('This variable has no NaN values')\n"
   ]
  },
  {
   "cell_type": "markdown",
   "metadata": {},
   "source": [
    "So, we can see that all the variables either have no NaNs (`i02`) or the proportion of NaNs in the variable is not the same as the proportion in the entire data set at a 99.5% confidence level. This means we either get rid of all the NaN rows or replace with Median. "
   ]
  },
  {
   "cell_type": "code",
   "execution_count": 134,
   "metadata": {},
   "outputs": [
    {
     "name": "stdout",
     "output_type": "stream",
     "text": [
      "36673203\n",
      "4389727\n",
      "0.11969848938474231\n"
     ]
    }
   ],
   "source": [
    "# Check out how many rows left if rows with NaN are dropped\n",
    "total=ndf.count()\n",
    "print(total)\n",
    "non_NaN_df = ndf.dropna()\n",
    "remaining = non_NaN_df.count()\n",
    "print(remaining)\n",
    "ratio_remaining = remaining/total\n",
    "print(ratio_remaining)\n"
   ]
  },
  {
   "cell_type": "markdown",
   "metadata": {},
   "source": [
    "Only 12% of rows have all non-NaN feature values, so we must replace all NaN values with medians."
   ]
  },
  {
   "cell_type": "markdown",
   "metadata": {},
   "source": [
    "# Code to process all numerical features"
   ]
  },
  {
   "cell_type": "code",
   "execution_count": 260,
   "metadata": {},
   "outputs": [],
   "source": [
    "def numerical_std(raw_train_df, train_stats):\n",
    "    \"\"\"Apply standardizations to all numerical features to ensure \n",
    "    numerical features have balanced weights\n",
    "    \n",
    "    Input: Spark Sql Dataframe of original labeled data and relevant statistics from training data\n",
    "    Output: Spark Sql Dataframe of all labeled data with standardized numeric features \n",
    "    \"\"\"\n",
    "        \n",
    "    # parse out the names of the numeric features\n",
    "    num_features = [c for c in raw_train_df.columns if 'i' in c]\n",
    "    \n",
    "    # Replace all NaN values with the median for that variable\n",
    "    medians=train_stats['medians']\n",
    "    sdf = raw_train_df.fillna(medians)\n",
    "    \n",
    "    sds = train_stats['sds']\n",
    "    maxs = train_stats['maxs']\n",
    "    \n",
    "    # add new stanardized columns\n",
    "    sdf = sdf.withColumn('i01s',(sdf['i01']/(2.0*sds['i01SD'])))\n",
    "    sdf = sdf.withColumn('i02s',((sdf['i02']-medians['i02'])/(sds['i02SD'])))\n",
    "    sdf = sdf.withColumn('i03s',(sdf['i03']/(sds['i03SD'])))\n",
    "    sdf = sdf.withColumn('i04s',((sdf['i04']-medians['i04'])/(sds['i04SD'])))\n",
    "    sdf = sdf.withColumn('i05s',((sdf['i05']-medians['i05'])/(sds['i05SD'])))\n",
    "    sdf = sdf.withColumn('i06s',(sdf['i06']/(2.0*sds['i06SD'])))\n",
    "    sdf = sdf.withColumn('i07s',(sdf['i07']/(2.0*sds['i07SD'])))\n",
    "    sdf = sdf.withColumn('i08s',(sdf['i08']/(2.0*sds['i08SD'])))\n",
    "    sdf = sdf.withColumn('i09s',((sdf['i09']-medians['i09'])/(sds['i09SD'])))\n",
    "    sdf = sdf.withColumn('i10s',(sdf['i10']/(maxs['i10Max'])))\n",
    "    sdf = sdf.withColumn('i11s',((sdf['i11']-medians['i11'])/(sds['i11SD'])))\n",
    "    sdf = sdf.withColumn('i12s',(sdf['i12']/(2.0*sds['i12SD'])))\n",
    "    sdf = sdf.withColumn('i13s',((sdf['i13']-medians['i13'])/(sds['i13SD'])))\n",
    "    \n",
    "    # drop old columns\n",
    "    sdf = sdf.drop('i01','i02','i04','i03','i05','i06','i07','i08','i09','i10','i11','i12','i13')\n",
    "    \n",
    "    # return new dataframe\n",
    "    return sdf\n",
    "\n",
    "def calc_train_stats(raw_train_df):\n",
    "    \"\"\" Calculate descriptive stats on training data for use in standardization\n",
    "    Input: Raw training spark sql dataframe\n",
    "    Output: Dict of trainingstat:value\n",
    "    \"\"\"\n",
    "    \n",
    "    # parse out the names of the numeric features\n",
    "    num_features = [c for c in raw_train_df.columns if 'i' in c]\n",
    "    \n",
    "    # Run describe on the numerical features, then put transposed version of results into Pandas\n",
    "    num_stats = pf.describe( num_features ).toPandas().T\n",
    "    \n",
    "    # Calculate median, adjust indices and column names and add median to pandas dataframe\n",
    "    num_median = pf.approxQuantile(col=num_features,probabilities=[0.5],relativeError=0.005)\n",
    "    num_median = list(itertools.chain.from_iterable(num_median))\n",
    "    num_stats= num_stats.rename(columns=num_stats.iloc[0])\n",
    "    num_stats=num_stats.drop(num_stats.index[0])\n",
    "    num_stats['median']=num_median\n",
    "    \n",
    "    # Adjust type for needed columns from object to required type\n",
    "    num_stats['stddev'] = num_stats['stddev'].astype(float)\n",
    "    num_stats['median'] = num_stats['median'].astype(int)\n",
    "    num_stats['max'] = num_stats['max'].astype(float)\n",
    "    \n",
    "    # Create dictionary of required stats.\n",
    "    train_stats = {\n",
    "        'medians':{\n",
    "            'i01': float(num_stats.loc['i01','median']),\n",
    "            'i02': float(num_stats.loc['i02','median']),\n",
    "            'i03': float(num_stats.loc['i03','median']),\n",
    "            'i04': float(num_stats.loc['i04','median']),\n",
    "            'i05': float(num_stats.loc['i05','median']),\n",
    "            'i06': float(num_stats.loc['i06','median']),\n",
    "            'i07': float(num_stats.loc['i07','median']),\n",
    "            'i08': float(num_stats.loc['i08','median']),\n",
    "            'i09': float(num_stats.loc['i09','median']),\n",
    "            'i10': float(num_stats.loc['i10','median']),\n",
    "            'i11': float(num_stats.loc['i11','median']),\n",
    "            'i12': float(num_stats.loc['i12','median']),\n",
    "            'i13': float(num_stats.loc['i13','median'])\n",
    "        },\n",
    "        'sds':{        \n",
    "            'i01SD': num_stats.loc['i01','stddev'],\n",
    "            'i02SD': num_stats.loc['i02','stddev'],\n",
    "            'i03SD': num_stats.loc['i03','stddev'],\n",
    "            'i04SD': num_stats.loc['i04','stddev'],\n",
    "            'i05SD': num_stats.loc['i05','stddev'],\n",
    "            'i06SD': num_stats.loc['i06','stddev'],\n",
    "            'i07SD': num_stats.loc['i07','stddev'],\n",
    "            'i08SD': num_stats.loc['i08','stddev'],\n",
    "            'i09SD': num_stats.loc['i09','stddev'],\n",
    "            'i11SD': num_stats.loc['i11','stddev'],\n",
    "            'i12SD': num_stats.loc['i12','stddev'],\n",
    "            'i13SD': num_stats.loc['i13','stddev']\n",
    "        },\n",
    "        'maxs':{'i10Max': num_stats.loc['i10','max']}\n",
    "    }\n",
    "    return(train_stats)\n",
    "    "
   ]
  },
  {
   "cell_type": "markdown",
   "metadata": {},
   "source": [
    "### Create Training stats and save out"
   ]
  },
  {
   "cell_type": "code",
   "execution_count": 261,
   "metadata": {},
   "outputs": [],
   "source": [
    "pf = ss.read.parquet('../data/train_w261.parquet')\n",
    "train_stats = calc_train_stats(pf)"
   ]
  },
  {
   "cell_type": "code",
   "execution_count": 269,
   "metadata": {},
   "outputs": [],
   "source": [
    "with open('../data/train_stats.pkl','wb') as f:\n",
    "    pickle.dump(train_stats,f)"
   ]
  },
  {
   "cell_type": "markdown",
   "metadata": {},
   "source": [
    "### Run the standardization on the full dataset"
   ]
  },
  {
   "cell_type": "code",
   "execution_count": 270,
   "metadata": {},
   "outputs": [
    {
     "name": "stdout",
     "output_type": "stream",
     "text": [
      "CPU times: user 11.8 ms, sys: 3.42 ms, total: 15.2 ms\n",
      "Wall time: 159 ms\n"
     ]
    }
   ],
   "source": [
    "%%time\n",
    "standard_df= numerical_std(pf,train_stats)"
   ]
  },
  {
   "cell_type": "code",
   "execution_count": 273,
   "metadata": {},
   "outputs": [],
   "source": [
    "%%time\n",
    "standard_df.write.parquet('../data/train_w261_std.parquet')"
   ]
  }
 ],
 "metadata": {
  "kernelspec": {
   "display_name": "Python 3",
   "language": "python",
   "name": "python3"
  },
  "language_info": {
   "codemirror_mode": {
    "name": "ipython",
    "version": 3
   },
   "file_extension": ".py",
   "mimetype": "text/x-python",
   "name": "python",
   "nbconvert_exporter": "python",
   "pygments_lexer": "ipython3",
   "version": "3.7.3"
  }
 },
 "nbformat": 4,
 "nbformat_minor": 4
}
