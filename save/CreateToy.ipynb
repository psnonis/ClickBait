{
 "cells": [
  {
   "cell_type": "markdown",
   "metadata": {},
   "source": [
    "# Create Toy Data Set"
   ]
  },
  {
   "cell_type": "code",
   "execution_count": 1,
   "metadata": {},
   "outputs": [],
   "source": [
    "import pandas  as pd\n",
    "import numpy   as np\n",
    "import seaborn as sns\n",
    "import time    as ti\n",
    "import itertools\n",
    "import matplotlib.pyplot as plt\n",
    "\n",
    "from pyspark.ml.classification import LogisticRegression\n",
    "from pyspark.ml.linalg         import Vectors\n",
    "from pyspark.ml.feature        import OneHotEncoderEstimator, StringIndexer, VectorAssembler, StandardScaler\n",
    "from pyspark.ml                import Pipeline\n",
    "\n",
    "from pyspark.sql               import SparkSession, SQLContext\n",
    "from pyspark.sql.types         import StructType, StructField, BooleanType, IntegerType, StringType, DoubleType, BinaryType\n",
    "from pyspark.sql.functions     import countDistinct, col, desc, log"
   ]
  },
  {
   "cell_type": "code",
   "execution_count": 2,
   "metadata": {},
   "outputs": [],
   "source": [
    "ss = SparkSession.builder\\\n",
    "     .config('spark.executor.memory',       '4G')\\\n",
    "     .config('spark.driver.memory',        '40G')\\\n",
    "     .config('spark.driver.maxResultSize', '10G')\\\n",
    "     .getOrCreate()\n",
    "sc = ss.sparkContext\n",
    "sq = SQLContext(sc)"
   ]
  },
  {
   "cell_type": "code",
   "execution_count": 4,
   "metadata": {},
   "outputs": [],
   "source": [
    "pf_train = ss.read.parquet('../data/criteo.parquet.df.train.normed.filled.masked-60000.encode.picked-1000.packed')\n",
    "pf_dev = ss.read.parquet('../data/criteo.parquet.df.dev.normed.filled.masked-60000.encode.picked-1000.packed')"
   ]
  },
  {
   "cell_type": "code",
   "execution_count": 5,
   "metadata": {},
   "outputs": [],
   "source": [
    "toy_train = pf_train.sample(fraction=0.00013, seed=2019).cache()"
   ]
  },
  {
   "cell_type": "code",
   "execution_count": 6,
   "metadata": {},
   "outputs": [],
   "source": [
    "toy_dev = pf_dev.sample(fraction=0.00013, seed=2019).cache()"
   ]
  },
  {
   "cell_type": "code",
   "execution_count": 7,
   "metadata": {},
   "outputs": [
    {
     "data": {
      "text/plain": [
       "4657"
      ]
     },
     "execution_count": 7,
     "metadata": {},
     "output_type": "execute_result"
    }
   ],
   "source": [
    "toy_train.count()"
   ]
  },
  {
   "cell_type": "code",
   "execution_count": 8,
   "metadata": {},
   "outputs": [
    {
     "data": {
      "text/plain": [
       "570"
      ]
     },
     "execution_count": 8,
     "metadata": {},
     "output_type": "execute_result"
    }
   ],
   "source": [
    "toy_dev.count()"
   ]
  },
  {
   "cell_type": "code",
   "execution_count": 9,
   "metadata": {},
   "outputs": [
    {
     "data": {
      "text/plain": [
       "[Row(label=0.0, features=SparseVector(414, {0: 0.0529, 1: -0.0102, 2: 0.0176, 4: 0.0151, 5: 0.0193, 6: 0.0227, 8: -0.1134, 9: 0.0909, 13: 1.0, 27: 1.0, 68: 1.0, 83: 1.0, 103: 1.0, 112: 1.0, 119: 1.0, 131: 1.0, 142: 1.0, 145: 1.0, 152: 1.0, 173: 1.0, 189: 1.0, 215: 1.0, 225: 1.0, 252: 1.0, 270: 1.0, 280: 1.0, 316: 1.0, 325: 1.0, 329: 1.0, 347: 1.0, 353: 1.0, 363: 1.0, 387: 1.0, 401: 1.0}), weight=0.2561962362853416)]"
      ]
     },
     "execution_count": 9,
     "metadata": {},
     "output_type": "execute_result"
    }
   ],
   "source": [
    "toy_train.take(1)"
   ]
  },
  {
   "cell_type": "code",
   "execution_count": 10,
   "metadata": {},
   "outputs": [
    {
     "data": {
      "text/plain": [
       "[Row(label=0.0, features=SparseVector(414, {0: 0.0529, 1: -0.0077, 2: 0.0227, 3: -0.1138, 4: 2.8185, 5: 0.0451, 7: 0.09, 8: -0.1588, 9: 0.0909, 10: -0.1924, 12: -0.0617, 13: 1.0, 33: 1.0, 68: 1.0, 83: 1.0, 102: 1.0, 116: 1.0, 119: 1.0, 132: 1.0, 143: 1.0, 145: 1.0, 157: 1.0, 173: 1.0, 193: 1.0, 216: 1.0, 225: 1.0, 252: 1.0, 271: 1.0, 299: 1.0, 318: 1.0, 326: 1.0, 329: 1.0, 347: 1.0, 353: 1.0, 363: 1.0, 388: 1.0, 402: 1.0}), weight=0.2561962362853416)]"
      ]
     },
     "execution_count": 10,
     "metadata": {},
     "output_type": "execute_result"
    }
   ],
   "source": [
    "toy_dev.take(1)"
   ]
  },
  {
   "cell_type": "code",
   "execution_count": 12,
   "metadata": {},
   "outputs": [],
   "source": [
    "# Write out the toy sets\n",
    "toy_train.write.parquet('../data/toy_train.parquet')\n",
    "toy_dev.write.parquet('../data/toy_dev.parquet')"
   ]
  }
 ],
 "metadata": {
  "kernelspec": {
   "display_name": "Python 3",
   "language": "python",
   "name": "python3"
  },
  "language_info": {
   "codemirror_mode": {
    "name": "ipython",
    "version": 3
   },
   "file_extension": ".py",
   "mimetype": "text/x-python",
   "name": "python",
   "nbconvert_exporter": "python",
   "pygments_lexer": "ipython3",
   "version": "3.7.3"
  }
 },
 "nbformat": 4,
 "nbformat_minor": 4
}
