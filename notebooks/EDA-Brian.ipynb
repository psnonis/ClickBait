{
 "cells": [
  {
   "cell_type": "markdown",
   "metadata": {},
   "source": [
    "# EDA on Advertising Data"
   ]
  },
  {
   "cell_type": "markdown",
   "metadata": {},
   "source": [
    "## Look at the structure of the data"
   ]
  },
  {
   "cell_type": "code",
   "execution_count": 1,
   "metadata": {},
   "outputs": [
    {
     "name": "stdout",
     "output_type": "stream",
     "text": [
      "0\t1\t1\t5\t0\t1382\t4\t15\t2\t181\t1\t2\t\t2\t68fd1e64\t80e26c9b\tfb936136\t7b4723c4\t25c83c98\t7e0ccccf\tde7995b8\t1f89b562\ta73ee510\ta8cd5504\tb2cb9c98\t37c9c164\t2824a5f6\t1adce6ef\t8ba8b39a\t891b62e7\te5ba7672\tf54016b9\t21ddcdc9\tb1252a9d\t07b5194c\t\t3a171ecb\tc5c50484\te8b83407\t9727dd16\n",
      "0\t2\t0\t44\t1\t102\t8\t2\t2\t4\t1\t1\t\t4\t68fd1e64\tf0cf0024\t6f67f7e5\t41274cd7\t25c83c98\tfe6b92e5\t922afcc0\t0b153874\ta73ee510\t2b53e5fb\t4f1b46f3\t623049e6\td7020589\tb28479f6\te6c5b5cd\tc92f3b61\t07c540c4\tb04e4670\t21ddcdc9\t5840adea\t60f6221e\t\t3a171ecb\t43f13e8b\te8b83407\t731c3655\n",
      "0\t2\t0\t1\t14\t767\t89\t4\t2\t245\t1\t3\t3\t45\t287e684f\t0a519c5c\t02cf9876\tc18be181\t25c83c98\t7e0ccccf\tc78204a1\t0b153874\ta73ee510\t3b08e48b\t5f5e6091\t8fe001f4\taa655a2f\t07d13a8f\t6dc710ed\t36103458\t8efede7f\t3412118d\t\t\te587c466\tad3062eb\t3a171ecb\t3b183c5c\t\t\n",
      "0\t\t893\t\t\t4392\t\t0\t0\t0\t\t0\t\t\t68fd1e64\t2c16a946\ta9a87e68\t2e17d6f6\t25c83c98\tfe6b92e5\t2e8a689b\t0b153874\ta73ee510\tefea433b\te51ddf94\ta30567ca\t3516f6e6\t07d13a8f\t18231224\t52b8680f\t1e88c74f\t74ef3502\t\t\t6b3a5ca6\t\t3a171ecb\t9117a34a\t\t\n",
      "0\t3\t-1\t\t0\t2\t0\t3\t0\t0\t1\t1\t\t0\t8cf07265\tae46a29d\tc81688bb\tf922efad\t25c83c98\t13718bbd\tad9fa255\t0b153874\ta73ee510\t5282c137\te5d8af57\t66a76a26\tf06c53ac\t1adce6ef\t8ff4b403\t01adbab4\t1e88c74f\t26b3c7a7\t\t\t21c9516a\t\t32c7478e\tb34f3128\t\t\n"
     ]
    }
   ],
   "source": [
    "!head -n  5 ../data/train.txt"
   ]
  },
  {
   "cell_type": "code",
   "execution_count": 8,
   "metadata": {},
   "outputs": [
    {
     "name": "stdout",
     "output_type": "stream",
     "text": [
      "0\t\t-1\t\t\t34722\t38\t1\t0\t41\t\t1\t0\t\t05db9164\t287130e0\t72d7cc2f\t09fbb2e3\t4cf72387\tfe6b92e5\t0b73ac09\t0b153874\t7cc72ec2\tbefd4fae\t1d351a39\t0705f759\t90a568bc\t1adce6ef\t310d155b\tf786d643\t3486227d\t891589e7\t1d1eb838\ta458ea53\t840e0f0f\t78e2e389\tbcdee96c\td16bdc4c\te8b83407\t095e16c8\n",
      "0\t0\t21\t5\t3\t6190\t29\t10\t6\t45\t0\t5\t\t3\t2d4ea12b\te5fb1af3\taa8c1539\t85dd697c\t25c83c98\tfe6b92e5\taf84702c\t0b153874\ta73ee510\tfbbf2c95\t7c430b79\td8c29807\t7f0d7407\t8ceecbc8\t0f04b39f\tc64d548f\te5ba7672\t13145934\tcf99e5de\t5840adea\t5f957280\t\t3a171ecb\t1793a828\te8b83407\tb7d9c3bc\n",
      "0\t0\t1\t32\t6\t1278\t21\t11\t19\t25\t0\t4\t\t19\t05db9164\t09e68b86\td1c988f2\tdad66aab\t25c83c98\t\tb87f4a4a\t062b5529\ta73ee510\te70742b0\t319687c9\t17328c2b\t62036f49\t07d13a8f\t36721ddc\t32bf6bff\te5ba7672\t5aed7436\t83552c76\ta458ea53\t4c970120\t\t32c7478e\t1793a828\te8b83407\t0d904595\n",
      "0\t\t0\t1\t\t2917\t302\t28\t9\t137\t\t2\t\t\t05db9164\t0468d672\t3a0a4e68\t867d05be\t25c83c98\t\t6cdb3998\t0b153874\ta73ee510\t01a07fd7\t5874c9c9\tfc7a1a03\t740c210d\t07d13a8f\ta888f201\t668f77c8\te5ba7672\t9880032b\t21ddcdc9\t5840adea\tc192ff0f\t\t32c7478e\ta9a2ac1a\t9b3e8820\t409c7293\n",
      "0\t0\t4\t13\t13\t2815\t20\t4\t21\t41\t0\t4\t\t14\t05db9164\ta0e12995\t622d2ce8\t51c64c6d\t25c83c98\t\t3086a9e9\t0b153874\ta73ee510\t3b08e48b\tebd30041\te9521d94\tc7a109eb\t1adce6ef\t78c64a1d\tab8b968d\td4bb7bd8\t1616f155\t21ddcdc9\t5840adea\tee4fa92e\t\t32c7478e\td61a7d0a\t9b3e8820\tb29c74dc\n"
     ]
    }
   ],
   "source": [
    "!tail -n  5 ../data/train.txt"
   ]
  },
  {
   "cell_type": "code",
   "execution_count": 5,
   "metadata": {},
   "outputs": [
    {
     "name": "stdout",
     "output_type": "stream",
     "text": [
      "0\n",
      "1\n"
     ]
    }
   ],
   "source": [
    "# view the number of unique numbers for the first field\n",
    "!cut -f 1 ../data/train.txt | sort| uniq | head -n 30"
   ]
  },
  {
   "cell_type": "code",
   "execution_count": 7,
   "metadata": {},
   "outputs": [
    {
     "name": "stdout",
     "output_type": "stream",
     "text": [
      "38\n"
     ]
    }
   ],
   "source": [
    "# how many fields does the dataset have\n",
    "!head -n 1 ../data/train.txt | wc -w"
   ]
  },
  {
   "cell_type": "code",
   "execution_count": 9,
   "metadata": {},
   "outputs": [
    {
     "name": "stdout",
     "output_type": "stream",
     "text": [
      "\n",
      "0\n",
      "1\n",
      "10\n",
      "100\n",
      "1003\n",
      "101\n",
      "1011\n",
      "1013\n",
      "102\n",
      "103\n",
      "104\n",
      "1041\n",
      "105\n",
      "106\n",
      "107\n",
      "108\n",
      "1086\n",
      "109\n",
      "11\n",
      "110\n",
      "1103\n",
      "111\n",
      "112\n",
      "113\n",
      "114\n",
      "1140\n",
      "115\n",
      "1152\n",
      "1159\n"
     ]
    }
   ],
   "source": [
    "# unique fields for the second column\n",
    "!cut -f 2 ../data/train.txt | sort| uniq | head -n 30"
   ]
  },
  {
   "cell_type": "code",
   "execution_count": null,
   "metadata": {},
   "outputs": [],
   "source": []
  }
 ],
 "metadata": {
  "kernelspec": {
   "display_name": "Python 3",
   "language": "python",
   "name": "python3"
  },
  "language_info": {
   "codemirror_mode": {
    "name": "ipython",
    "version": 3
   },
   "file_extension": ".py",
   "mimetype": "text/x-python",
   "name": "python",
   "nbconvert_exporter": "python",
   "pygments_lexer": "ipython3",
   "version": "3.7.5"
  }
 },
 "nbformat": 4,
 "nbformat_minor": 4
}
