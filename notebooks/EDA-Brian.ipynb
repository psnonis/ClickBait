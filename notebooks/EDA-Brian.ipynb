{
 "cells": [
  {
   "cell_type": "markdown",
   "metadata": {},
   "source": [
    "# EDA on Advertising Data"
   ]
  },
  {
   "cell_type": "markdown",
   "metadata": {},
   "source": [
    "## Look at the structure of the data"
   ]
  },
  {
   "cell_type": "code",
   "execution_count": 2,
   "metadata": {},
   "outputs": [
    {
     "name": "stdout",
     "output_type": "stream",
     "text": [
      "0\t1\t1\t5\t0\t1382\t4\t15\t2\t181\t1\t2\t\t2\t68fd1e64\t80e26c9b\tfb936136\t7b4723c4\t25c83c98\t7e0ccccf\tde7995b8\t1f89b562\ta73ee510\ta8cd5504\tb2cb9c98\t37c9c164\t2824a5f6\t1adce6ef\t8ba8b39a\t891b62e7\te5ba7672\tf54016b9\t21ddcdc9\tb1252a9d\t07b5194c\t\t3a171ecb\tc5c50484\te8b83407\t9727dd16\n",
      "0\t2\t0\t44\t1\t102\t8\t2\t2\t4\t1\t1\t\t4\t68fd1e64\tf0cf0024\t6f67f7e5\t41274cd7\t25c83c98\tfe6b92e5\t922afcc0\t0b153874\ta73ee510\t2b53e5fb\t4f1b46f3\t623049e6\td7020589\tb28479f6\te6c5b5cd\tc92f3b61\t07c540c4\tb04e4670\t21ddcdc9\t5840adea\t60f6221e\t\t3a171ecb\t43f13e8b\te8b83407\t731c3655\n",
      "0\t2\t0\t1\t14\t767\t89\t4\t2\t245\t1\t3\t3\t45\t287e684f\t0a519c5c\t02cf9876\tc18be181\t25c83c98\t7e0ccccf\tc78204a1\t0b153874\ta73ee510\t3b08e48b\t5f5e6091\t8fe001f4\taa655a2f\t07d13a8f\t6dc710ed\t36103458\t8efede7f\t3412118d\t\t\te587c466\tad3062eb\t3a171ecb\t3b183c5c\t\t\n",
      "0\t\t893\t\t\t4392\t\t0\t0\t0\t\t0\t\t\t68fd1e64\t2c16a946\ta9a87e68\t2e17d6f6\t25c83c98\tfe6b92e5\t2e8a689b\t0b153874\ta73ee510\tefea433b\te51ddf94\ta30567ca\t3516f6e6\t07d13a8f\t18231224\t52b8680f\t1e88c74f\t74ef3502\t\t\t6b3a5ca6\t\t3a171ecb\t9117a34a\t\t\n",
      "0\t3\t-1\t\t0\t2\t0\t3\t0\t0\t1\t1\t\t0\t8cf07265\tae46a29d\tc81688bb\tf922efad\t25c83c98\t13718bbd\tad9fa255\t0b153874\ta73ee510\t5282c137\te5d8af57\t66a76a26\tf06c53ac\t1adce6ef\t8ff4b403\t01adbab4\t1e88c74f\t26b3c7a7\t\t\t21c9516a\t\t32c7478e\tb34f3128\t\t\n"
     ]
    }
   ],
   "source": [
    "!head -n  5 ../data/train.txt"
   ]
  },
  {
   "cell_type": "code",
   "execution_count": 3,
   "metadata": {},
   "outputs": [
    {
     "name": "stdout",
     "output_type": "stream",
     "text": [
      "0\t\t-1\t\t\t34722\t38\t1\t0\t41\t\t1\t0\t\t05db9164\t287130e0\t72d7cc2f\t09fbb2e3\t4cf72387\tfe6b92e5\t0b73ac09\t0b153874\t7cc72ec2\tbefd4fae\t1d351a39\t0705f759\t90a568bc\t1adce6ef\t310d155b\tf786d643\t3486227d\t891589e7\t1d1eb838\ta458ea53\t840e0f0f\t78e2e389\tbcdee96c\td16bdc4c\te8b83407\t095e16c8\n",
      "0\t0\t21\t5\t3\t6190\t29\t10\t6\t45\t0\t5\t\t3\t2d4ea12b\te5fb1af3\taa8c1539\t85dd697c\t25c83c98\tfe6b92e5\taf84702c\t0b153874\ta73ee510\tfbbf2c95\t7c430b79\td8c29807\t7f0d7407\t8ceecbc8\t0f04b39f\tc64d548f\te5ba7672\t13145934\tcf99e5de\t5840adea\t5f957280\t\t3a171ecb\t1793a828\te8b83407\tb7d9c3bc\n",
      "0\t0\t1\t32\t6\t1278\t21\t11\t19\t25\t0\t4\t\t19\t05db9164\t09e68b86\td1c988f2\tdad66aab\t25c83c98\t\tb87f4a4a\t062b5529\ta73ee510\te70742b0\t319687c9\t17328c2b\t62036f49\t07d13a8f\t36721ddc\t32bf6bff\te5ba7672\t5aed7436\t83552c76\ta458ea53\t4c970120\t\t32c7478e\t1793a828\te8b83407\t0d904595\n",
      "0\t\t0\t1\t\t2917\t302\t28\t9\t137\t\t2\t\t\t05db9164\t0468d672\t3a0a4e68\t867d05be\t25c83c98\t\t6cdb3998\t0b153874\ta73ee510\t01a07fd7\t5874c9c9\tfc7a1a03\t740c210d\t07d13a8f\ta888f201\t668f77c8\te5ba7672\t9880032b\t21ddcdc9\t5840adea\tc192ff0f\t\t32c7478e\ta9a2ac1a\t9b3e8820\t409c7293\n",
      "0\t0\t4\t13\t13\t2815\t20\t4\t21\t41\t0\t4\t\t14\t05db9164\ta0e12995\t622d2ce8\t51c64c6d\t25c83c98\t\t3086a9e9\t0b153874\ta73ee510\t3b08e48b\tebd30041\te9521d94\tc7a109eb\t1adce6ef\t78c64a1d\tab8b968d\td4bb7bd8\t1616f155\t21ddcdc9\t5840adea\tee4fa92e\t\t32c7478e\td61a7d0a\t9b3e8820\tb29c74dc\n"
     ]
    }
   ],
   "source": [
    "!tail -n  5 ../data/train.txt"
   ]
  },
  {
   "cell_type": "code",
   "execution_count": 4,
   "metadata": {},
   "outputs": [
    {
     "name": "stdout",
     "output_type": "stream",
     "text": [
      "0\n",
      "1\n"
     ]
    }
   ],
   "source": [
    "# view the number of unique numbers for the first field\n",
    "!cut -f 1 ../data/train.txt | sort| uniq | head -n 30"
   ]
  },
  {
   "cell_type": "code",
   "execution_count": 5,
   "metadata": {},
   "outputs": [
    {
     "name": "stdout",
     "output_type": "stream",
     "text": [
      "38\n"
     ]
    }
   ],
   "source": [
    "# how many fields does the dataset have\n",
    "!head -n 1 ../data/train.txt | wc -w"
   ]
  },
  {
   "cell_type": "code",
   "execution_count": 6,
   "metadata": {},
   "outputs": [
    {
     "name": "stdout",
     "output_type": "stream",
     "text": [
      "\n",
      "0\n",
      "1\n",
      "10\n",
      "100\n",
      "1003\n",
      "101\n",
      "1011\n",
      "1013\n",
      "102\n",
      "103\n",
      "104\n",
      "1041\n",
      "105\n",
      "106\n",
      "107\n",
      "108\n",
      "1086\n",
      "109\n",
      "11\n",
      "110\n",
      "1103\n",
      "111\n",
      "112\n",
      "113\n",
      "114\n",
      "1140\n",
      "115\n",
      "1152\n",
      "1159\n"
     ]
    }
   ],
   "source": [
    "# unique fields for the second column\n",
    "!cut -f 2 ../data/train.txt | sort| uniq | head -n 30"
   ]
  },
  {
   "cell_type": "code",
   "execution_count": 7,
   "metadata": {},
   "outputs": [
    {
     "name": "stdout",
     "output_type": "stream",
     "text": [
      "\t29\t50\t5\t7260\t437\t1\t4\t14\t\t1\t0\t6\t5a9ed9b0\ta0e12995\ta1e14474\t08a40877\t25c83c98\t\t964d1fdd\t5b392875\ta73ee510\tde89c3d2\t59cd5ae7\t8d98db20\t8b216f7b\t1adce6ef\t78c64a1d\t3ecdadf7\t3486227d\t1616f155\t21ddcdc9\t5840adea\t2c277e62\t\t423fab69\t54c91918\t9b3e8820\te75c9ae9\n",
      "27\t17\t45\t28\t2\t28\t27\t29\t28\t1\t1\t\t23\t68fd1e64\t960c983b\t9fbfbfd5\t38c11726\t25c83c98\t7e0ccccf\tfe06fd10\t062b5529\ta73ee510\tca53fc84\t67360210\t895d8bbb\t4f8e2224\tf862f261\tb4cc2435\t4c0041e5\te5ba7672\tb4abdd09\t21ddcdc9\t5840adea\t36a7ab86\t\t32c7478e\t85e4d73f\t010f6491\tee63dd9b\n",
      "1\t1\t19\t7\t1\t3\t1\t7\t7\t1\t1\t\t2\t09ca0b81\t8947f767\ta87e61f7\tc4ba2a67\t25c83c98\t7e0ccccf\tce6020cc\t062b5529\ta73ee510\tb04d3cfe\t70dcd184\t899eb56b\taca22cf9\tb28479f6\ta473257f\t88f592e4\td4bb7bd8\tbd17c3da\t1d04f4a4\ta458ea53\t82bdc0bb\t\t32c7478e\t5bdcd9c4\t010f6491\tcca57dcc\n",
      "4\t1\t\t6\t1051\t134\t4\t35\t72\t1\t1\t\t6\t05db9164\t532da141\ta7ded28e\t456b4d8c\t25c83c98\tfbad5c96\t5f29da0e\t0b153874\ta73ee510\t4b344a42\t0ad37b4b\t8ea37200\tf9d99d81\tcfef1c29\tabd8f51e\t9a9902d0\t07c540c4\tbdc06043\t\t\t6dfd157c\tad3062eb\t423fab69\tef089725\t\t\n",
      "7\t1\t25\t10\t139\t74\t48\t13\t44\t1\t8\t2\t12\t05db9164\t207b2d81\t2b280564\tad5ffc6b\t25c83c98\t7e0ccccf\t103c17bc\t0b153874\ta73ee510\t8e54038a\te6e0c2dc\t2a064dba\te9332a03\t07d13a8f\t0c67c4ca\t7d9b60c8\t27c07bd6\t395856b0\t21ddcdc9\ta458ea53\t9c3eb598\tad3062eb\t3a171ecb\tc0b8dfd6\t001f3601\t7a2fb9af\n"
     ]
    }
   ],
   "source": [
    "!head -n  5 ../data/test.txt"
   ]
  },
  {
   "cell_type": "code",
   "execution_count": 8,
   "metadata": {},
   "outputs": [
    {
     "name": "stdout",
     "output_type": "stream",
     "text": [
      "34095179\n"
     ]
    }
   ],
   "source": [
    "!cut -f 1 ../data/train.txt | grep 0 | wc -l"
   ]
  },
  {
   "cell_type": "code",
   "execution_count": 9,
   "metadata": {},
   "outputs": [
    {
     "name": "stdout",
     "output_type": "stream",
     "text": [
      "11745438\n"
     ]
    }
   ],
   "source": [
    "!cut -f 1 ../data/train.txt | grep 1 | wc -l"
   ]
  },
  {
   "cell_type": "markdown",
   "metadata": {},
   "source": [
    "## Spark"
   ]
  },
  {
   "cell_type": "code",
   "execution_count": 1,
   "metadata": {},
   "outputs": [],
   "source": [
    "from pyspark import SparkContext, SQLContext\n",
    "sc = SparkContext.getOrCreate()\n",
    "sqlContext = SQLContext(sc)"
   ]
  },
  {
   "cell_type": "code",
   "execution_count": 2,
   "metadata": {},
   "outputs": [],
   "source": [
    "from pyspark.sql import SparkSession\n",
    "from pyspark.sql.types import StructType, StructField , IntegerType, StringType\n",
    "\n",
    "from pyspark.sql.functions import isnan, when, count, col\n",
    "\n",
    "import pandas as pd\n",
    "import numpy as np\n",
    "\n",
    "import matplotlib.pyplot as plt\n",
    "import seaborn as sns"
   ]
  },
  {
   "cell_type": "code",
   "execution_count": 3,
   "metadata": {},
   "outputs": [],
   "source": [
    "spark = SparkSession.builder.getOrCreate()"
   ]
  },
  {
   "cell_type": "code",
   "execution_count": 4,
   "metadata": {},
   "outputs": [],
   "source": [
    "schema = StructType()\n",
    "\n",
    "for f in range(0, 39 + 1):\n",
    "    if   f == 0 : schema.add(StructField(f'ctr',        IntegerType(), True))\n",
    "    elif f < 14 : schema.add(StructField(f'i{f   :02}', IntegerType(), True))\n",
    "    else        : schema.add(StructField(f's{f-13:02}',  StringType(), True))"
   ]
  },
  {
   "cell_type": "code",
   "execution_count": 5,
   "metadata": {},
   "outputs": [],
   "source": [
    "criteo = spark.read.csv(\"../data/train.txt\", header=True, sep=\"\\t\", schema=schema)"
   ]
  },
  {
   "cell_type": "code",
   "execution_count": 6,
   "metadata": {},
   "outputs": [
    {
     "name": "stdout",
     "output_type": "stream",
     "text": [
      "+---+----+---+----+----+-----+----+---+---+----+----+---+----+----+--------+--------+--------+--------+--------+--------+--------+--------+--------+--------+--------+--------+--------+--------+--------+--------+--------+--------+--------+--------+--------+--------+--------+--------+--------+--------+\n",
      "|ctr| i01|i02| i03| i04|  i05| i06|i07|i08| i09| i10|i11| i12| i13|     s01|     s02|     s03|     s04|     s05|     s06|     s07|     s08|     s09|     s10|     s11|     s12|     s13|     s14|     s15|     s16|     s17|     s18|     s19|     s20|     s21|     s22|     s23|     s24|     s25|     s26|\n",
      "+---+----+---+----+----+-----+----+---+---+----+----+---+----+----+--------+--------+--------+--------+--------+--------+--------+--------+--------+--------+--------+--------+--------+--------+--------+--------+--------+--------+--------+--------+--------+--------+--------+--------+--------+--------+\n",
      "|  0|   2|  0|  44|   1|  102|   8|  2|  2|   4|   1|  1|null|   4|68fd1e64|f0cf0024|6f67f7e5|41274cd7|25c83c98|fe6b92e5|922afcc0|0b153874|a73ee510|2b53e5fb|4f1b46f3|623049e6|d7020589|b28479f6|e6c5b5cd|c92f3b61|07c540c4|b04e4670|21ddcdc9|5840adea|60f6221e|    null|3a171ecb|43f13e8b|e8b83407|731c3655|\n",
      "|  0|   2|  0|   1|  14|  767|  89|  4|  2| 245|   1|  3|   3|  45|287e684f|0a519c5c|02cf9876|c18be181|25c83c98|7e0ccccf|c78204a1|0b153874|a73ee510|3b08e48b|5f5e6091|8fe001f4|aa655a2f|07d13a8f|6dc710ed|36103458|8efede7f|3412118d|    null|    null|e587c466|ad3062eb|3a171ecb|3b183c5c|    null|    null|\n",
      "|  0|null|893|null|null| 4392|null|  0|  0|   0|null|  0|null|null|68fd1e64|2c16a946|a9a87e68|2e17d6f6|25c83c98|fe6b92e5|2e8a689b|0b153874|a73ee510|efea433b|e51ddf94|a30567ca|3516f6e6|07d13a8f|18231224|52b8680f|1e88c74f|74ef3502|    null|    null|6b3a5ca6|    null|3a171ecb|9117a34a|    null|    null|\n",
      "|  0|   3| -1|null|   0|    2|   0|  3|  0|   0|   1|  1|null|   0|8cf07265|ae46a29d|c81688bb|f922efad|25c83c98|13718bbd|ad9fa255|0b153874|a73ee510|5282c137|e5d8af57|66a76a26|f06c53ac|1adce6ef|8ff4b403|01adbab4|1e88c74f|26b3c7a7|    null|    null|21c9516a|    null|32c7478e|b34f3128|    null|    null|\n",
      "|  0|null| -1|null|null|12824|null|  0|  0|   6|null|  0|null|null|05db9164|6c9c9cf3|2730ec9c|5400db8b|43b19349|6f6d9be8|53b5f978|0b153874|a73ee510|3b08e48b|91e8fc27|be45b877|9ff13f22|07d13a8f|06969a20|9bc7fff5|776ce399|92555263|    null|    null|242bb710|8ec974f4|be7c41b4|72c78f11|    null|    null|\n",
      "|  0|null|  1|   2|null| 3168|null|  0|  1|   2|null|  0|null|null|439a44a4|ad4527a2|c02372d0|d34ebbaa|43b19349|fe6b92e5|4bc6ffea|0b153874|a73ee510|3b08e48b|a4609aab|14d63538|772a00d7|07d13a8f|f9d1382e|b00d3dc9|776ce399|cdfa8259|    null|    null|20062612|    null|93bad2c0|1b256e61|    null|    null|\n",
      "|  1|   1|  4|   2|   0|    0|   0|  1|  0|   0|   1|  1|null|   0|68fd1e64|2c16a946|503b9dbc|e4dbea90|f3474129|13718bbd|38eb9cf4|1f89b562|a73ee510|547c0ffe|bc8c9f21|60ab2f07|46f42a63|07d13a8f|18231224|e6b6bdc7|e5ba7672|74ef3502|    null|    null|5316a17f|    null|32c7478e|9117a34a|    null|    null|\n",
      "|  0|null| 44|   4|   8|19010| 249| 28| 31| 141|null|  1|null|   8|05db9164|d833535f|d032c263|c18be181|25c83c98|7e0ccccf|d5b6acf2|0b153874|a73ee510|2acdcf4e|086ac2d2|dfbb09fb|41a6ae00|b28479f6|e2502ec9|84898b2a|e5ba7672|42a2edb9|    null|    null|0014c32a|    null|32c7478e|3b183c5c|    null|    null|\n",
      "|  0|null| 35|null|   1|33737|  21|  1|  2|   3|null|  1|null|   1|05db9164|510b40a5|d03e7c24|eb1fd928|25c83c98|    null|52283d1c|0b153874|a73ee510|015ac893|e51ddf94|951fe4a9|3516f6e6|07d13a8f|2ae4121c|8ec71479|d4bb7bd8|70d0f5f9|    null|    null|0e63fca0|    null|32c7478e|0e8fe315|    null|    null|\n",
      "|  0|null|  2| 632|   0|56770|null|  0|  5|  65|null|  0|null|   2|05db9164|0468d672|7ae80d0f|80d8555a|25c83c98|7e0ccccf|04277bf9|0b153874|7cc72ec2|3b08e48b|7e2c5c15|cfc86806|91a1b611|b28479f6|58251aab|146a70fd|776ce399|0b331314|21ddcdc9|5840adea|cbec39db|    null|3a171ecb|cedad179|ea9a246c|9a556cfc|\n",
      "|  0|   0|  6|   6|   6|  421| 109|  1|  7| 107|   0|  1|null|   6|05db9164|9b5fd12f|    null|    null|4cf72387|    null|111121f4|0b153874|a73ee510|3b08e48b|ac9c2e8f|    null|6e2d6a15|07d13a8f|796a1a2e|    null|d4bb7bd8|8aaa5b67|    null|    null|    null|    null|32c7478e|    null|    null|    null|\n",
      "|  1|   0| -1|null|null| 1465|   0| 17|  0|   4|   0|  4|null|null|241546e0|38a947a1|fa673455|6a14f9b9|25c83c98|fe6b92e5|1c86e0eb|1f89b562|a73ee510|e7ba2569|755e4a50|208d9687|5978055e|07d13a8f|5182f694|f8b34416|e5ba7672|e5f8f18f|    null|    null|f3ddd519|    null|32c7478e|b34f3128|    null|    null|\n",
      "|  1|null|  2|  11|   5|10262|  34|  2|  4|   5|null|  1|null|   5|be589b51|287130e0|cd7a7a22|fb7334df|25c83c98|    null|6cdb3998|361384ce|a73ee510|3ff10fb2|5874c9c9|976cbd4c|740c210d|1adce6ef|310d155b|07eb8110|07c540c4|891589e7|18259a83|a458ea53|a0ab60ca|    null|32c7478e|a052b1ed|9b3e8820|8967c0d2|\n",
      "|  0|   0| 51|  84|   4| 3633|  26|  1|  4|   8|   0|  1|null|   4|5a9ed9b0|80e26c9b|97144401|5dbf0cc5|0942e0a7|13718bbd|9ce6136d|0b153874|a73ee510|2106e595|b5bb9d63|04f55317|ab04d8fe|1adce6ef|0ad47a49|2bd32e5c|3486227d|12195b22|21ddcdc9|b1252a9d|fa131867|    null|dbb486d7|8ecc176a|e8b83407|c43c3f58|\n",
      "|  0|null|  2|   1|  18|20255|null|  0|  1|1306|null|  0|null|  20|05db9164|bc6e3dc1|67799c69|d00d0f35|4cf72387|7e0ccccf|ca4fd8f8|64523cfa|a73ee510|3b08e48b|a0060bca|b9f28c33|22d23aac|5aebfb83|d702713a|0f655650|776ce399|3a2028fd|    null|    null|b426bc93|    null|3a171ecb|2e0a0035|    null|    null|\n",
      "|  1|   1|987|null|   2|  105|   2|  1|  2|   2|   1|  1|null|   2|68fd1e64|38d50e09|da603082|431a5096|43b19349|7e0ccccf|3f35b640|0b153874|a73ee510|3b08e48b|3d5fb018|6aaab577|94172618|07d13a8f|ee569ce2|2f03ef40|d4bb7bd8|582152eb|21ddcdc9|b1252a9d|3b203ca1|    null|32c7478e|b21dc903|001f3601|aa5f0a15|\n",
      "|  0|   0|  1|null|   0|16597| 557|  3|  5| 123|   0|  1|null|   1|8cf07265|7cd19acc|77f2f2e5|d16679b9|4cf72387|fbad5c96|8fb24933|0b153874|a73ee510|0095a535|3617b5f5|9f32b866|428332cf|b28479f6|83ebd498|31ca40b6|e5ba7672|d0e5eb07|    null|    null|dfcfc3fa|ad3062eb|32c7478e|aee52b6f|    null|    null|\n",
      "|  0|   0| 24|   4|   2| 2056|  12|  6| 10|  83|   0|  1|null|   2|05db9164|f0cf0024|08b45d8b|cbb5af1b|384874ce|fbad5c96|81bb0302|37e4aa92|a73ee510|175d6c71|b7094596|1c547463|1f9d2c38|1adce6ef|55dc357b|0ca69655|e5ba7672|b04e4670|21ddcdc9|b1252a9d|f3caefdd|    null|32c7478e|4c8e5aef|ea9a246c|9593bba9|\n",
      "|  0|   7|102|null|   3|  780|  15|  7| 15|  15|   1|  1|null|   3|3c9d8785|b0660259|3a960356|15c92ddb|4cf72387|13718bbd|00c46cd1|0b153874|a73ee510|62cfc6bd|8cffe207|656e5413|ff5626de|ad1cc976|27b1230c|fa8d05aa|e5ba7672|5edd90de|    null|    null|e12ce348|    null|c3dc6cef|49045073|    null|    null|\n",
      "|  1|null| 47|null|   0| 6399|  38| 19| 10| 143|null| 10|null|   6|1464facd|38a947a1|223b0e16|ca55061c|25c83c98|7e0ccccf|6933dec1|5b392875|a73ee510|3b08e48b|860c302b|156f99ef|30735474|1adce6ef|0e78291e|5fbf4a84|e5ba7672|1999bae9|    null|    null|deb9605d|    null|32c7478e|e448275f|    null|    null|\n",
      "+---+----+---+----+----+-----+----+---+---+----+----+---+----+----+--------+--------+--------+--------+--------+--------+--------+--------+--------+--------+--------+--------+--------+--------+--------+--------+--------+--------+--------+--------+--------+--------+--------+--------+--------+--------+\n",
      "only showing top 20 rows\n",
      "\n"
     ]
    }
   ],
   "source": [
    "criteo.show()"
   ]
  },
  {
   "cell_type": "code",
   "execution_count": 7,
   "metadata": {},
   "outputs": [
    {
     "name": "stdout",
     "output_type": "stream",
     "text": [
      "+-------+-------------------+\n",
      "|summary|                ctr|\n",
      "+-------+-------------------+\n",
      "|  count|           45840616|\n",
      "|   mean|0.25622338931920113|\n",
      "| stddev| 0.4365466392520697|\n",
      "|    min|                  0|\n",
      "|    max|                  1|\n",
      "+-------+-------------------+\n",
      "\n",
      "+-------+------------------+\n",
      "|summary|               i01|\n",
      "+-------+------------------+\n",
      "|  count|          25047060|\n",
      "|   mean|3.5024134169838694|\n",
      "| stddev| 9.429076582074764|\n",
      "|    min|                 0|\n",
      "|    max|              5775|\n",
      "+-------+------------------+\n",
      "\n",
      "+-------+------------------+\n",
      "|summary|               i02|\n",
      "+-------+------------------+\n",
      "|  count|          45840616|\n",
      "|   mean|105.84842208490392|\n",
      "| stddev| 391.4578266505335|\n",
      "|    min|                -3|\n",
      "|    max|            257675|\n",
      "+-------+------------------+\n",
      "\n",
      "+-------+------------------+\n",
      "|summary|               i03|\n",
      "+-------+------------------+\n",
      "|  count|          36001169|\n",
      "|   mean|26.913041629287093|\n",
      "| stddev| 397.9725885331938|\n",
      "|    min|                 0|\n",
      "|    max|             65535|\n",
      "+-------+------------------+\n",
      "\n",
      "+-------+-----------------+\n",
      "|summary|              i04|\n",
      "+-------+-----------------+\n",
      "|  count|         35903247|\n",
      "|   mean|7.322680452829238|\n",
      "| stddev| 8.79323075017961|\n",
      "|    min|                0|\n",
      "|    max|              969|\n",
      "+-------+-----------------+\n",
      "\n",
      "+-------+-----------------+\n",
      "|summary|              i05|\n",
      "+-------+-----------------+\n",
      "|  count|         44657499|\n",
      "|   mean|18538.99204906213|\n",
      "| stddev|69394.60257569488|\n",
      "|    min|                0|\n",
      "|    max|         23159456|\n",
      "+-------+-----------------+\n",
      "\n",
      "+-------+------------------+\n",
      "|summary|               i06|\n",
      "+-------+------------------+\n",
      "|  count|          35588288|\n",
      "|   mean|116.06185400095671|\n",
      "| stddev|  382.566454284951|\n",
      "|    min|                 0|\n",
      "|    max|            431037|\n",
      "+-------+------------------+\n",
      "\n",
      "+-------+-----------------+\n",
      "|summary|              i07|\n",
      "+-------+-----------------+\n",
      "|  count|         43857750|\n",
      "|   mean|16.33313006253171|\n",
      "| stddev|66.04975599781022|\n",
      "|    min|                0|\n",
      "|    max|            56311|\n",
      "+-------+-----------------+\n",
      "\n",
      "+-------+------------------+\n",
      "|summary|               i08|\n",
      "+-------+------------------+\n",
      "|  count|          45817843|\n",
      "|   mean|12.517042367097028|\n",
      "| stddev| 16.68888467758354|\n",
      "|    min|                 0|\n",
      "|    max|              6047|\n",
      "+-------+------------------+\n",
      "\n",
      "+-------+------------------+\n",
      "|summary|               i09|\n",
      "+-------+------------------+\n",
      "|  count|          43857750|\n",
      "|   mean|106.10982173048093|\n",
      "| stddev|220.28309620755311|\n",
      "|    min|                 0|\n",
      "|    max|             29019|\n",
      "+-------+------------------+\n",
      "\n",
      "+-------+------------------+\n",
      "|summary|               i10|\n",
      "+-------+------------------+\n",
      "|  count|          25047060|\n",
      "|   mean| 0.617529482502138|\n",
      "| stddev|0.6840505647840608|\n",
      "|    min|                 0|\n",
      "|    max|                11|\n",
      "+-------+------------------+\n",
      "\n",
      "+-------+------------------+\n",
      "|summary|               i11|\n",
      "+-------+------------------+\n",
      "|  count|          43857750|\n",
      "|   mean|2.7328343337266503|\n",
      "| stddev| 5.199070942905693|\n",
      "|    min|                 0|\n",
      "|    max|               231|\n",
      "+-------+------------------+\n",
      "\n",
      "+-------+------------------+\n",
      "|summary|               i12|\n",
      "+-------+------------------+\n",
      "|  count|          10768965|\n",
      "|   mean|0.9910356287721244|\n",
      "| stddev| 5.597723872237179|\n",
      "|    min|                 0|\n",
      "|    max|              4008|\n",
      "+-------+------------------+\n",
      "\n",
      "+-------+------------------+\n",
      "|summary|               i13|\n",
      "+-------+------------------+\n",
      "|  count|          35903247|\n",
      "|   mean| 8.217461334346723|\n",
      "| stddev|16.211932750739358|\n",
      "|    min|                 0|\n",
      "|    max|              7393|\n",
      "+-------+------------------+\n",
      "\n",
      "+-------+--------+\n",
      "|summary|     s01|\n",
      "+-------+--------+\n",
      "|  count|45840616|\n",
      "|   mean|Infinity|\n",
      "| stddev|     NaN|\n",
      "|    min|000d72dd|\n",
      "|    max|ffe3cd83|\n",
      "+-------+--------+\n",
      "\n",
      "+-------+--------+\n",
      "|summary|     s02|\n",
      "+-------+--------+\n",
      "|  count|45840616|\n",
      "|   mean|Infinity|\n",
      "| stddev|     NaN|\n",
      "|    min|00ac063c|\n",
      "|    max|fff6365b|\n",
      "+-------+--------+\n",
      "\n",
      "+-------+--------+\n",
      "|summary|     s03|\n",
      "+-------+--------+\n",
      "|  count|44281143|\n",
      "|   mean|Infinity|\n",
      "| stddev|     NaN|\n",
      "|    min|000002fc|\n",
      "|    max|fffffffd|\n",
      "+-------+--------+\n",
      "\n",
      "+-------+--------+\n",
      "|summary|     s04|\n",
      "+-------+--------+\n",
      "|  count|44281143|\n",
      "|   mean|Infinity|\n",
      "| stddev|     NaN|\n",
      "|    min|0000114b|\n",
      "|    max|fffff9c2|\n",
      "+-------+--------+\n",
      "\n",
      "+-------+--------+\n",
      "|summary|     s05|\n",
      "+-------+--------+\n",
      "|  count|45840616|\n",
      "|   mean|Infinity|\n",
      "| stddev|     NaN|\n",
      "|    min|01f8694b|\n",
      "|    max|ffcbb58b|\n",
      "+-------+--------+\n",
      "\n",
      "+-------+-----------+\n",
      "|summary|        s06|\n",
      "+-------+-----------+\n",
      "|  count|   40299991|\n",
      "|   mean|5.1247667E7|\n",
      "| stddev|        0.0|\n",
      "|    min|   051f8ea4|\n",
      "|    max|   fe6b92e5|\n",
      "+-------+-----------+\n",
      "\n",
      "+-------+--------+\n",
      "|summary|     s07|\n",
      "+-------+--------+\n",
      "|  count|45840616|\n",
      "|   mean|Infinity|\n",
      "| stddev|     NaN|\n",
      "|    min|0008893e|\n",
      "|    max|fffdd9e1|\n",
      "+-------+--------+\n",
      "\n",
      "+-------+--------+\n",
      "|summary|     s08|\n",
      "+-------+--------+\n",
      "|  count|45840616|\n",
      "|   mean|Infinity|\n",
      "| stddev|     NaN|\n",
      "|    min|00154344|\n",
      "|    max|fff579b7|\n",
      "+-------+--------+\n",
      "\n",
      "+-------+--------+\n",
      "|summary|     s09|\n",
      "+-------+--------+\n",
      "|  count|45840616|\n",
      "|   mean|    null|\n",
      "| stddev|    null|\n",
      "|    min|7cc72ec2|\n",
      "|    max|a73ee510|\n",
      "+-------+--------+\n",
      "\n",
      "+-------+--------+\n",
      "|summary|     s10|\n",
      "+-------+--------+\n",
      "|  count|45840616|\n",
      "|   mean|Infinity|\n",
      "| stddev|     NaN|\n",
      "|    min|0000734a|\n",
      "|    max|fffed9e1|\n",
      "+-------+--------+\n",
      "\n",
      "+-------+--------+\n",
      "|summary|     s11|\n",
      "+-------+--------+\n",
      "|  count|45840616|\n",
      "|   mean|Infinity|\n",
      "| stddev|     NaN|\n",
      "|    min|0005a406|\n",
      "|    max|fffb9cd7|\n",
      "+-------+--------+\n",
      "\n",
      "+-------+--------+\n",
      "|summary|     s12|\n",
      "+-------+--------+\n",
      "|  count|44281143|\n",
      "|   mean|Infinity|\n",
      "| stddev|     NaN|\n",
      "|    min|00000705|\n",
      "|    max|fffffff9|\n",
      "+-------+--------+\n",
      "\n",
      "+-------+--------+\n",
      "|summary|     s13|\n",
      "+-------+--------+\n",
      "|  count|45840616|\n",
      "|   mean|Infinity|\n",
      "| stddev|     NaN|\n",
      "|    min|00041a6d|\n",
      "|    max|ffe269b6|\n",
      "+-------+--------+\n",
      "\n",
      "+-------+--------------------+\n",
      "|summary|                 s14|\n",
      "+-------+--------------------+\n",
      "|  count|            45840616|\n",
      "|   mean| 7.62958678973724E24|\n",
      "| stddev|1.386142728412620...|\n",
      "|    min|            051219e6|\n",
      "|    max|            f862f261|\n",
      "+-------+--------------------+\n",
      "\n",
      "+-------+--------+\n",
      "|summary|     s15|\n",
      "+-------+--------+\n",
      "|  count|45840616|\n",
      "|   mean|Infinity|\n",
      "| stddev|     NaN|\n",
      "|    min|0007c407|\n",
      "|    max|fffe5f26|\n",
      "+-------+--------+\n",
      "\n",
      "+-------+--------+\n",
      "|summary|     s16|\n",
      "+-------+--------+\n",
      "|  count|44281143|\n",
      "|   mean|Infinity|\n",
      "| stddev|     NaN|\n",
      "|    min|0000024d|\n",
      "|    max|ffffffa9|\n",
      "+-------+--------+\n",
      "\n",
      "+-------+---------+\n",
      "|summary|      s17|\n",
      "+-------+---------+\n",
      "|  count| 45840616|\n",
      "|   mean|3486227.0|\n",
      "| stddev|      0.0|\n",
      "|    min| 07c540c4|\n",
      "|    max| e5ba7672|\n",
      "+-------+---------+\n",
      "\n",
      "+-------+--------+\n",
      "|summary|     s18|\n",
      "+-------+--------+\n",
      "|  count|45840616|\n",
      "|   mean|Infinity|\n",
      "| stddev|     NaN|\n",
      "|    min|000964e4|\n",
      "|    max|fffe2a63|\n",
      "+-------+--------+\n",
      "\n",
      "+-------+--------+\n",
      "|summary|     s19|\n",
      "+-------+--------+\n",
      "|  count|25667758|\n",
      "|   mean|Infinity|\n",
      "| stddev|     NaN|\n",
      "|    min|0022a89c|\n",
      "|    max|fffaf113|\n",
      "+-------+--------+\n",
      "\n",
      "+-------+--------+\n",
      "|summary|     s20|\n",
      "+-------+--------+\n",
      "|  count|25667758|\n",
      "|   mean|    null|\n",
      "| stddev|    null|\n",
      "|    min|5840adea|\n",
      "|    max|b1252a9d|\n",
      "+-------+--------+\n",
      "\n",
      "+-------+--------+\n",
      "|summary|     s21|\n",
      "+-------+--------+\n",
      "|  count|44281143|\n",
      "|   mean|Infinity|\n",
      "| stddev|     NaN|\n",
      "|    min|0000004a|\n",
      "|    max|fffffdbe|\n",
      "+-------+--------+\n",
      "\n",
      "+-------+--------------------+\n",
      "|summary|                 s22|\n",
      "+-------+--------------------+\n",
      "|  count|            10885544|\n",
      "|   mean|1.193142857142856...|\n",
      "| stddev|8.938885283025664E95|\n",
      "|    min|            032641cc|\n",
      "|    max|            f4dc011d|\n",
      "+-------+--------------------+\n",
      "\n",
      "+-------+-----------+\n",
      "|summary|        s23|\n",
      "+-------+-----------+\n",
      "|  count|   45840616|\n",
      "|   mean|7.2592995E7|\n",
      "| stddev|        0.0|\n",
      "|    min|   003cc7f4|\n",
      "|    max|   dbb486d7|\n",
      "+-------+-----------+\n",
      "\n",
      "+-------+--------+\n",
      "|summary|     s24|\n",
      "+-------+--------+\n",
      "|  count|44281143|\n",
      "|   mean|Infinity|\n",
      "| stddev|     NaN|\n",
      "|    min|00000da1|\n",
      "|    max|ffffd1b9|\n",
      "+-------+--------+\n",
      "\n",
      "+-------+--------------------+\n",
      "|summary|                 s25|\n",
      "+-------+--------------------+\n",
      "|  count|            25667758|\n",
      "|   mean| 6.24451586206896E94|\n",
      "| stddev|4.747804981910348E94|\n",
      "|    min|            001f3601|\n",
      "|    max|            ff9cb112|\n",
      "+-------+--------------------+\n",
      "\n",
      "+-------+--------+\n",
      "|summary|     s26|\n",
      "+-------+--------+\n",
      "|  count|25667758|\n",
      "|   mean|Infinity|\n",
      "| stddev|     NaN|\n",
      "|    min|000009df|\n",
      "|    max|ffffdf86|\n",
      "+-------+--------+\n",
      "\n"
     ]
    }
   ],
   "source": [
    "for column in criteo.columns:\n",
    "    criteo.describe(column).show()"
   ]
  },
  {
   "cell_type": "code",
   "execution_count": 8,
   "metadata": {},
   "outputs": [],
   "source": [
    "s25_count = criteo.groupby(\"s25\").count().sort('count', ascending=False).toPandas()"
   ]
  },
  {
   "cell_type": "code",
   "execution_count": 9,
   "metadata": {},
   "outputs": [
    {
     "data": {
      "text/html": [
       "<div>\n",
       "<style scoped>\n",
       "    .dataframe tbody tr th:only-of-type {\n",
       "        vertical-align: middle;\n",
       "    }\n",
       "\n",
       "    .dataframe tbody tr th {\n",
       "        vertical-align: top;\n",
       "    }\n",
       "\n",
       "    .dataframe thead th {\n",
       "        text-align: right;\n",
       "    }\n",
       "</style>\n",
       "<table border=\"1\" class=\"dataframe\">\n",
       "  <thead>\n",
       "    <tr style=\"text-align: right;\">\n",
       "      <th></th>\n",
       "      <th>s25</th>\n",
       "      <th>count</th>\n",
       "    </tr>\n",
       "  </thead>\n",
       "  <tbody>\n",
       "    <tr>\n",
       "      <th>0</th>\n",
       "      <td>None</td>\n",
       "      <td>20172858</td>\n",
       "    </tr>\n",
       "    <tr>\n",
       "      <th>1</th>\n",
       "      <td>001f3601</td>\n",
       "      <td>6557407</td>\n",
       "    </tr>\n",
       "    <tr>\n",
       "      <th>2</th>\n",
       "      <td>e8b83407</td>\n",
       "      <td>4976913</td>\n",
       "    </tr>\n",
       "    <tr>\n",
       "      <th>3</th>\n",
       "      <td>ea9a246c</td>\n",
       "      <td>3674247</td>\n",
       "    </tr>\n",
       "    <tr>\n",
       "      <th>4</th>\n",
       "      <td>cb079c2d</td>\n",
       "      <td>1814255</td>\n",
       "    </tr>\n",
       "  </tbody>\n",
       "</table>\n",
       "</div>"
      ],
      "text/plain": [
       "        s25     count\n",
       "0      None  20172858\n",
       "1  001f3601   6557407\n",
       "2  e8b83407   4976913\n",
       "3  ea9a246c   3674247\n",
       "4  cb079c2d   1814255"
      ]
     },
     "execution_count": 9,
     "metadata": {},
     "output_type": "execute_result"
    }
   ],
   "source": [
    "s25_count.head()"
   ]
  },
  {
   "cell_type": "code",
   "execution_count": 10,
   "metadata": {},
   "outputs": [
    {
     "data": {
      "text/plain": [
       "0      44.006516\n",
       "1      14.304797\n",
       "2      10.856994\n",
       "3       8.015265\n",
       "4       3.957746\n",
       "         ...    \n",
       "100     0.000004\n",
       "101     0.000004\n",
       "102     0.000004\n",
       "103     0.000002\n",
       "104     0.000002\n",
       "Name: count, Length: 105, dtype: float64"
      ]
     },
     "execution_count": 10,
     "metadata": {},
     "output_type": "execute_result"
    }
   ],
   "source": [
    "(s25_count['count'] /s25_count['count'].sum()) * 100"
   ]
  },
  {
   "cell_type": "markdown",
   "metadata": {},
   "source": [
    "## Examine Null Values"
   ]
  },
  {
   "cell_type": "code",
   "execution_count": 11,
   "metadata": {},
   "outputs": [],
   "source": [
    "NROWS = criteo.count()"
   ]
  },
  {
   "cell_type": "code",
   "execution_count": 12,
   "metadata": {},
   "outputs": [
    {
     "data": {
      "text/plain": [
       "20172858"
      ]
     },
     "execution_count": 12,
     "metadata": {},
     "output_type": "execute_result"
    }
   ],
   "source": [
    "criteo.where(criteo[\"s25\"].isNull()).count()"
   ]
  },
  {
   "cell_type": "code",
   "execution_count": 13,
   "metadata": {},
   "outputs": [],
   "source": [
    "null_dict = {'column': [], 'count': []}\n",
    "\n",
    "categorical_columns = [ col for col in criteo.columns if 's' in col] \n",
    "\n",
    "for col in categorical_columns:\n",
    "    null_count = criteo.where(criteo[col].isNull()).count()\n",
    "    null_dict['column'].append(col)\n",
    "    null_dict['count'].append(null_count)"
   ]
  },
  {
   "cell_type": "code",
   "execution_count": 14,
   "metadata": {},
   "outputs": [],
   "source": [
    "null_df = pd.DataFrame.from_dict(null_dict)"
   ]
  },
  {
   "cell_type": "code",
   "execution_count": 15,
   "metadata": {},
   "outputs": [
    {
     "data": {
      "text/html": [
       "<div>\n",
       "<style scoped>\n",
       "    .dataframe tbody tr th:only-of-type {\n",
       "        vertical-align: middle;\n",
       "    }\n",
       "\n",
       "    .dataframe tbody tr th {\n",
       "        vertical-align: top;\n",
       "    }\n",
       "\n",
       "    .dataframe thead th {\n",
       "        text-align: right;\n",
       "    }\n",
       "</style>\n",
       "<table border=\"1\" class=\"dataframe\">\n",
       "  <thead>\n",
       "    <tr style=\"text-align: right;\">\n",
       "      <th></th>\n",
       "      <th>column</th>\n",
       "      <th>count</th>\n",
       "    </tr>\n",
       "  </thead>\n",
       "  <tbody>\n",
       "    <tr>\n",
       "      <th>0</th>\n",
       "      <td>s01</td>\n",
       "      <td>0</td>\n",
       "    </tr>\n",
       "    <tr>\n",
       "      <th>1</th>\n",
       "      <td>s02</td>\n",
       "      <td>0</td>\n",
       "    </tr>\n",
       "    <tr>\n",
       "      <th>2</th>\n",
       "      <td>s03</td>\n",
       "      <td>1559473</td>\n",
       "    </tr>\n",
       "    <tr>\n",
       "      <th>3</th>\n",
       "      <td>s04</td>\n",
       "      <td>1559473</td>\n",
       "    </tr>\n",
       "    <tr>\n",
       "      <th>4</th>\n",
       "      <td>s05</td>\n",
       "      <td>0</td>\n",
       "    </tr>\n",
       "    <tr>\n",
       "      <th>5</th>\n",
       "      <td>s06</td>\n",
       "      <td>5540625</td>\n",
       "    </tr>\n",
       "    <tr>\n",
       "      <th>6</th>\n",
       "      <td>s07</td>\n",
       "      <td>0</td>\n",
       "    </tr>\n",
       "    <tr>\n",
       "      <th>7</th>\n",
       "      <td>s08</td>\n",
       "      <td>0</td>\n",
       "    </tr>\n",
       "    <tr>\n",
       "      <th>8</th>\n",
       "      <td>s09</td>\n",
       "      <td>0</td>\n",
       "    </tr>\n",
       "    <tr>\n",
       "      <th>9</th>\n",
       "      <td>s10</td>\n",
       "      <td>0</td>\n",
       "    </tr>\n",
       "    <tr>\n",
       "      <th>10</th>\n",
       "      <td>s11</td>\n",
       "      <td>0</td>\n",
       "    </tr>\n",
       "    <tr>\n",
       "      <th>11</th>\n",
       "      <td>s12</td>\n",
       "      <td>1559473</td>\n",
       "    </tr>\n",
       "    <tr>\n",
       "      <th>12</th>\n",
       "      <td>s13</td>\n",
       "      <td>0</td>\n",
       "    </tr>\n",
       "    <tr>\n",
       "      <th>13</th>\n",
       "      <td>s14</td>\n",
       "      <td>0</td>\n",
       "    </tr>\n",
       "    <tr>\n",
       "      <th>14</th>\n",
       "      <td>s15</td>\n",
       "      <td>0</td>\n",
       "    </tr>\n",
       "    <tr>\n",
       "      <th>15</th>\n",
       "      <td>s16</td>\n",
       "      <td>1559473</td>\n",
       "    </tr>\n",
       "    <tr>\n",
       "      <th>16</th>\n",
       "      <td>s17</td>\n",
       "      <td>0</td>\n",
       "    </tr>\n",
       "    <tr>\n",
       "      <th>17</th>\n",
       "      <td>s18</td>\n",
       "      <td>0</td>\n",
       "    </tr>\n",
       "    <tr>\n",
       "      <th>18</th>\n",
       "      <td>s19</td>\n",
       "      <td>20172858</td>\n",
       "    </tr>\n",
       "    <tr>\n",
       "      <th>19</th>\n",
       "      <td>s20</td>\n",
       "      <td>20172858</td>\n",
       "    </tr>\n",
       "    <tr>\n",
       "      <th>20</th>\n",
       "      <td>s21</td>\n",
       "      <td>1559473</td>\n",
       "    </tr>\n",
       "    <tr>\n",
       "      <th>21</th>\n",
       "      <td>s22</td>\n",
       "      <td>34955072</td>\n",
       "    </tr>\n",
       "    <tr>\n",
       "      <th>22</th>\n",
       "      <td>s23</td>\n",
       "      <td>0</td>\n",
       "    </tr>\n",
       "    <tr>\n",
       "      <th>23</th>\n",
       "      <td>s24</td>\n",
       "      <td>1559473</td>\n",
       "    </tr>\n",
       "    <tr>\n",
       "      <th>24</th>\n",
       "      <td>s25</td>\n",
       "      <td>20172858</td>\n",
       "    </tr>\n",
       "    <tr>\n",
       "      <th>25</th>\n",
       "      <td>s26</td>\n",
       "      <td>20172858</td>\n",
       "    </tr>\n",
       "  </tbody>\n",
       "</table>\n",
       "</div>"
      ],
      "text/plain": [
       "   column     count\n",
       "0     s01         0\n",
       "1     s02         0\n",
       "2     s03   1559473\n",
       "3     s04   1559473\n",
       "4     s05         0\n",
       "5     s06   5540625\n",
       "6     s07         0\n",
       "7     s08         0\n",
       "8     s09         0\n",
       "9     s10         0\n",
       "10    s11         0\n",
       "11    s12   1559473\n",
       "12    s13         0\n",
       "13    s14         0\n",
       "14    s15         0\n",
       "15    s16   1559473\n",
       "16    s17         0\n",
       "17    s18         0\n",
       "18    s19  20172858\n",
       "19    s20  20172858\n",
       "20    s21   1559473\n",
       "21    s22  34955072\n",
       "22    s23         0\n",
       "23    s24   1559473\n",
       "24    s25  20172858\n",
       "25    s26  20172858"
      ]
     },
     "execution_count": 15,
     "metadata": {},
     "output_type": "execute_result"
    }
   ],
   "source": [
    "null_df.head(30)"
   ]
  },
  {
   "cell_type": "markdown",
   "metadata": {},
   "source": [
    "### Examine categorcial columns with more than 40% null values"
   ]
  },
  {
   "cell_type": "code",
   "execution_count": 16,
   "metadata": {},
   "outputs": [
    {
     "data": {
      "text/html": [
       "<div>\n",
       "<style scoped>\n",
       "    .dataframe tbody tr th:only-of-type {\n",
       "        vertical-align: middle;\n",
       "    }\n",
       "\n",
       "    .dataframe tbody tr th {\n",
       "        vertical-align: top;\n",
       "    }\n",
       "\n",
       "    .dataframe thead th {\n",
       "        text-align: right;\n",
       "    }\n",
       "</style>\n",
       "<table border=\"1\" class=\"dataframe\">\n",
       "  <thead>\n",
       "    <tr style=\"text-align: right;\">\n",
       "      <th></th>\n",
       "      <th>column</th>\n",
       "      <th>count</th>\n",
       "      <th>pct</th>\n",
       "    </tr>\n",
       "  </thead>\n",
       "  <tbody>\n",
       "    <tr>\n",
       "      <th>21</th>\n",
       "      <td>s22</td>\n",
       "      <td>34955072</td>\n",
       "      <td>76.253495</td>\n",
       "    </tr>\n",
       "    <tr>\n",
       "      <th>25</th>\n",
       "      <td>s26</td>\n",
       "      <td>20172858</td>\n",
       "      <td>44.006516</td>\n",
       "    </tr>\n",
       "    <tr>\n",
       "      <th>24</th>\n",
       "      <td>s25</td>\n",
       "      <td>20172858</td>\n",
       "      <td>44.006516</td>\n",
       "    </tr>\n",
       "    <tr>\n",
       "      <th>19</th>\n",
       "      <td>s20</td>\n",
       "      <td>20172858</td>\n",
       "      <td>44.006516</td>\n",
       "    </tr>\n",
       "    <tr>\n",
       "      <th>18</th>\n",
       "      <td>s19</td>\n",
       "      <td>20172858</td>\n",
       "      <td>44.006516</td>\n",
       "    </tr>\n",
       "    <tr>\n",
       "      <th>5</th>\n",
       "      <td>s06</td>\n",
       "      <td>5540625</td>\n",
       "      <td>12.086716</td>\n",
       "    </tr>\n",
       "    <tr>\n",
       "      <th>15</th>\n",
       "      <td>s16</td>\n",
       "      <td>1559473</td>\n",
       "      <td>3.401946</td>\n",
       "    </tr>\n",
       "    <tr>\n",
       "      <th>2</th>\n",
       "      <td>s03</td>\n",
       "      <td>1559473</td>\n",
       "      <td>3.401946</td>\n",
       "    </tr>\n",
       "    <tr>\n",
       "      <th>3</th>\n",
       "      <td>s04</td>\n",
       "      <td>1559473</td>\n",
       "      <td>3.401946</td>\n",
       "    </tr>\n",
       "    <tr>\n",
       "      <th>23</th>\n",
       "      <td>s24</td>\n",
       "      <td>1559473</td>\n",
       "      <td>3.401946</td>\n",
       "    </tr>\n",
       "  </tbody>\n",
       "</table>\n",
       "</div>"
      ],
      "text/plain": [
       "   column     count        pct\n",
       "21    s22  34955072  76.253495\n",
       "25    s26  20172858  44.006516\n",
       "24    s25  20172858  44.006516\n",
       "19    s20  20172858  44.006516\n",
       "18    s19  20172858  44.006516\n",
       "5     s06   5540625  12.086716\n",
       "15    s16   1559473   3.401946\n",
       "2     s03   1559473   3.401946\n",
       "3     s04   1559473   3.401946\n",
       "23    s24   1559473   3.401946"
      ]
     },
     "execution_count": 16,
     "metadata": {},
     "output_type": "execute_result"
    }
   ],
   "source": [
    "null_df_pct = null_df.copy()\n",
    "null_df_pct['pct'] = (null_df_pct['count']/NROWS) * 100\n",
    "\n",
    "null_df_pct = null_df_pct.sort_values(by='pct', ascending=False)\n",
    "null_df_pct.head(10)"
   ]
  },
  {
   "cell_type": "markdown",
   "metadata": {},
   "source": [
    "Get the columns with more than 40% null values"
   ]
  },
  {
   "cell_type": "code",
   "execution_count": 17,
   "metadata": {},
   "outputs": [
    {
     "data": {
      "text/plain": [
       "['s22', 's26', 's25', 's20', 's19']"
      ]
     },
     "execution_count": 17,
     "metadata": {},
     "output_type": "execute_result"
    }
   ],
   "source": [
    "high_null_list = null_df_pct[null_df_pct['pct'] > 40]['column'].to_list()\n",
    "high_null_list"
   ]
  },
  {
   "cell_type": "markdown",
   "metadata": {},
   "source": [
    "Explore removing these columns with a high number of null values"
   ]
  },
  {
   "cell_type": "markdown",
   "metadata": {},
   "source": [
    "#### Running a similar null check for numeric values"
   ]
  },
  {
   "cell_type": "code",
   "execution_count": null,
   "metadata": {},
   "outputs": [],
   "source": [
    "inull_dict = {'column': [], 'count': []}\n",
    "\n",
    "numeric_columns = [ col for col in criteo.columns if 'i' in col] \n",
    "\n",
    "for col in numeric_columns:\n",
    "    inull_count = criteo.where(criteo[col].isNull()).count()\n",
    "    inull_dict['column'].append(col)\n",
    "    inull_dict['count'].append(inull_count)"
   ]
  },
  {
   "cell_type": "code",
   "execution_count": null,
   "metadata": {},
   "outputs": [],
   "source": [
    "inull_df = pd.DataFrame.from_dict(inull_dict)\n",
    "inull_df.head(10)"
   ]
  },
  {
   "cell_type": "code",
   "execution_count": null,
   "metadata": {},
   "outputs": [],
   "source": [
    "inull_df_pct = inull_df.copy()\n",
    "inull_df_pct['pct'] = (inull_df_pct['count']/NROWS) * 100\n",
    "inull_df_pct"
   ]
  },
  {
   "cell_type": "markdown",
   "metadata": {},
   "source": [
    "#### Check if same rows have nulls"
   ]
  },
  {
   "cell_type": "code",
   "execution_count": null,
   "metadata": {},
   "outputs": [],
   "source": [
    "inull_criteo = criteo.where(criteo['i01'].isNull())"
   ]
  },
  {
   "cell_type": "code",
   "execution_count": null,
   "metadata": {},
   "outputs": [],
   "source": [
    "inull_dict = {'column': [], 'count': []}\n",
    "\n",
    "numeric_columns = [ 'i01', 'i10', 's25', 's26', 's20'] \n",
    "\n",
    "for col in numeric_columns:\n",
    "    inull_count = inull_criteo.where(inull_criteo[col].isNull()).count()\n",
    "    inull_dict['column'].append(col)\n",
    "    inull_dict['count'].append(inull_count)"
   ]
  },
  {
   "cell_type": "code",
   "execution_count": null,
   "metadata": {},
   "outputs": [],
   "source": [
    "inull_df = pd.DataFrame.from_dict(inull_dict)\n",
    "inull_df.head(10)"
   ]
  },
  {
   "cell_type": "markdown",
   "metadata": {},
   "source": [
    "#### Do the same for the categorical variables"
   ]
  },
  {
   "cell_type": "code",
   "execution_count": null,
   "metadata": {},
   "outputs": [],
   "source": [
    "snull_criteo = criteo.where(criteo['s25'].isNull())\n",
    "\n",
    "snull_dict = {'column': [], 'count': []}\n",
    "\n",
    "string_columns = [ 's25', 's26', 's20', 's19', 'i01', 'i10'] \n",
    "\n",
    "for col in string_columns:\n",
    "    snull_count = snull_criteo.where(snull_criteo[col].isNull()).count()\n",
    "    snull_dict['column'].append(col)\n",
    "    snull_dict['count'].append(snull_count)"
   ]
  },
  {
   "cell_type": "code",
   "execution_count": null,
   "metadata": {},
   "outputs": [],
   "source": [
    "snull_df = pd.DataFrame.from_dict(snull_dict)\n",
    "snull_df.head(10)"
   ]
  },
  {
   "cell_type": "markdown",
   "metadata": {},
   "source": [
    "#### Look at the distribution of CTR across these columns"
   ]
  },
  {
   "cell_type": "code",
   "execution_count": null,
   "metadata": {},
   "outputs": [],
   "source": [
    "# ctr of numeric null values\n",
    "inull_criteo.groupby(\"ctr\").count().toPandas()"
   ]
  },
  {
   "cell_type": "code",
   "execution_count": null,
   "metadata": {},
   "outputs": [],
   "source": [
    "# ctr of categorical null values\n",
    "snull_criteo.groupby(\"ctr\").count().toPandas()"
   ]
  },
  {
   "cell_type": "code",
   "execution_count": null,
   "metadata": {},
   "outputs": [],
   "source": [
    "# for all the values"
   ]
  },
  {
   "cell_type": "code",
   "execution_count": null,
   "metadata": {},
   "outputs": [],
   "source": [
    "criteo.groupby(\"ctr\").count().toPandas()"
   ]
  },
  {
   "cell_type": "markdown",
   "metadata": {},
   "source": [
    "No discernible difference in CTR count for null values"
   ]
  },
  {
   "cell_type": "markdown",
   "metadata": {},
   "source": [
    "### Distribution of high cardinality categorical features"
   ]
  },
  {
   "cell_type": "code",
   "execution_count": null,
   "metadata": {},
   "outputs": [],
   "source": [
    "from IPython.display import display"
   ]
  },
  {
   "cell_type": "code",
   "execution_count": null,
   "metadata": {},
   "outputs": [],
   "source": [
    "for col in categorical_columns:\n",
    "    col_df = criteo.groupby(col).count().sort('count', ascending=False).toPandas()\n",
    "    col_df['pct'] = (g_df['count'] / NROWS) * 100\n",
    "    print(col, ':\\n')\n",
    "    display(col_df.head(20))"
   ]
  },
  {
   "cell_type": "code",
   "execution_count": null,
   "metadata": {},
   "outputs": [],
   "source": []
  }
 ],
 "metadata": {
  "kernelspec": {
   "display_name": "Python 3",
   "language": "python",
   "name": "python3"
  },
  "language_info": {
   "codemirror_mode": {
    "name": "ipython",
    "version": 3
   },
   "file_extension": ".py",
   "mimetype": "text/x-python",
   "name": "python",
   "nbconvert_exporter": "python",
   "pygments_lexer": "ipython3",
   "version": "3.7.3"
  }
 },
 "nbformat": 4,
 "nbformat_minor": 4
}
